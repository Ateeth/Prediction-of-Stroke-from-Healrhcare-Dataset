{
  "cells": [
    {
      "cell_type": "markdown",
      "metadata": {
        "id": "view-in-github",
        "colab_type": "text"
      },
      "source": [
        "<a href=\"https://colab.research.google.com/github/Ateeth/Prediction-of-Stroke-from-Healthcare-Dataset/blob/main/Predictive_Analytics_Review2Part.ipynb\" target=\"_parent\"><img src=\"https://colab.research.google.com/assets/colab-badge.svg\" alt=\"Open In Colab\"/></a>"
      ]
    },
    {
      "cell_type": "code",
      "execution_count": 1,
      "metadata": {
        "id": "e_28kIq4fMV4",
        "colab": {
          "base_uri": "https://localhost:8080/",
          "height": 17
        },
        "outputId": "13cd1ab5-9c9e-42de-e7af-2d459b4d053c"
      },
      "outputs": [
        {
          "output_type": "display_data",
          "data": {
            "text/html": [
              "        <script type=\"text/javascript\">\n",
              "        window.PlotlyConfig = {MathJaxConfig: 'local'};\n",
              "        if (window.MathJax) {MathJax.Hub.Config({SVG: {font: \"STIX-Web\"}});}\n",
              "        if (typeof require !== 'undefined') {\n",
              "        require.undef(\"plotly\");\n",
              "        requirejs.config({\n",
              "            paths: {\n",
              "                'plotly': ['https://cdn.plot.ly/plotly-2.8.3.min']\n",
              "            }\n",
              "        });\n",
              "        require(['plotly'], function(Plotly) {\n",
              "            window._Plotly = Plotly;\n",
              "        });\n",
              "        }\n",
              "        </script>\n",
              "        "
            ]
          },
          "metadata": {}
        }
      ],
      "source": [
        "import warnings \n",
        "warnings.filterwarnings('ignore')\n",
        "\n",
        "# basic libraries\n",
        "import os\n",
        "import numpy as np\n",
        "import pandas as pd\n",
        "import re\n",
        "import string\n",
        "from collections import Counter\n",
        "import time\n",
        "\n",
        "#visulaization modules\n",
        "\n",
        "%matplotlib inline\n",
        "import matplotlib\n",
        "import matplotlib.pyplot as plt\n",
        "import seaborn as sns\n",
        "import plotly.express as px\n",
        "import plotly.graph_objs as go\n",
        "from plotly.subplots import make_subplots\n",
        "from plotly.offline import iplot, init_notebook_mode\n",
        "\n",
        "plt.rc('figure',figsize=(17,13))\n",
        "sns.set_context('paper',font_scale=2)\n",
        "\n",
        "init_notebook_mode(connected= True)\n",
        "\n",
        "#Common model helpers\n",
        "from sklearn.preprocessing import (StandardScaler,\n",
        "                                   LabelEncoder,\n",
        "                                   OneHotEncoder)\n",
        "from sklearn import metrics\n",
        "from sklearn.model_selection import train_test_split\n",
        "\n",
        "from imblearn.over_sampling import SMOTE"
      ]
    },
    {
      "cell_type": "markdown",
      "metadata": {
        "id": "lmKMJEEBh7l8"
      },
      "source": [
        "**Import the Dataset**"
      ]
    },
    {
      "cell_type": "code",
      "execution_count": 2,
      "metadata": {
        "id": "MgbnEf-uhemF",
        "colab": {
          "base_uri": "https://localhost:8080/",
          "height": 426
        },
        "outputId": "59e99b8f-a799-4d3c-944f-c56f1842df33"
      },
      "outputs": [
        {
          "output_type": "execute_result",
          "data": {
            "text/plain": [
              "                                 0              1             2\n",
              "id                            9046          51676         31112\n",
              "gender                        Male         Female          Male\n",
              "age                           67.0           61.0          80.0\n",
              "hypertension                     0              0             0\n",
              "heart_disease                    1              0             1\n",
              "ever_married                   Yes            Yes           Yes\n",
              "work_type                  Private  Self-employed       Private\n",
              "Residence_type               Urban          Rural         Rural\n",
              "avg_glucose_level           228.69         202.21        105.92\n",
              "bmi                           36.6            NaN          32.5\n",
              "smoking_status     formerly smoked   never smoked  never smoked\n",
              "stroke                           1              1             1"
            ],
            "text/html": [
              "\n",
              "  <div id=\"df-1ea742ce-41b4-496a-b867-5e5e4e8eabfe\">\n",
              "    <div class=\"colab-df-container\">\n",
              "      <div>\n",
              "<style scoped>\n",
              "    .dataframe tbody tr th:only-of-type {\n",
              "        vertical-align: middle;\n",
              "    }\n",
              "\n",
              "    .dataframe tbody tr th {\n",
              "        vertical-align: top;\n",
              "    }\n",
              "\n",
              "    .dataframe thead th {\n",
              "        text-align: right;\n",
              "    }\n",
              "</style>\n",
              "<table border=\"1\" class=\"dataframe\">\n",
              "  <thead>\n",
              "    <tr style=\"text-align: right;\">\n",
              "      <th></th>\n",
              "      <th>0</th>\n",
              "      <th>1</th>\n",
              "      <th>2</th>\n",
              "    </tr>\n",
              "  </thead>\n",
              "  <tbody>\n",
              "    <tr>\n",
              "      <th>id</th>\n",
              "      <td>9046</td>\n",
              "      <td>51676</td>\n",
              "      <td>31112</td>\n",
              "    </tr>\n",
              "    <tr>\n",
              "      <th>gender</th>\n",
              "      <td>Male</td>\n",
              "      <td>Female</td>\n",
              "      <td>Male</td>\n",
              "    </tr>\n",
              "    <tr>\n",
              "      <th>age</th>\n",
              "      <td>67.0</td>\n",
              "      <td>61.0</td>\n",
              "      <td>80.0</td>\n",
              "    </tr>\n",
              "    <tr>\n",
              "      <th>hypertension</th>\n",
              "      <td>0</td>\n",
              "      <td>0</td>\n",
              "      <td>0</td>\n",
              "    </tr>\n",
              "    <tr>\n",
              "      <th>heart_disease</th>\n",
              "      <td>1</td>\n",
              "      <td>0</td>\n",
              "      <td>1</td>\n",
              "    </tr>\n",
              "    <tr>\n",
              "      <th>ever_married</th>\n",
              "      <td>Yes</td>\n",
              "      <td>Yes</td>\n",
              "      <td>Yes</td>\n",
              "    </tr>\n",
              "    <tr>\n",
              "      <th>work_type</th>\n",
              "      <td>Private</td>\n",
              "      <td>Self-employed</td>\n",
              "      <td>Private</td>\n",
              "    </tr>\n",
              "    <tr>\n",
              "      <th>Residence_type</th>\n",
              "      <td>Urban</td>\n",
              "      <td>Rural</td>\n",
              "      <td>Rural</td>\n",
              "    </tr>\n",
              "    <tr>\n",
              "      <th>avg_glucose_level</th>\n",
              "      <td>228.69</td>\n",
              "      <td>202.21</td>\n",
              "      <td>105.92</td>\n",
              "    </tr>\n",
              "    <tr>\n",
              "      <th>bmi</th>\n",
              "      <td>36.6</td>\n",
              "      <td>NaN</td>\n",
              "      <td>32.5</td>\n",
              "    </tr>\n",
              "    <tr>\n",
              "      <th>smoking_status</th>\n",
              "      <td>formerly smoked</td>\n",
              "      <td>never smoked</td>\n",
              "      <td>never smoked</td>\n",
              "    </tr>\n",
              "    <tr>\n",
              "      <th>stroke</th>\n",
              "      <td>1</td>\n",
              "      <td>1</td>\n",
              "      <td>1</td>\n",
              "    </tr>\n",
              "  </tbody>\n",
              "</table>\n",
              "</div>\n",
              "      <button class=\"colab-df-convert\" onclick=\"convertToInteractive('df-1ea742ce-41b4-496a-b867-5e5e4e8eabfe')\"\n",
              "              title=\"Convert this dataframe to an interactive table.\"\n",
              "              style=\"display:none;\">\n",
              "        \n",
              "  <svg xmlns=\"http://www.w3.org/2000/svg\" height=\"24px\"viewBox=\"0 0 24 24\"\n",
              "       width=\"24px\">\n",
              "    <path d=\"M0 0h24v24H0V0z\" fill=\"none\"/>\n",
              "    <path d=\"M18.56 5.44l.94 2.06.94-2.06 2.06-.94-2.06-.94-.94-2.06-.94 2.06-2.06.94zm-11 1L8.5 8.5l.94-2.06 2.06-.94-2.06-.94L8.5 2.5l-.94 2.06-2.06.94zm10 10l.94 2.06.94-2.06 2.06-.94-2.06-.94-.94-2.06-.94 2.06-2.06.94z\"/><path d=\"M17.41 7.96l-1.37-1.37c-.4-.4-.92-.59-1.43-.59-.52 0-1.04.2-1.43.59L10.3 9.45l-7.72 7.72c-.78.78-.78 2.05 0 2.83L4 21.41c.39.39.9.59 1.41.59.51 0 1.02-.2 1.41-.59l7.78-7.78 2.81-2.81c.8-.78.8-2.07 0-2.86zM5.41 20L4 18.59l7.72-7.72 1.47 1.35L5.41 20z\"/>\n",
              "  </svg>\n",
              "      </button>\n",
              "      \n",
              "  <style>\n",
              "    .colab-df-container {\n",
              "      display:flex;\n",
              "      flex-wrap:wrap;\n",
              "      gap: 12px;\n",
              "    }\n",
              "\n",
              "    .colab-df-convert {\n",
              "      background-color: #E8F0FE;\n",
              "      border: none;\n",
              "      border-radius: 50%;\n",
              "      cursor: pointer;\n",
              "      display: none;\n",
              "      fill: #1967D2;\n",
              "      height: 32px;\n",
              "      padding: 0 0 0 0;\n",
              "      width: 32px;\n",
              "    }\n",
              "\n",
              "    .colab-df-convert:hover {\n",
              "      background-color: #E2EBFA;\n",
              "      box-shadow: 0px 1px 2px rgba(60, 64, 67, 0.3), 0px 1px 3px 1px rgba(60, 64, 67, 0.15);\n",
              "      fill: #174EA6;\n",
              "    }\n",
              "\n",
              "    [theme=dark] .colab-df-convert {\n",
              "      background-color: #3B4455;\n",
              "      fill: #D2E3FC;\n",
              "    }\n",
              "\n",
              "    [theme=dark] .colab-df-convert:hover {\n",
              "      background-color: #434B5C;\n",
              "      box-shadow: 0px 1px 3px 1px rgba(0, 0, 0, 0.15);\n",
              "      filter: drop-shadow(0px 1px 2px rgba(0, 0, 0, 0.3));\n",
              "      fill: #FFFFFF;\n",
              "    }\n",
              "  </style>\n",
              "\n",
              "      <script>\n",
              "        const buttonEl =\n",
              "          document.querySelector('#df-1ea742ce-41b4-496a-b867-5e5e4e8eabfe button.colab-df-convert');\n",
              "        buttonEl.style.display =\n",
              "          google.colab.kernel.accessAllowed ? 'block' : 'none';\n",
              "\n",
              "        async function convertToInteractive(key) {\n",
              "          const element = document.querySelector('#df-1ea742ce-41b4-496a-b867-5e5e4e8eabfe');\n",
              "          const dataTable =\n",
              "            await google.colab.kernel.invokeFunction('convertToInteractive',\n",
              "                                                     [key], {});\n",
              "          if (!dataTable) return;\n",
              "\n",
              "          const docLinkHtml = 'Like what you see? Visit the ' +\n",
              "            '<a target=\"_blank\" href=https://colab.research.google.com/notebooks/data_table.ipynb>data table notebook</a>'\n",
              "            + ' to learn more about interactive tables.';\n",
              "          element.innerHTML = '';\n",
              "          dataTable['output_type'] = 'display_data';\n",
              "          await google.colab.output.renderOutput(dataTable, element);\n",
              "          const docLink = document.createElement('div');\n",
              "          docLink.innerHTML = docLinkHtml;\n",
              "          element.appendChild(docLink);\n",
              "        }\n",
              "      </script>\n",
              "    </div>\n",
              "  </div>\n",
              "  "
            ]
          },
          "metadata": {},
          "execution_count": 2
        }
      ],
      "source": [
        "df = pd.read_csv('https://raw.githubusercontent.com/Ateeth/Prediction-of-Stroke-from-Healthcare-Dataset/main/healthcare-dataset-stroke-data.csv', delimiter = ',', encoding = 'utf-8')\n",
        "df.head(3).T"
      ]
    },
    {
      "cell_type": "markdown",
      "metadata": {
        "id": "0jbcH83EKepJ"
      },
      "source": [
        "**Missing-Value Analysis**"
      ]
    },
    {
      "cell_type": "code",
      "execution_count": 3,
      "metadata": {
        "id": "gFgNxP1GKWgV",
        "colab": {
          "base_uri": "https://localhost:8080/"
        },
        "outputId": "1d61be38-9020-4887-9ed5-6dfe302d225f"
      },
      "outputs": [
        {
          "output_type": "stream",
          "name": "stdout",
          "text": [
            "<class 'pandas.core.frame.DataFrame'>\n",
            "RangeIndex: 5110 entries, 0 to 5109\n",
            "Data columns (total 12 columns):\n",
            " #   Column             Non-Null Count  Dtype  \n",
            "---  ------             --------------  -----  \n",
            " 0   id                 5110 non-null   int64  \n",
            " 1   gender             5110 non-null   object \n",
            " 2   age                5110 non-null   float64\n",
            " 3   hypertension       5110 non-null   int64  \n",
            " 4   heart_disease      5110 non-null   int64  \n",
            " 5   ever_married       5110 non-null   object \n",
            " 6   work_type          5110 non-null   object \n",
            " 7   Residence_type     5110 non-null   object \n",
            " 8   avg_glucose_level  5110 non-null   float64\n",
            " 9   bmi                4909 non-null   float64\n",
            " 10  smoking_status     5110 non-null   object \n",
            " 11  stroke             5110 non-null   int64  \n",
            "dtypes: float64(3), int64(4), object(5)\n",
            "memory usage: 479.2+ KB\n"
          ]
        }
      ],
      "source": [
        "df.info()"
      ]
    },
    {
      "cell_type": "markdown",
      "metadata": {
        "id": "0nkHx0b_pXWu"
      },
      "source": [
        "In our dataset, we have both numerical and categorical variables.\n",
        "\n",
        "It is essential to see whether columns are correctly inferred.\n",
        "\n",
        "The most important one to look for is our target variable 'stroke'\n",
        "\n",
        "'Stroke' is detected as an integer, not as an object.\n",
        "\n",
        "Target variable is coded as 1 for positive cases (has a stroke) and 0 for negative cases (does not have a stroke)\n",
        "\n",
        "Both 'Hypertension' and 'heart disease\" are detected as an integer, not as an object.\n",
        "\n",
        "We have 3 categorical variables, which we have to encode as numerical"
      ]
    },
    {
      "cell_type": "markdown",
      "metadata": {
        "id": "xczwMIoIejqK"
      },
      "source": [
        "**Statistics of numerical and categorical data**"
      ]
    },
    {
      "cell_type": "code",
      "execution_count": 4,
      "metadata": {
        "id": "w8hXwgAOerAG",
        "colab": {
          "base_uri": "https://localhost:8080/",
          "height": 300
        },
        "outputId": "49b1ca64-3f5d-4810-fb9a-64307a6ba7e9"
      },
      "outputs": [
        {
          "output_type": "execute_result",
          "data": {
            "text/plain": [
              "             id      age  hypertension  heart_disease  avg_glucose_level  \\\n",
              "count   5110.00  5110.00        5110.0        5110.00            5110.00   \n",
              "mean   36517.83    43.23           0.1           0.05             106.15   \n",
              "std    21161.72    22.61           0.3           0.23              45.28   \n",
              "min       67.00     0.08           0.0           0.00              55.12   \n",
              "25%    17741.25    25.00           0.0           0.00              77.24   \n",
              "50%    36932.00    45.00           0.0           0.00              91.88   \n",
              "75%    54682.00    61.00           0.0           0.00             114.09   \n",
              "max    72940.00    82.00           1.0           1.00             271.74   \n",
              "\n",
              "           bmi   stroke  \n",
              "count  4909.00  5110.00  \n",
              "mean     28.89     0.05  \n",
              "std       7.85     0.22  \n",
              "min      10.30     0.00  \n",
              "25%      23.50     0.00  \n",
              "50%      28.10     0.00  \n",
              "75%      33.10     0.00  \n",
              "max      97.60     1.00  "
            ],
            "text/html": [
              "\n",
              "  <div id=\"df-8d43de4a-e41c-4d36-a2ff-7cc91a144bfe\">\n",
              "    <div class=\"colab-df-container\">\n",
              "      <div>\n",
              "<style scoped>\n",
              "    .dataframe tbody tr th:only-of-type {\n",
              "        vertical-align: middle;\n",
              "    }\n",
              "\n",
              "    .dataframe tbody tr th {\n",
              "        vertical-align: top;\n",
              "    }\n",
              "\n",
              "    .dataframe thead th {\n",
              "        text-align: right;\n",
              "    }\n",
              "</style>\n",
              "<table border=\"1\" class=\"dataframe\">\n",
              "  <thead>\n",
              "    <tr style=\"text-align: right;\">\n",
              "      <th></th>\n",
              "      <th>id</th>\n",
              "      <th>age</th>\n",
              "      <th>hypertension</th>\n",
              "      <th>heart_disease</th>\n",
              "      <th>avg_glucose_level</th>\n",
              "      <th>bmi</th>\n",
              "      <th>stroke</th>\n",
              "    </tr>\n",
              "  </thead>\n",
              "  <tbody>\n",
              "    <tr>\n",
              "      <th>count</th>\n",
              "      <td>5110.00</td>\n",
              "      <td>5110.00</td>\n",
              "      <td>5110.0</td>\n",
              "      <td>5110.00</td>\n",
              "      <td>5110.00</td>\n",
              "      <td>4909.00</td>\n",
              "      <td>5110.00</td>\n",
              "    </tr>\n",
              "    <tr>\n",
              "      <th>mean</th>\n",
              "      <td>36517.83</td>\n",
              "      <td>43.23</td>\n",
              "      <td>0.1</td>\n",
              "      <td>0.05</td>\n",
              "      <td>106.15</td>\n",
              "      <td>28.89</td>\n",
              "      <td>0.05</td>\n",
              "    </tr>\n",
              "    <tr>\n",
              "      <th>std</th>\n",
              "      <td>21161.72</td>\n",
              "      <td>22.61</td>\n",
              "      <td>0.3</td>\n",
              "      <td>0.23</td>\n",
              "      <td>45.28</td>\n",
              "      <td>7.85</td>\n",
              "      <td>0.22</td>\n",
              "    </tr>\n",
              "    <tr>\n",
              "      <th>min</th>\n",
              "      <td>67.00</td>\n",
              "      <td>0.08</td>\n",
              "      <td>0.0</td>\n",
              "      <td>0.00</td>\n",
              "      <td>55.12</td>\n",
              "      <td>10.30</td>\n",
              "      <td>0.00</td>\n",
              "    </tr>\n",
              "    <tr>\n",
              "      <th>25%</th>\n",
              "      <td>17741.25</td>\n",
              "      <td>25.00</td>\n",
              "      <td>0.0</td>\n",
              "      <td>0.00</td>\n",
              "      <td>77.24</td>\n",
              "      <td>23.50</td>\n",
              "      <td>0.00</td>\n",
              "    </tr>\n",
              "    <tr>\n",
              "      <th>50%</th>\n",
              "      <td>36932.00</td>\n",
              "      <td>45.00</td>\n",
              "      <td>0.0</td>\n",
              "      <td>0.00</td>\n",
              "      <td>91.88</td>\n",
              "      <td>28.10</td>\n",
              "      <td>0.00</td>\n",
              "    </tr>\n",
              "    <tr>\n",
              "      <th>75%</th>\n",
              "      <td>54682.00</td>\n",
              "      <td>61.00</td>\n",
              "      <td>0.0</td>\n",
              "      <td>0.00</td>\n",
              "      <td>114.09</td>\n",
              "      <td>33.10</td>\n",
              "      <td>0.00</td>\n",
              "    </tr>\n",
              "    <tr>\n",
              "      <th>max</th>\n",
              "      <td>72940.00</td>\n",
              "      <td>82.00</td>\n",
              "      <td>1.0</td>\n",
              "      <td>1.00</td>\n",
              "      <td>271.74</td>\n",
              "      <td>97.60</td>\n",
              "      <td>1.00</td>\n",
              "    </tr>\n",
              "  </tbody>\n",
              "</table>\n",
              "</div>\n",
              "      <button class=\"colab-df-convert\" onclick=\"convertToInteractive('df-8d43de4a-e41c-4d36-a2ff-7cc91a144bfe')\"\n",
              "              title=\"Convert this dataframe to an interactive table.\"\n",
              "              style=\"display:none;\">\n",
              "        \n",
              "  <svg xmlns=\"http://www.w3.org/2000/svg\" height=\"24px\"viewBox=\"0 0 24 24\"\n",
              "       width=\"24px\">\n",
              "    <path d=\"M0 0h24v24H0V0z\" fill=\"none\"/>\n",
              "    <path d=\"M18.56 5.44l.94 2.06.94-2.06 2.06-.94-2.06-.94-.94-2.06-.94 2.06-2.06.94zm-11 1L8.5 8.5l.94-2.06 2.06-.94-2.06-.94L8.5 2.5l-.94 2.06-2.06.94zm10 10l.94 2.06.94-2.06 2.06-.94-2.06-.94-.94-2.06-.94 2.06-2.06.94z\"/><path d=\"M17.41 7.96l-1.37-1.37c-.4-.4-.92-.59-1.43-.59-.52 0-1.04.2-1.43.59L10.3 9.45l-7.72 7.72c-.78.78-.78 2.05 0 2.83L4 21.41c.39.39.9.59 1.41.59.51 0 1.02-.2 1.41-.59l7.78-7.78 2.81-2.81c.8-.78.8-2.07 0-2.86zM5.41 20L4 18.59l7.72-7.72 1.47 1.35L5.41 20z\"/>\n",
              "  </svg>\n",
              "      </button>\n",
              "      \n",
              "  <style>\n",
              "    .colab-df-container {\n",
              "      display:flex;\n",
              "      flex-wrap:wrap;\n",
              "      gap: 12px;\n",
              "    }\n",
              "\n",
              "    .colab-df-convert {\n",
              "      background-color: #E8F0FE;\n",
              "      border: none;\n",
              "      border-radius: 50%;\n",
              "      cursor: pointer;\n",
              "      display: none;\n",
              "      fill: #1967D2;\n",
              "      height: 32px;\n",
              "      padding: 0 0 0 0;\n",
              "      width: 32px;\n",
              "    }\n",
              "\n",
              "    .colab-df-convert:hover {\n",
              "      background-color: #E2EBFA;\n",
              "      box-shadow: 0px 1px 2px rgba(60, 64, 67, 0.3), 0px 1px 3px 1px rgba(60, 64, 67, 0.15);\n",
              "      fill: #174EA6;\n",
              "    }\n",
              "\n",
              "    [theme=dark] .colab-df-convert {\n",
              "      background-color: #3B4455;\n",
              "      fill: #D2E3FC;\n",
              "    }\n",
              "\n",
              "    [theme=dark] .colab-df-convert:hover {\n",
              "      background-color: #434B5C;\n",
              "      box-shadow: 0px 1px 3px 1px rgba(0, 0, 0, 0.15);\n",
              "      filter: drop-shadow(0px 1px 2px rgba(0, 0, 0, 0.3));\n",
              "      fill: #FFFFFF;\n",
              "    }\n",
              "  </style>\n",
              "\n",
              "      <script>\n",
              "        const buttonEl =\n",
              "          document.querySelector('#df-8d43de4a-e41c-4d36-a2ff-7cc91a144bfe button.colab-df-convert');\n",
              "        buttonEl.style.display =\n",
              "          google.colab.kernel.accessAllowed ? 'block' : 'none';\n",
              "\n",
              "        async function convertToInteractive(key) {\n",
              "          const element = document.querySelector('#df-8d43de4a-e41c-4d36-a2ff-7cc91a144bfe');\n",
              "          const dataTable =\n",
              "            await google.colab.kernel.invokeFunction('convertToInteractive',\n",
              "                                                     [key], {});\n",
              "          if (!dataTable) return;\n",
              "\n",
              "          const docLinkHtml = 'Like what you see? Visit the ' +\n",
              "            '<a target=\"_blank\" href=https://colab.research.google.com/notebooks/data_table.ipynb>data table notebook</a>'\n",
              "            + ' to learn more about interactive tables.';\n",
              "          element.innerHTML = '';\n",
              "          dataTable['output_type'] = 'display_data';\n",
              "          await google.colab.output.renderOutput(dataTable, element);\n",
              "          const docLink = document.createElement('div');\n",
              "          docLink.innerHTML = docLinkHtml;\n",
              "          element.appendChild(docLink);\n",
              "        }\n",
              "      </script>\n",
              "    </div>\n",
              "  </div>\n",
              "  "
            ]
          },
          "metadata": {},
          "execution_count": 4
        }
      ],
      "source": [
        "# stats of numerical data\n",
        "round (df.describe(exclude = 'object'), 2)"
      ]
    },
    {
      "cell_type": "code",
      "execution_count": 5,
      "metadata": {
        "id": "nnAUBJYaexip",
        "colab": {
          "base_uri": "https://localhost:8080/",
          "height": 175
        },
        "outputId": "24f685d4-3067-4d97-8abf-34e1f474e81e"
      },
      "outputs": [
        {
          "output_type": "execute_result",
          "data": {
            "text/plain": [
              "        gender ever_married work_type Residence_type smoking_status\n",
              "count     5110         5110      5110           5110           5110\n",
              "unique       3            2         5              2              4\n",
              "top     Female          Yes   Private          Urban   never smoked\n",
              "freq      2994         3353      2925           2596           1892"
            ],
            "text/html": [
              "\n",
              "  <div id=\"df-03c5d857-8923-477f-8c8d-343c4b05a212\">\n",
              "    <div class=\"colab-df-container\">\n",
              "      <div>\n",
              "<style scoped>\n",
              "    .dataframe tbody tr th:only-of-type {\n",
              "        vertical-align: middle;\n",
              "    }\n",
              "\n",
              "    .dataframe tbody tr th {\n",
              "        vertical-align: top;\n",
              "    }\n",
              "\n",
              "    .dataframe thead th {\n",
              "        text-align: right;\n",
              "    }\n",
              "</style>\n",
              "<table border=\"1\" class=\"dataframe\">\n",
              "  <thead>\n",
              "    <tr style=\"text-align: right;\">\n",
              "      <th></th>\n",
              "      <th>gender</th>\n",
              "      <th>ever_married</th>\n",
              "      <th>work_type</th>\n",
              "      <th>Residence_type</th>\n",
              "      <th>smoking_status</th>\n",
              "    </tr>\n",
              "  </thead>\n",
              "  <tbody>\n",
              "    <tr>\n",
              "      <th>count</th>\n",
              "      <td>5110</td>\n",
              "      <td>5110</td>\n",
              "      <td>5110</td>\n",
              "      <td>5110</td>\n",
              "      <td>5110</td>\n",
              "    </tr>\n",
              "    <tr>\n",
              "      <th>unique</th>\n",
              "      <td>3</td>\n",
              "      <td>2</td>\n",
              "      <td>5</td>\n",
              "      <td>2</td>\n",
              "      <td>4</td>\n",
              "    </tr>\n",
              "    <tr>\n",
              "      <th>top</th>\n",
              "      <td>Female</td>\n",
              "      <td>Yes</td>\n",
              "      <td>Private</td>\n",
              "      <td>Urban</td>\n",
              "      <td>never smoked</td>\n",
              "    </tr>\n",
              "    <tr>\n",
              "      <th>freq</th>\n",
              "      <td>2994</td>\n",
              "      <td>3353</td>\n",
              "      <td>2925</td>\n",
              "      <td>2596</td>\n",
              "      <td>1892</td>\n",
              "    </tr>\n",
              "  </tbody>\n",
              "</table>\n",
              "</div>\n",
              "      <button class=\"colab-df-convert\" onclick=\"convertToInteractive('df-03c5d857-8923-477f-8c8d-343c4b05a212')\"\n",
              "              title=\"Convert this dataframe to an interactive table.\"\n",
              "              style=\"display:none;\">\n",
              "        \n",
              "  <svg xmlns=\"http://www.w3.org/2000/svg\" height=\"24px\"viewBox=\"0 0 24 24\"\n",
              "       width=\"24px\">\n",
              "    <path d=\"M0 0h24v24H0V0z\" fill=\"none\"/>\n",
              "    <path d=\"M18.56 5.44l.94 2.06.94-2.06 2.06-.94-2.06-.94-.94-2.06-.94 2.06-2.06.94zm-11 1L8.5 8.5l.94-2.06 2.06-.94-2.06-.94L8.5 2.5l-.94 2.06-2.06.94zm10 10l.94 2.06.94-2.06 2.06-.94-2.06-.94-.94-2.06-.94 2.06-2.06.94z\"/><path d=\"M17.41 7.96l-1.37-1.37c-.4-.4-.92-.59-1.43-.59-.52 0-1.04.2-1.43.59L10.3 9.45l-7.72 7.72c-.78.78-.78 2.05 0 2.83L4 21.41c.39.39.9.59 1.41.59.51 0 1.02-.2 1.41-.59l7.78-7.78 2.81-2.81c.8-.78.8-2.07 0-2.86zM5.41 20L4 18.59l7.72-7.72 1.47 1.35L5.41 20z\"/>\n",
              "  </svg>\n",
              "      </button>\n",
              "      \n",
              "  <style>\n",
              "    .colab-df-container {\n",
              "      display:flex;\n",
              "      flex-wrap:wrap;\n",
              "      gap: 12px;\n",
              "    }\n",
              "\n",
              "    .colab-df-convert {\n",
              "      background-color: #E8F0FE;\n",
              "      border: none;\n",
              "      border-radius: 50%;\n",
              "      cursor: pointer;\n",
              "      display: none;\n",
              "      fill: #1967D2;\n",
              "      height: 32px;\n",
              "      padding: 0 0 0 0;\n",
              "      width: 32px;\n",
              "    }\n",
              "\n",
              "    .colab-df-convert:hover {\n",
              "      background-color: #E2EBFA;\n",
              "      box-shadow: 0px 1px 2px rgba(60, 64, 67, 0.3), 0px 1px 3px 1px rgba(60, 64, 67, 0.15);\n",
              "      fill: #174EA6;\n",
              "    }\n",
              "\n",
              "    [theme=dark] .colab-df-convert {\n",
              "      background-color: #3B4455;\n",
              "      fill: #D2E3FC;\n",
              "    }\n",
              "\n",
              "    [theme=dark] .colab-df-convert:hover {\n",
              "      background-color: #434B5C;\n",
              "      box-shadow: 0px 1px 3px 1px rgba(0, 0, 0, 0.15);\n",
              "      filter: drop-shadow(0px 1px 2px rgba(0, 0, 0, 0.3));\n",
              "      fill: #FFFFFF;\n",
              "    }\n",
              "  </style>\n",
              "\n",
              "      <script>\n",
              "        const buttonEl =\n",
              "          document.querySelector('#df-03c5d857-8923-477f-8c8d-343c4b05a212 button.colab-df-convert');\n",
              "        buttonEl.style.display =\n",
              "          google.colab.kernel.accessAllowed ? 'block' : 'none';\n",
              "\n",
              "        async function convertToInteractive(key) {\n",
              "          const element = document.querySelector('#df-03c5d857-8923-477f-8c8d-343c4b05a212');\n",
              "          const dataTable =\n",
              "            await google.colab.kernel.invokeFunction('convertToInteractive',\n",
              "                                                     [key], {});\n",
              "          if (!dataTable) return;\n",
              "\n",
              "          const docLinkHtml = 'Like what you see? Visit the ' +\n",
              "            '<a target=\"_blank\" href=https://colab.research.google.com/notebooks/data_table.ipynb>data table notebook</a>'\n",
              "            + ' to learn more about interactive tables.';\n",
              "          element.innerHTML = '';\n",
              "          dataTable['output_type'] = 'display_data';\n",
              "          await google.colab.output.renderOutput(dataTable, element);\n",
              "          const docLink = document.createElement('div');\n",
              "          docLink.innerHTML = docLinkHtml;\n",
              "          element.appendChild(docLink);\n",
              "        }\n",
              "      </script>\n",
              "    </div>\n",
              "  </div>\n",
              "  "
            ]
          },
          "metadata": {},
          "execution_count": 5
        }
      ],
      "source": [
        "# stats of categorical data\n",
        "df.describe(exclude = ['float', 'int64'])"
      ]
    },
    {
      "cell_type": "markdown",
      "metadata": {
        "id": "V7VzwHXGe5l5"
      },
      "source": [
        "*Initial Insights About Dataset*\n",
        "Data from bmi feature is missing.\n",
        "\n",
        "Both Categorical and numerical features are present.\n",
        "\n",
        "Categorical Features: gender, ever_married, work_type, Residence_type, smoking_status\n",
        "\n",
        "Binary Numerical Features: hypertension,heart_disease, stroke\n",
        "\n",
        "Continous Numerical Features: age, avg_glucose_level, bmi\n",
        "\n",
        "Most of the data is categorical which need a special attention to visulaize those variables\n"
      ]
    },
    {
      "cell_type": "markdown",
      "metadata": {
        "id": "Id7_MPfXLmGs"
      },
      "source": [
        "**Visualizing Missing Values**"
      ]
    },
    {
      "cell_type": "code",
      "execution_count": 6,
      "metadata": {
        "id": "6jEI8VdOLvcE",
        "colab": {
          "base_uri": "https://localhost:8080/",
          "height": 319
        },
        "outputId": "d5966750-3a77-4672-91b4-72fdc36192f8"
      },
      "outputs": [
        {
          "output_type": "display_data",
          "data": {
            "text/plain": [
              "<Figure size 432x288 with 2 Axes>"
            ],
            "image/png": "[encoded data removed]"
          },
          "metadata": {
            "needs_background": "light"
          }
        }
      ],
      "source": [
        "plt.title('Missing Values ',fontweight='bold')\n",
        "ax=sns.heatmap(df.isna().sum().to_frame(),annot=True,fmt='d',cmap='YlGnBu',cbar=True)\n",
        "ax.set_xlabel('Amount Missing')\n",
        "plt.show()"
      ]
    },
    {
      "cell_type": "markdown",
      "metadata": {
        "id": "LaOVT1OFN3g1"
      },
      "source": [
        "**Explorartory Data Analysis**"
      ]
    },
    {
      "cell_type": "code",
      "execution_count": 7,
      "metadata": {
        "id": "1trAaSrqvLMJ"
      },
      "outputs": [],
      "source": [
        "categorical = ['gender', 'hypertension', 'heart_disease', 'ever_married',\n",
        "'work_type', 'Residence_type', 'smoking_status']\n",
        "\n",
        "numerical = ['age','avg_glucose_level', 'bmi']"
      ]
    },
    {
      "cell_type": "code",
      "execution_count": 8,
      "metadata": {
        "id": "mgi2lYCnvT-g",
        "colab": {
          "base_uri": "https://localhost:8080/",
          "height": 300
        },
        "outputId": "8cca67d2-9e9d-4140-d4eb-df870dc56cc0"
      },
      "outputs": [
        {
          "output_type": "execute_result",
          "data": {
            "text/plain": [
              "               age  avg_glucose_level          bmi\n",
              "count  5110.000000        5110.000000  4909.000000\n",
              "mean     43.226614         106.147677    28.893237\n",
              "std      22.612647          45.283560     7.854067\n",
              "min       0.080000          55.120000    10.300000\n",
              "25%      25.000000          77.245000    23.500000\n",
              "50%      45.000000          91.885000    28.100000\n",
              "75%      61.000000         114.090000    33.100000\n",
              "max      82.000000         271.740000    97.600000"
            ],
            "text/html": [
              "\n",
              "  <div id=\"df-8a2f797a-19b8-477c-aa47-52193c0e8545\">\n",
              "    <div class=\"colab-df-container\">\n",
              "      <div>\n",
              "<style scoped>\n",
              "    .dataframe tbody tr th:only-of-type {\n",
              "        vertical-align: middle;\n",
              "    }\n",
              "\n",
              "    .dataframe tbody tr th {\n",
              "        vertical-align: top;\n",
              "    }\n",
              "\n",
              "    .dataframe thead th {\n",
              "        text-align: right;\n",
              "    }\n",
              "</style>\n",
              "<table border=\"1\" class=\"dataframe\">\n",
              "  <thead>\n",
              "    <tr style=\"text-align: right;\">\n",
              "      <th></th>\n",
              "      <th>age</th>\n",
              "      <th>avg_glucose_level</th>\n",
              "      <th>bmi</th>\n",
              "    </tr>\n",
              "  </thead>\n",
              "  <tbody>\n",
              "    <tr>\n",
              "      <th>count</th>\n",
              "      <td>5110.000000</td>\n",
              "      <td>5110.000000</td>\n",
              "      <td>4909.000000</td>\n",
              "    </tr>\n",
              "    <tr>\n",
              "      <th>mean</th>\n",
              "      <td>43.226614</td>\n",
              "      <td>106.147677</td>\n",
              "      <td>28.893237</td>\n",
              "    </tr>\n",
              "    <tr>\n",
              "      <th>std</th>\n",
              "      <td>22.612647</td>\n",
              "      <td>45.283560</td>\n",
              "      <td>7.854067</td>\n",
              "    </tr>\n",
              "    <tr>\n",
              "      <th>min</th>\n",
              "      <td>0.080000</td>\n",
              "      <td>55.120000</td>\n",
              "      <td>10.300000</td>\n",
              "    </tr>\n",
              "    <tr>\n",
              "      <th>25%</th>\n",
              "      <td>25.000000</td>\n",
              "      <td>77.245000</td>\n",
              "      <td>23.500000</td>\n",
              "    </tr>\n",
              "    <tr>\n",
              "      <th>50%</th>\n",
              "      <td>45.000000</td>\n",
              "      <td>91.885000</td>\n",
              "      <td>28.100000</td>\n",
              "    </tr>\n",
              "    <tr>\n",
              "      <th>75%</th>\n",
              "      <td>61.000000</td>\n",
              "      <td>114.090000</td>\n",
              "      <td>33.100000</td>\n",
              "    </tr>\n",
              "    <tr>\n",
              "      <th>max</th>\n",
              "      <td>82.000000</td>\n",
              "      <td>271.740000</td>\n",
              "      <td>97.600000</td>\n",
              "    </tr>\n",
              "  </tbody>\n",
              "</table>\n",
              "</div>\n",
              "      <button class=\"colab-df-convert\" onclick=\"convertToInteractive('df-8a2f797a-19b8-477c-aa47-52193c0e8545')\"\n",
              "              title=\"Convert this dataframe to an interactive table.\"\n",
              "              style=\"display:none;\">\n",
              "        \n",
              "  <svg xmlns=\"http://www.w3.org/2000/svg\" height=\"24px\"viewBox=\"0 0 24 24\"\n",
              "       width=\"24px\">\n",
              "    <path d=\"M0 0h24v24H0V0z\" fill=\"none\"/>\n",
              "    <path d=\"M18.56 5.44l.94 2.06.94-2.06 2.06-.94-2.06-.94-.94-2.06-.94 2.06-2.06.94zm-11 1L8.5 8.5l.94-2.06 2.06-.94-2.06-.94L8.5 2.5l-.94 2.06-2.06.94zm10 10l.94 2.06.94-2.06 2.06-.94-2.06-.94-.94-2.06-.94 2.06-2.06.94z\"/><path d=\"M17.41 7.96l-1.37-1.37c-.4-.4-.92-.59-1.43-.59-.52 0-1.04.2-1.43.59L10.3 9.45l-7.72 7.72c-.78.78-.78 2.05 0 2.83L4 21.41c.39.39.9.59 1.41.59.51 0 1.02-.2 1.41-.59l7.78-7.78 2.81-2.81c.8-.78.8-2.07 0-2.86zM5.41 20L4 18.59l7.72-7.72 1.47 1.35L5.41 20z\"/>\n",
              "  </svg>\n",
              "      </button>\n",
              "      \n",
              "  <style>\n",
              "    .colab-df-container {\n",
              "      display:flex;\n",
              "      flex-wrap:wrap;\n",
              "      gap: 12px;\n",
              "    }\n",
              "\n",
              "    .colab-df-convert {\n",
              "      background-color: #E8F0FE;\n",
              "      border: none;\n",
              "      border-radius: 50%;\n",
              "      cursor: pointer;\n",
              "      display: none;\n",
              "      fill: #1967D2;\n",
              "      height: 32px;\n",
              "      padding: 0 0 0 0;\n",
              "      width: 32px;\n",
              "    }\n",
              "\n",
              "    .colab-df-convert:hover {\n",
              "      background-color: #E2EBFA;\n",
              "      box-shadow: 0px 1px 2px rgba(60, 64, 67, 0.3), 0px 1px 3px 1px rgba(60, 64, 67, 0.15);\n",
              "      fill: #174EA6;\n",
              "    }\n",
              "\n",
              "    [theme=dark] .colab-df-convert {\n",
              "      background-color: #3B4455;\n",
              "      fill: #D2E3FC;\n",
              "    }\n",
              "\n",
              "    [theme=dark] .colab-df-convert:hover {\n",
              "      background-color: #434B5C;\n",
              "      box-shadow: 0px 1px 3px 1px rgba(0, 0, 0, 0.15);\n",
              "      filter: drop-shadow(0px 1px 2px rgba(0, 0, 0, 0.3));\n",
              "      fill: #FFFFFF;\n",
              "    }\n",
              "  </style>\n",
              "\n",
              "      <script>\n",
              "        const buttonEl =\n",
              "          document.querySelector('#df-8a2f797a-19b8-477c-aa47-52193c0e8545 button.colab-df-convert');\n",
              "        buttonEl.style.display =\n",
              "          google.colab.kernel.accessAllowed ? 'block' : 'none';\n",
              "\n",
              "        async function convertToInteractive(key) {\n",
              "          const element = document.querySelector('#df-8a2f797a-19b8-477c-aa47-52193c0e8545');\n",
              "          const dataTable =\n",
              "            await google.colab.kernel.invokeFunction('convertToInteractive',\n",
              "                                                     [key], {});\n",
              "          if (!dataTable) return;\n",
              "\n",
              "          const docLinkHtml = 'Like what you see? Visit the ' +\n",
              "            '<a target=\"_blank\" href=https://colab.research.google.com/notebooks/data_table.ipynb>data table notebook</a>'\n",
              "            + ' to learn more about interactive tables.';\n",
              "          element.innerHTML = '';\n",
              "          dataTable['output_type'] = 'display_data';\n",
              "          await google.colab.output.renderOutput(dataTable, element);\n",
              "          const docLink = document.createElement('div');\n",
              "          docLink.innerHTML = docLinkHtml;\n",
              "          element.appendChild(docLink);\n",
              "        }\n",
              "      </script>\n",
              "    </div>\n",
              "  </div>\n",
              "  "
            ]
          },
          "metadata": {},
          "execution_count": 8
        }
      ],
      "source": [
        "df[numerical].describe()"
      ]
    },
    {
      "cell_type": "markdown",
      "metadata": {
        "id": "sHs_iaOKccNX"
      },
      "source": [
        "**Analysis of Entire Sample Space**"
      ]
    },
    {
      "cell_type": "code",
      "execution_count": 9,
      "metadata": {
        "id": "zfUf7GUWOAXL",
        "colab": {
          "base_uri": "https://localhost:8080/",
          "height": 542
        },
        "outputId": "05afbd1f-5f58-4eb7-928c-298fc46ae45e"
      },
      "outputs": [
        {
          "output_type": "display_data",
          "data": {
            "text/html": [
              "<html>\n",
              "<head><meta charset=\"utf-8\" /></head>\n",
              "<body>\n",
              "    <div>            <script src=\"https://cdnjs.cloudflare.com/ajax/libs/mathjax/2.7.5/MathJax.js?config=TeX-AMS-MML_SVG\"></script><script type=\"text/javascript\">if (window.MathJax) {MathJax.Hub.Config({SVG: {font: \"STIX-Web\"}});}</script>                <script type=\"text/javascript\">window.PlotlyConfig = {MathJaxConfig: 'local'};</script>\n",
              "        <script src=\"https://cdn.plot.ly/plotly-2.8.3.min.js\"></script>                <div id=\"5845cb73-b672-4d96-98fd-4e5453a2619e\" class=\"plotly-graph-div\" style=\"height:525px; width:100%;\"></div>            <script type=\"text/javascript\">                                    window.PLOTLYENV=window.PLOTLYENV || {};                                    if (document.getElementById(\"5845cb73-b672-4d96-98fd-4e5453a2619e\")) {                    Plotly.newPlot(                        \"5845cb73-b672-4d96-98fd-4e5453a2619e\",                        [{\"domain\":{\"x\":[0.0,1.0],\"y\":[0.0,1.0]},\"hovertemplate\":\"stroke=%{label}<extra></extra>\",\"labels\":[1,1,1,1,1,1,1,1,1,1,1,1,1,1,1,1,1,1,1,1,1,1,1,1,1,1,1,1,1,1,1,1,1,1,1,1,1,1,1,1,1,1,1,1,1,1,1,1,1,1,1,1,1,1,1,1,1,1,1,1,1,1,1,1,1,1,1,1,1,1,1,1,1,1,1,1,1,1,1,1,1,1,1,1,1,1,1,1,1,1,1,1,1,1,1,1,1,1,1,1,1,1,1,1,1,1,1,1,1,1,1,1,1,1,1,1,1,1,1,1,1,1,1,1,1,1,1,1,1,1,1,1,1,1,1,1,1,1,1,1,1,1,1,1,1,1,1,1,1,1,1,1,1,1,1,1,1,1,1,1,1,1,1,1,1,1,1,1,1,1,1,1,1,1,1,1,1,1,1,1,1,1,1,1,1,1,1,1,1,1,1,1,1,1,1,1,1,1,1,1,1,1,1,1,1,1,1,1,1,1,1,1,1,1,1,1,1,1,1,1,1,1,1,1,1,1,1,1,1,1,1,1,1,1,1,1,1,1,1,1,1,1,1,1,1,1,1,1,1,0,0,0,0,0,0,0,0,0,0,0,0,0,0,0,0,0,0,0,0,0,0,0,0,0,0,0,0,0,0,0,0,0,0,0,0,0,0,0,0,0,0,0,0,0,0,0,0,0,0,0,0,0,0,0,0,0,0,0,0,0,0,0,0,0,0,0,0,0,0,0,0,0,0,0,0,0,0,0,0,0,0,0,0,0,0,0,0,0,0,0,0,0,0,0,0,0,0,0,0,0,0,0,0,0,0,0,0,0,0,0,0,0,0,0,0,0,0,0,0,0,0,0,0,0,0,0,0,0,0,0,0,0,0,0,0,0,0,0,0,0,0,0,0,0,0,0,0,0,0,0,0,0,0,0,0,0,0,0,0,0,0,0,0,0,0,0,0,0,0,0,0,0,0,0,0,0,0,0,0,0,0,0,0,0,0,0,0,0,0,0,0,0,0,0,0,0,0,0,0,0,0,0,0,0,0,0,0,0,0,0,0,0,0,0,0,0,0,0,0,0,0,0,0,0,0,0,0,0,0,0,0,0,0,0,0,0,0,0,0,0,0,0,0,0,0,0,0,0,0,0,0,0,0,0,0,0,0,0,0,0,0,0,0,0,0,0,0,0,0,0,0,0,0,0,0,0,0,0,0,0,0,0,0,0,0,0,0,0,0,0,0,0,0,0,0,0,0,0,0,0,0,0,0,0,0,0,0,0,0,0,0,0,0,0,0,0,0,0,0,0,0,0,0,0,0,0,0,0,0,0,0,0,0,0,0,0,0,0,0,0,0,0,0,0,0,0,0,0,0,0,0,0,0,0,0,0,0,0,0,0,0,0,0,0,0,0,0,0,0,0,0,0,0,0,0,0,0,0,0,0,0,0,0,0,0,0,0,0,0,0,0,0,0,0,0,0,0,0,0,0,0,0,0,0,0,0,0,0,0,0,0,0,0,0,0,0,0,0,0,0,0,0,0,0,0,0,0,0,0,0,0,0,0,0,0,0,0,0,0,0,0,0,0,0,0,0,0,0,0,0,0,0,0,0,0,0,0,0,0,0,0,0,0,0,0,0,0,0,0,0,0,0,0,0,0,0,0,0,0,0,0,0,0,0,0,0,0,0,0,0,0,0,0,0,0,0,0,0,0,0,0,0,0,0,0,0,0,0,0,0,0,0,0,0,0,0,0,0,0,0,0,0,0,0,0,0,0,0,0,0,0,0,0,0,0,0,0,0,0,0,0,0,0,0,0,0,0,0,0,0,0,0,0,0,0,0,0,0,0,0,0,0,0,0,0,0,0,0,0,0,0,0,0,0,0,0,0,0,0,0,0,0,0,0,0,0,0,0,0,0,0,0,0,0,0,0,0,0,0,0,0,0,0,0,0,0,0,0,0,0,0,0,0,0,0,0,0,0,0,0,0,0,0,0,0,0,0,0,0,0,0,0,0,0,0,0,0,0,0,0,0,0,0,0,0,0,0,0,0,0,0,0,0,0,0,0,0,0,0,0,0,0,0,0,0,0,0,0,0,0,0,0,0,0,0,0,0,0,0,0,0,0,0,0,0,0,0,0,0,0,0,0,0,0,0,0,0,0,0,0,0,0,0,0,0,0,0,0,0,0,0,0,0,0,0,0,0,0,0,0,0,0,0,0,0,0,0,0,0,0,0,0,0,0,0,0,0,0,0,0,0,0,0,0,0,0,0,0,0,0,0,0,0,0,0,0,0,0,0,0,0,0,0,0,0,0,0,0,0,0,0,0,0,0,0,0,0,0,0,0,0,0,0,0,0,0,0,0,0,0,0,0,0,0,0,0,0,0,0,0,0,0,0,0,0,0,0,0,0,0,0,0,0,0,0,0,0,0,0,0,0,0,0,0,0,0,0,0,0,0,0,0,0,0,0,0,0,0,0,0,0,0,0,0,0,0,0,0,0,0,0,0,0,0,0,0,0,0,0,0,0,0,0,0,0,0,0,0,0,0,0,0,0,0,0,0,0,0,0,0,0,0,0,0,0,0,0,0,0,0,0,0,0,0,0,0,0,0,0,0,0,0,0,0,0,0,0,0,0,0,0,0,0,0,0,0,0,0,0,0,0,0,0,0,0,0,0,0,0,0,0,0,0,0,0,0,0,0,0,0,0,0,0,0,0,0,0,0,0,0,0,0,0,0,0,0,0,0,0,0,0,0,0,0,0,0,0,0,0,0,0,0,0,0,0,0,0,0,0,0,0,0,0,0,0,0,0,0,0,0,0,0,0,0,0,0,0,0,0,0,0,0,0,0,0,0,0,0,0,0,0,0,0,0,0,0,0,0,0,0,0,0,0,0,0,0,0,0,0,0,0,0,0,0,0,0,0,0,0,0,0,0,0,0,0,0,0,0,0,0,0,0,0,0,0,0,0,0,0,0,0,0,0,0,0,0,0,0,0,0,0,0,0,0,0,0,0,0,0,0,0,0,0,0,0,0,0,0,0,0,0,0,0,0,0,0,0,0,0,0,0,0,0,0,0,0,0,0,0,0,0,0,0,0,0,0,0,0,0,0,0,0,0,0,0,0,0,0,0,0,0,0,0,0,0,0,0,0,0,0,0,0,0,0,0,0,0,0,0,0,0,0,0,0,0,0,0,0,0,0,0,0,0,0,0,0,0,0,0,0,0,0,0,0,0,0,0,0,0,0,0,0,0,0,0,0,0,0,0,0,0,0,0,0,0,0,0,0,0,0,0,0,0,0,0,0,0,0,0,0,0,0,0,0,0,0,0,0,0,0,0,0,0,0,0,0,0,0,0,0,0,0,0,0,0,0,0,0,0,0,0,0,0,0,0,0,0,0,0,0,0,0,0,0,0,0,0,0,0,0,0,0,0,0,0,0,0,0,0,0,0,0,0,0,0,0,0,0,0,0,0,0,0,0,0,0,0,0,0,0,0,0,0,0,0,0,0,0,0,0,0,0,0,0,0,0,0,0,0,0,0,0,0,0,0,0,0,0,0,0,0,0,0,0,0,0,0,0,0,0,0,0,0,0,0,0,0,0,0,0,0,0,0,0,0,0,0,0,0,0,0,0,0,0,0,0,0,0,0,0,0,0,0,0,0,0,0,0,0,0,0,0,0,0,0,0,0,0,0,0,0,0,0,0,0,0,0,0,0,0,0,0,0,0,0,0,0,0,0,0,0,0,0,0,0,0,0,0,0,0,0,0,0,0,0,0,0,0,0,0,0,0,0,0,0,0,0,0,0,0,0,0,0,0,0,0,0,0,0,0,0,0,0,0,0,0,0,0,0,0,0,0,0,0,0,0,0,0,0,0,0,0,0,0,0,0,0,0,0,0,0,0,0,0,0,0,0,0,0,0,0,0,0,0,0,0,0,0,0,0,0,0,0,0,0,0,0,0,0,0,0,0,0,0,0,0,0,0,0,0,0,0,0,0,0,0,0,0,0,0,0,0,0,0,0,0,0,0,0,0,0,0,0,0,0,0,0,0,0,0,0,0,0,0,0,0,0,0,0,0,0,0,0,0,0,0,0,0,0,0,0,0,0,0,0,0,0,0,0,0,0,0,0,0,0,0,0,0,0,0,0,0,0,0,0,0,0,0,0,0,0,0,0,0,0,0,0,0,0,0,0,0,0,0,0,0,0,0,0,0,0,0,0,0,0,0,0,0,0,0,0,0,0,0,0,0,0,0,0,0,0,0,0,0,0,0,0,0,0,0,0,0,0,0,0,0,0,0,0,0,0,0,0,0,0,0,0,0,0,0,0,0,0,0,0,0,0,0,0,0,0,0,0,0,0,0,0,0,0,0,0,0,0,0,0,0,0,0,0,0,0,0,0,0,0,0,0,0,0,0,0,0,0,0,0,0,0,0,0,0,0,0,0,0,0,0,0,0,0,0,0,0,0,0,0,0,0,0,0,0,0,0,0,0,0,0,0,0,0,0,0,0,0,0,0,0,0,0,0,0,0,0,0,0,0,0,0,0,0,0,0,0,0,0,0,0,0,0,0,0,0,0,0,0,0,0,0,0,0,0,0,0,0,0,0,0,0,0,0,0,0,0,0,0,0,0,0,0,0,0,0,0,0,0,0,0,0,0,0,0,0,0,0,0,0,0,0,0,0,0,0,0,0,0,0,0,0,0,0,0,0,0,0,0,0,0,0,0,0,0,0,0,0,0,0,0,0,0,0,0,0,0,0,0,0,0,0,0,0,0,0,0,0,0,0,0,0,0,0,0,0,0,0,0,0,0,0,0,0,0,0,0,0,0,0,0,0,0,0,0,0,0,0,0,0,0,0,0,0,0,0,0,0,0,0,0,0,0,0,0,0,0,0,0,0,0,0,0,0,0,0,0,0,0,0,0,0,0,0,0,0,0,0,0,0,0,0,0,0,0,0,0,0,0,0,0,0,0,0,0,0,0,0,0,0,0,0,0,0,0,0,0,0,0,0,0,0,0,0,0,0,0,0,0,0,0,0,0,0,0,0,0,0,0,0,0,0,0,0,0,0,0,0,0,0,0,0,0,0,0,0,0,0,0,0,0,0,0,0,0,0,0,0,0,0,0,0,0,0,0,0,0,0,0,0,0,0,0,0,0,0,0,0,0,0,0,0,0,0,0,0,0,0,0,0,0,0,0,0,0,0,0,0,0,0,0,0,0,0,0,0,0,0,0,0,0,0,0,0,0,0,0,0,0,0,0,0,0,0,0,0,0,0,0,0,0,0,0,0,0,0,0,0,0,0,0,0,0,0,0,0,0,0,0,0,0,0,0,0,0,0,0,0,0,0,0,0,0,0,0,0,0,0,0,0,0,0,0,0,0,0,0,0,0,0,0,0,0,0,0,0,0,0,0,0,0,0,0,0,0,0,0,0,0,0,0,0,0,0,0,0,0,0,0,0,0,0,0,0,0,0,0,0,0,0,0,0,0,0,0,0,0,0,0,0,0,0,0,0,0,0,0,0,0,0,0,0,0,0,0,0,0,0,0,0,0,0,0,0,0,0,0,0,0,0,0,0,0,0,0,0,0,0,0,0,0,0,0,0,0,0,0,0,0,0,0,0,0,0,0,0,0,0,0,0,0,0,0,0,0,0,0,0,0,0,0,0,0,0,0,0,0,0,0,0,0,0,0,0,0,0,0,0,0,0,0,0,0,0,0,0,0,0,0,0,0,0,0,0,0,0,0,0,0,0,0,0,0,0,0,0,0,0,0,0,0,0,0,0,0,0,0,0,0,0,0,0,0,0,0,0,0,0,0,0,0,0,0,0,0,0,0,0,0,0,0,0,0,0,0,0,0,0,0,0,0,0,0,0,0,0,0,0,0,0,0,0,0,0,0,0,0,0,0,0,0,0,0,0,0,0,0,0,0,0,0,0,0,0,0,0,0,0,0,0,0,0,0,0,0,0,0,0,0,0,0,0,0,0,0,0,0,0,0,0,0,0,0,0,0,0,0,0,0,0,0,0,0,0,0,0,0,0,0,0,0,0,0,0,0,0,0,0,0,0,0,0,0,0,0,0,0,0,0,0,0,0,0,0,0,0,0,0,0,0,0,0,0,0,0,0,0,0,0,0,0,0,0,0,0,0,0,0,0,0,0,0,0,0,0,0,0,0,0,0,0,0,0,0,0,0,0,0,0,0,0,0,0,0,0,0,0,0,0,0,0,0,0,0,0,0,0,0,0,0,0,0,0,0,0,0,0,0,0,0,0,0,0,0,0,0,0,0,0,0,0,0,0,0,0,0,0,0,0,0,0,0,0,0,0,0,0,0,0,0,0,0,0,0,0,0,0,0,0,0,0,0,0,0,0,0,0,0,0,0,0,0,0,0,0,0,0,0,0,0,0,0,0,0,0,0,0,0,0,0,0,0,0,0,0,0,0,0,0,0,0,0,0,0,0,0,0,0,0,0,0,0,0,0,0,0,0,0,0,0,0,0,0,0,0,0,0,0,0,0,0,0,0,0,0,0,0,0,0,0,0,0,0,0,0,0,0,0,0,0,0,0,0,0,0,0,0,0,0,0,0,0,0,0,0,0,0,0,0,0,0,0,0,0,0,0,0,0,0,0,0,0,0,0,0,0,0,0,0,0,0,0,0,0,0,0,0,0,0,0,0,0,0,0,0,0,0,0,0,0,0,0,0,0,0,0,0,0,0,0,0,0,0,0,0,0,0,0,0,0,0,0,0,0,0,0,0,0,0,0,0,0,0,0,0,0,0,0,0,0,0,0,0,0,0,0,0,0,0,0,0,0,0,0,0,0,0,0,0,0,0,0,0,0,0,0,0,0,0,0,0,0,0,0,0,0,0,0,0,0,0,0,0,0,0,0,0,0,0,0,0,0,0,0,0,0,0,0,0,0,0,0,0,0,0,0,0,0,0,0,0,0,0,0,0,0,0,0,0,0,0,0,0,0,0,0,0,0,0,0,0,0,0,0,0,0,0,0,0,0,0,0,0,0,0,0,0,0,0,0,0,0,0,0,0,0,0,0,0,0,0,0,0,0,0,0,0,0,0,0,0,0,0,0,0,0,0,0,0,0,0,0,0,0,0,0,0,0,0,0,0,0,0,0,0,0,0,0,0,0,0,0,0,0,0,0,0,0,0,0,0,0,0,0,0,0,0,0,0,0,0,0,0,0,0,0,0,0,0,0,0,0,0,0,0,0,0,0,0,0,0,0,0,0,0,0,0,0,0,0,0,0,0,0,0,0,0,0,0,0,0,0,0,0,0,0,0,0,0,0,0,0,0,0,0,0,0,0,0,0,0,0,0,0,0,0,0,0,0,0,0,0,0,0,0,0,0,0,0,0,0,0,0,0,0,0,0,0,0,0,0,0,0,0,0,0,0,0,0,0,0,0,0,0,0,0,0,0,0,0,0,0,0,0,0,0,0,0,0,0,0,0,0,0,0,0,0,0,0,0,0,0,0,0,0,0,0,0,0,0,0,0,0,0,0,0,0,0,0,0,0,0,0,0,0,0,0,0,0,0,0,0,0,0,0,0,0,0,0,0,0,0,0,0,0,0,0,0,0,0,0,0,0,0,0,0,0,0,0,0,0,0,0,0,0,0,0,0,0,0,0,0,0,0,0,0,0,0,0,0,0,0,0,0,0,0,0,0,0,0,0,0,0,0,0,0,0,0,0,0,0,0,0,0,0,0,0,0,0,0,0,0,0,0,0,0,0,0,0,0,0,0,0,0,0,0,0,0,0,0,0,0,0,0,0,0,0,0,0,0,0,0,0,0,0,0,0,0,0,0,0,0,0,0,0,0,0,0,0,0,0,0,0,0,0,0,0,0,0,0,0,0,0,0,0,0,0,0,0,0,0,0,0,0,0,0,0,0,0,0,0,0,0,0,0,0,0,0,0,0,0,0,0,0,0,0,0,0,0,0,0,0,0,0,0,0,0,0,0,0,0,0,0,0,0,0,0,0,0,0,0,0,0,0,0,0,0,0,0,0,0,0,0,0,0,0,0,0,0,0,0,0,0,0,0,0,0,0,0,0,0,0,0,0,0,0,0,0,0,0,0,0,0,0,0,0,0,0,0,0,0,0,0,0,0,0,0,0,0,0,0,0,0,0,0,0,0,0,0,0,0,0,0,0,0,0,0,0,0,0,0,0,0,0,0,0,0,0,0,0,0,0,0,0,0,0,0,0,0,0,0,0,0,0,0,0,0,0,0,0,0,0,0,0,0,0,0,0,0,0,0,0,0,0,0,0,0,0,0,0,0,0,0,0,0,0,0,0,0,0,0,0,0,0,0,0,0,0,0,0,0,0,0,0,0,0,0,0,0,0,0,0,0,0,0,0,0,0,0,0,0,0,0,0,0,0,0,0,0,0,0,0,0,0,0,0,0,0,0,0,0,0,0,0,0,0,0,0,0,0,0,0,0,0,0,0,0,0,0,0,0,0,0,0,0,0,0,0,0,0,0,0,0,0,0,0,0,0,0,0,0,0,0,0,0,0,0,0,0,0,0,0,0,0,0,0,0,0,0,0,0,0,0,0,0,0,0,0,0,0,0,0,0,0,0,0,0,0,0,0,0,0,0,0,0,0,0,0,0,0,0,0,0,0,0,0,0,0,0,0,0,0,0,0,0,0,0,0,0,0,0,0,0,0,0,0,0,0,0,0,0,0,0,0,0,0,0,0,0,0,0,0,0,0,0,0,0,0,0,0,0,0,0,0,0,0,0,0,0,0,0,0,0,0,0,0,0,0,0,0,0,0,0,0,0,0,0,0,0,0,0,0,0,0,0,0,0,0,0,0,0,0,0,0,0,0,0,0,0,0,0,0,0,0,0,0,0,0,0,0,0,0,0,0,0,0,0,0,0,0,0,0,0,0,0,0,0,0,0,0,0,0,0,0,0,0,0,0,0,0,0,0,0,0,0,0,0,0,0,0,0,0,0,0,0,0,0,0,0,0,0,0,0,0,0,0,0,0,0,0,0,0,0,0,0,0,0,0,0,0,0,0,0,0,0,0,0,0,0,0,0,0,0,0,0,0,0,0,0,0,0,0,0,0,0,0,0,0,0,0,0,0,0,0,0,0,0,0,0,0,0,0,0,0,0,0,0,0,0,0,0,0,0,0,0,0,0,0,0,0,0,0,0,0,0,0,0,0,0,0,0,0,0,0,0,0,0,0,0,0,0,0,0,0,0,0,0,0,0,0,0,0,0,0,0,0,0,0,0,0,0,0,0,0,0,0,0,0,0,0,0,0,0,0,0,0,0,0,0,0,0,0,0,0,0,0,0,0,0,0,0,0,0,0,0,0,0,0,0,0,0,0,0,0,0,0,0,0,0,0,0,0,0,0,0,0,0,0,0,0,0,0,0,0,0,0,0,0,0,0,0,0,0,0,0,0,0,0,0,0,0,0,0,0,0,0,0,0,0,0,0,0,0,0,0,0,0,0,0,0,0,0,0,0,0,0,0,0,0,0,0,0,0,0,0,0,0,0,0,0,0,0,0,0,0,0,0,0,0,0,0,0,0,0,0,0,0,0,0,0,0,0,0,0,0,0,0,0,0,0,0,0,0,0,0,0,0,0,0,0,0,0,0,0,0,0,0,0,0,0,0,0,0,0,0,0,0,0,0,0,0,0,0,0,0,0,0,0,0,0,0,0,0,0,0,0,0,0,0,0,0,0,0,0,0,0,0,0,0,0,0,0,0,0,0,0,0,0,0,0,0,0,0,0,0,0,0,0,0,0,0,0,0,0,0,0,0,0,0,0,0,0,0,0,0,0,0,0,0,0,0,0,0,0,0,0,0,0,0,0,0,0,0,0,0,0,0,0,0,0,0,0,0,0,0,0,0,0,0,0,0,0,0,0,0,0,0,0,0,0,0,0,0,0,0,0,0,0,0,0,0,0,0,0,0,0,0,0,0,0,0,0,0,0,0,0,0,0,0,0,0,0,0,0,0,0,0,0,0,0,0,0,0,0,0,0,0,0,0,0,0,0,0,0,0,0,0,0,0,0,0,0,0,0,0,0,0,0,0,0,0,0,0,0,0,0,0,0,0,0,0,0,0,0,0,0,0,0,0,0,0,0,0,0,0,0,0,0,0,0,0,0,0,0,0,0,0,0,0,0,0,0,0,0,0,0,0,0,0,0,0,0,0,0,0,0,0,0,0,0,0,0,0,0,0,0,0,0,0,0,0,0,0,0,0,0,0,0,0,0,0,0,0,0,0,0,0,0,0,0,0,0,0,0,0,0,0,0,0,0,0,0,0,0,0,0,0,0,0,0,0,0,0,0,0,0,0,0,0,0,0,0,0,0,0,0,0,0,0,0,0,0,0,0,0,0,0,0,0,0,0,0,0,0,0,0,0,0,0,0,0,0,0,0,0,0,0,0,0,0,0,0,0,0,0,0,0,0,0,0,0,0,0,0,0,0,0,0,0,0,0,0,0,0,0,0,0,0,0,0,0,0,0,0,0,0,0,0,0,0,0,0,0,0,0,0,0,0,0,0,0,0,0,0,0,0,0,0,0,0,0,0,0,0,0,0,0,0,0,0,0,0,0,0,0,0,0,0,0,0,0,0,0,0,0,0,0,0,0,0,0,0,0,0,0,0,0,0,0,0,0,0,0,0,0,0,0,0,0,0,0,0,0,0,0,0,0,0,0,0,0,0,0,0,0,0,0,0,0,0,0,0,0,0,0,0,0,0,0,0,0,0,0,0,0,0,0,0,0,0,0,0,0,0,0,0,0,0,0,0,0,0,0,0,0,0,0,0,0,0,0,0,0,0,0,0,0,0,0,0,0,0,0,0,0,0,0,0,0,0,0,0,0,0,0,0,0,0,0,0,0,0,0,0,0,0,0,0,0,0,0,0,0,0,0,0,0,0,0,0,0,0,0,0,0,0,0,0,0,0,0,0,0,0,0,0,0,0,0,0,0,0,0,0,0,0,0,0,0,0,0,0,0,0,0,0,0,0,0,0,0,0,0,0,0,0,0,0,0,0,0,0,0,0,0,0,0,0,0,0,0,0,0,0,0,0,0,0,0,0,0,0,0,0,0,0,0,0,0,0,0,0,0,0,0,0,0,0,0,0,0,0,0,0,0,0,0,0,0,0,0,0,0,0,0,0,0,0,0,0,0,0,0,0,0,0,0,0,0,0,0,0,0,0,0,0,0,0,0,0,0,0,0,0,0,0,0,0,0,0,0,0,0,0,0,0,0,0,0,0,0,0,0,0,0,0,0,0,0,0,0,0,0,0,0,0,0,0,0,0,0,0,0,0,0,0,0,0,0,0,0,0,0,0,0,0,0,0,0,0,0,0,0,0,0,0,0,0,0,0,0,0,0,0,0,0,0,0,0,0,0,0,0,0,0,0,0,0,0,0,0,0,0,0,0,0,0,0,0,0,0,0,0,0,0,0,0,0,0,0,0,0,0,0,0,0,0,0,0,0,0,0,0,0,0,0,0,0,0,0,0,0,0,0,0],\"legendgroup\":\"\",\"name\":\"\",\"showlegend\":true,\"type\":\"pie\"}],                        {\"template\":{\"data\":{\"bar\":[{\"error_x\":{\"color\":\"#2a3f5f\"},\"error_y\":{\"color\":\"#2a3f5f\"},\"marker\":{\"line\":{\"color\":\"#E5ECF6\",\"width\":0.5},\"pattern\":{\"fillmode\":\"overlay\",\"size\":10,\"solidity\":0.2}},\"type\":\"bar\"}],\"barpolar\":[{\"marker\":{\"line\":{\"color\":\"#E5ECF6\",\"width\":0.5},\"pattern\":{\"fillmode\":\"overlay\",\"size\":10,\"solidity\":0.2}},\"type\":\"barpolar\"}],\"carpet\":[{\"aaxis\":{\"endlinecolor\":\"#2a3f5f\",\"gridcolor\":\"white\",\"linecolor\":\"white\",\"minorgridcolor\":\"white\",\"startlinecolor\":\"#2a3f5f\"},\"baxis\":{\"endlinecolor\":\"#2a3f5f\",\"gridcolor\":\"white\",\"linecolor\":\"white\",\"minorgridcolor\":\"white\",\"startlinecolor\":\"#2a3f5f\"},\"type\":\"carpet\"}],\"choropleth\":[{\"colorbar\":{\"outlinewidth\":0,\"ticks\":\"\"},\"type\":\"choropleth\"}],\"contour\":[{\"colorbar\":{\"outlinewidth\":0,\"ticks\":\"\"},\"colorscale\":[[0.0,\"#0d0887\"],[0.1111111111111111,\"#46039f\"],[0.2222222222222222,\"#7201a8\"],[0.3333333333333333,\"#9c179e\"],[0.4444444444444444,\"#bd3786\"],[0.5555555555555556,\"#d8576b\"],[0.6666666666666666,\"#ed7953\"],[0.7777777777777778,\"#fb9f3a\"],[0.8888888888888888,\"#fdca26\"],[1.0,\"#f0f921\"]],\"type\":\"contour\"}],\"contourcarpet\":[{\"colorbar\":{\"outlinewidth\":0,\"ticks\":\"\"},\"type\":\"contourcarpet\"}],\"heatmap\":[{\"colorbar\":{\"outlinewidth\":0,\"ticks\":\"\"},\"colorscale\":[[0.0,\"#0d0887\"],[0.1111111111111111,\"#46039f\"],[0.2222222222222222,\"#7201a8\"],[0.3333333333333333,\"#9c179e\"],[0.4444444444444444,\"#bd3786\"],[0.5555555555555556,\"#d8576b\"],[0.6666666666666666,\"#ed7953\"],[0.7777777777777778,\"#fb9f3a\"],[0.8888888888888888,\"#fdca26\"],[1.0,\"#f0f921\"]],\"type\":\"heatmap\"}],\"heatmapgl\":[{\"colorbar\":{\"outlinewidth\":0,\"ticks\":\"\"},\"colorscale\":[[0.0,\"#0d0887\"],[0.1111111111111111,\"#46039f\"],[0.2222222222222222,\"#7201a8\"],[0.3333333333333333,\"#9c179e\"],[0.4444444444444444,\"#bd3786\"],[0.5555555555555556,\"#d8576b\"],[0.6666666666666666,\"#ed7953\"],[0.7777777777777778,\"#fb9f3a\"],[0.8888888888888888,\"#fdca26\"],[1.0,\"#f0f921\"]],\"type\":\"heatmapgl\"}],\"histogram\":[{\"marker\":{\"pattern\":{\"fillmode\":\"overlay\",\"size\":10,\"solidity\":0.2}},\"type\":\"histogram\"}],\"histogram2d\":[{\"colorbar\":{\"outlinewidth\":0,\"ticks\":\"\"},\"colorscale\":[[0.0,\"#0d0887\"],[0.1111111111111111,\"#46039f\"],[0.2222222222222222,\"#7201a8\"],[0.3333333333333333,\"#9c179e\"],[0.4444444444444444,\"#bd3786\"],[0.5555555555555556,\"#d8576b\"],[0.6666666666666666,\"#ed7953\"],[0.7777777777777778,\"#fb9f3a\"],[0.8888888888888888,\"#fdca26\"],[1.0,\"#f0f921\"]],\"type\":\"histogram2d\"}],\"histogram2dcontour\":[{\"colorbar\":{\"outlinewidth\":0,\"ticks\":\"\"},\"colorscale\":[[0.0,\"#0d0887\"],[0.1111111111111111,\"#46039f\"],[0.2222222222222222,\"#7201a8\"],[0.3333333333333333,\"#9c179e\"],[0.4444444444444444,\"#bd3786\"],[0.5555555555555556,\"#d8576b\"],[0.6666666666666666,\"#ed7953\"],[0.7777777777777778,\"#fb9f3a\"],[0.8888888888888888,\"#fdca26\"],[1.0,\"#f0f921\"]],\"type\":\"histogram2dcontour\"}],\"mesh3d\":[{\"colorbar\":{\"outlinewidth\":0,\"ticks\":\"\"},\"type\":\"mesh3d\"}],\"parcoords\":[{\"line\":{\"colorbar\":{\"outlinewidth\":0,\"ticks\":\"\"}},\"type\":\"parcoords\"}],\"pie\":[{\"automargin\":true,\"type\":\"pie\"}],\"scatter\":[{\"marker\":{\"colorbar\":{\"outlinewidth\":0,\"ticks\":\"\"}},\"type\":\"scatter\"}],\"scatter3d\":[{\"line\":{\"colorbar\":{\"outlinewidth\":0,\"ticks\":\"\"}},\"marker\":{\"colorbar\":{\"outlinewidth\":0,\"ticks\":\"\"}},\"type\":\"scatter3d\"}],\"scattercarpet\":[{\"marker\":{\"colorbar\":{\"outlinewidth\":0,\"ticks\":\"\"}},\"type\":\"scattercarpet\"}],\"scattergeo\":[{\"marker\":{\"colorbar\":{\"outlinewidth\":0,\"ticks\":\"\"}},\"type\":\"scattergeo\"}],\"scattergl\":[{\"marker\":{\"colorbar\":{\"outlinewidth\":0,\"ticks\":\"\"}},\"type\":\"scattergl\"}],\"scattermapbox\":[{\"marker\":{\"colorbar\":{\"outlinewidth\":0,\"ticks\":\"\"}},\"type\":\"scattermapbox\"}],\"scatterpolar\":[{\"marker\":{\"colorbar\":{\"outlinewidth\":0,\"ticks\":\"\"}},\"type\":\"scatterpolar\"}],\"scatterpolargl\":[{\"marker\":{\"colorbar\":{\"outlinewidth\":0,\"ticks\":\"\"}},\"type\":\"scatterpolargl\"}],\"scatterternary\":[{\"marker\":{\"colorbar\":{\"outlinewidth\":0,\"ticks\":\"\"}},\"type\":\"scatterternary\"}],\"surface\":[{\"colorbar\":{\"outlinewidth\":0,\"ticks\":\"\"},\"colorscale\":[[0.0,\"#0d0887\"],[0.1111111111111111,\"#46039f\"],[0.2222222222222222,\"#7201a8\"],[0.3333333333333333,\"#9c179e\"],[0.4444444444444444,\"#bd3786\"],[0.5555555555555556,\"#d8576b\"],[0.6666666666666666,\"#ed7953\"],[0.7777777777777778,\"#fb9f3a\"],[0.8888888888888888,\"#fdca26\"],[1.0,\"#f0f921\"]],\"type\":\"surface\"}],\"table\":[{\"cells\":{\"fill\":{\"color\":\"#EBF0F8\"},\"line\":{\"color\":\"white\"}},\"header\":{\"fill\":{\"color\":\"#C8D4E3\"},\"line\":{\"color\":\"white\"}},\"type\":\"table\"}]},\"layout\":{\"annotationdefaults\":{\"arrowcolor\":\"#2a3f5f\",\"arrowhead\":0,\"arrowwidth\":1},\"autotypenumbers\":\"strict\",\"coloraxis\":{\"colorbar\":{\"outlinewidth\":0,\"ticks\":\"\"}},\"colorscale\":{\"diverging\":[[0,\"#8e0152\"],[0.1,\"#c51b7d\"],[0.2,\"#de77ae\"],[0.3,\"#f1b6da\"],[0.4,\"#fde0ef\"],[0.5,\"#f7f7f7\"],[0.6,\"#e6f5d0\"],[0.7,\"#b8e186\"],[0.8,\"#7fbc41\"],[0.9,\"#4d9221\"],[1,\"#276419\"]],\"sequential\":[[0.0,\"#0d0887\"],[0.1111111111111111,\"#46039f\"],[0.2222222222222222,\"#7201a8\"],[0.3333333333333333,\"#9c179e\"],[0.4444444444444444,\"#bd3786\"],[0.5555555555555556,\"#d8576b\"],[0.6666666666666666,\"#ed7953\"],[0.7777777777777778,\"#fb9f3a\"],[0.8888888888888888,\"#fdca26\"],[1.0,\"#f0f921\"]],\"sequentialminus\":[[0.0,\"#0d0887\"],[0.1111111111111111,\"#46039f\"],[0.2222222222222222,\"#7201a8\"],[0.3333333333333333,\"#9c179e\"],[0.4444444444444444,\"#bd3786\"],[0.5555555555555556,\"#d8576b\"],[0.6666666666666666,\"#ed7953\"],[0.7777777777777778,\"#fb9f3a\"],[0.8888888888888888,\"#fdca26\"],[1.0,\"#f0f921\"]]},\"colorway\":[\"#636efa\",\"#EF553B\",\"#00cc96\",\"#ab63fa\",\"#FFA15A\",\"#19d3f3\",\"#FF6692\",\"#B6E880\",\"#FF97FF\",\"#FECB52\"],\"font\":{\"color\":\"#2a3f5f\"},\"geo\":{\"bgcolor\":\"white\",\"lakecolor\":\"white\",\"landcolor\":\"#E5ECF6\",\"showlakes\":true,\"showland\":true,\"subunitcolor\":\"white\"},\"hoverlabel\":{\"align\":\"left\"},\"hovermode\":\"closest\",\"mapbox\":{\"style\":\"light\"},\"paper_bgcolor\":\"white\",\"plot_bgcolor\":\"#E5ECF6\",\"polar\":{\"angularaxis\":{\"gridcolor\":\"white\",\"linecolor\":\"white\",\"ticks\":\"\"},\"bgcolor\":\"#E5ECF6\",\"radialaxis\":{\"gridcolor\":\"white\",\"linecolor\":\"white\",\"ticks\":\"\"}},\"scene\":{\"xaxis\":{\"backgroundcolor\":\"#E5ECF6\",\"gridcolor\":\"white\",\"gridwidth\":2,\"linecolor\":\"white\",\"showbackground\":true,\"ticks\":\"\",\"zerolinecolor\":\"white\"},\"yaxis\":{\"backgroundcolor\":\"#E5ECF6\",\"gridcolor\":\"white\",\"gridwidth\":2,\"linecolor\":\"white\",\"showbackground\":true,\"ticks\":\"\",\"zerolinecolor\":\"white\"},\"zaxis\":{\"backgroundcolor\":\"#E5ECF6\",\"gridcolor\":\"white\",\"gridwidth\":2,\"linecolor\":\"white\",\"showbackground\":true,\"ticks\":\"\",\"zerolinecolor\":\"white\"}},\"shapedefaults\":{\"line\":{\"color\":\"#2a3f5f\"}},\"ternary\":{\"aaxis\":{\"gridcolor\":\"white\",\"linecolor\":\"white\",\"ticks\":\"\"},\"baxis\":{\"gridcolor\":\"white\",\"linecolor\":\"white\",\"ticks\":\"\"},\"bgcolor\":\"#E5ECF6\",\"caxis\":{\"gridcolor\":\"white\",\"linecolor\":\"white\",\"ticks\":\"\"}},\"title\":{\"x\":0.05},\"xaxis\":{\"automargin\":true,\"gridcolor\":\"white\",\"linecolor\":\"white\",\"ticks\":\"\",\"title\":{\"standoff\":15},\"zerolinecolor\":\"white\",\"zerolinewidth\":2},\"yaxis\":{\"automargin\":true,\"gridcolor\":\"white\",\"linecolor\":\"white\",\"ticks\":\"\",\"title\":{\"standoff\":15},\"zerolinecolor\":\"white\",\"zerolinewidth\":2}}},\"legend\":{\"tracegroupgap\":0},\"margin\":{\"t\":60},\"piecolorway\":[\"#46205c\",\"#b74068\"],\"title\":{\"text\":\"<b>Proportion of Stroke Samples<b> \"}},                        {\"responsive\": true}                    ).then(function(){\n",
              "                            \n",
              "var gd = document.getElementById('5845cb73-b672-4d96-98fd-4e5453a2619e');\n",
              "var x = new MutationObserver(function (mutations, observer) {{\n",
              "        var display = window.getComputedStyle(gd).display;\n",
              "        if (!display || display === 'none') {{\n",
              "            console.log([gd, 'removed!']);\n",
              "            Plotly.purge(gd);\n",
              "            observer.disconnect();\n",
              "        }}\n",
              "}});\n",
              "\n",
              "// Listen for the removal of the full notebook cells\n",
              "var notebookContainer = gd.closest('#notebook-container');\n",
              "if (notebookContainer) {{\n",
              "    x.observe(notebookContainer, {childList: true});\n",
              "}}\n",
              "\n",
              "// Listen for the clearing of the current output cell\n",
              "var outputEl = gd.closest('.output');\n",
              "if (outputEl) {{\n",
              "    x.observe(outputEl, {childList: true});\n",
              "}}\n",
              "\n",
              "                        })                };                            </script>        </div>\n",
              "</body>\n",
              "</html>"
            ]
          },
          "metadata": {}
        }
      ],
      "source": [
        "fig=px.pie(df,names='stroke', color_discrete_sequence=['#46205c', '#b74068']) \n",
        "fig.update_layout(title='<b>Proportion of Stroke Samples<b> ')\n",
        "fig.show(renderer=\"colab\") "
      ]
    },
    {
      "cell_type": "markdown",
      "metadata": {
        "id": "ErVrci9jmmj9"
      },
      "source": [
        "We are clearly dealing with an imbalanced dataset, and later in our pipeline, we will have to deal with this problem potentially with upscaling; that way, we give our models a better chance of learning the small details which define potential stroke individuals."
      ]
    },
    {
      "cell_type": "code",
      "execution_count": 10,
      "metadata": {
        "id": "uXutl6m7Sxlp",
        "colab": {
          "base_uri": "https://localhost:8080/",
          "height": 817
        },
        "outputId": "ce69c978-df18-44db-95d1-79772fa27e71"
      },
      "outputs": [
        {
          "output_type": "display_data",
          "data": {
            "text/html": [
              "<html>\n",
              "<head><meta charset=\"utf-8\" /></head>\n",
              "<body>\n",
              "    <div>            <script src=\"https://cdnjs.cloudflare.com/ajax/libs/mathjax/2.7.5/MathJax.js?config=TeX-AMS-MML_SVG\"></script><script type=\"text/javascript\">if (window.MathJax) {MathJax.Hub.Config({SVG: {font: \"STIX-Web\"}});}</script>                <script type=\"text/javascript\">window.PlotlyConfig = {MathJaxConfig: 'local'};</script>\n",
              "        <script src=\"https://cdn.plot.ly/plotly-2.8.3.min.js\"></script>                <div id=\"0afdfead-f250-4f4a-a3ba-34a47e3c778a\" class=\"plotly-graph-div\" style=\"height:800px; width:100%;\"></div>            <script type=\"text/javascript\">                                    window.PLOTLYENV=window.PLOTLYENV || {};                                    if (document.getElementById(\"0afdfead-f250-4f4a-a3ba-34a47e3c778a\")) {                    Plotly.newPlot(                        \"0afdfead-f250-4f4a-a3ba-34a47e3c778a\",                        [{\"hole\":0.3,\"labels\":[\"<b>Female<b>\",\"<b>Male<b>\",\"<b>Other<b>\"],\"marker\":{\"colors\":[\"burlywood\",\"darkblue\",\"green\"]},\"pull\":[0,0.08,0.3],\"textposition\":\"inside\",\"values\":[2994,2115,1],\"type\":\"pie\",\"domain\":{\"x\":[0.0,0.45],\"y\":[0.0,1.0]}},{\"marker\":{\"color\":\"burlywood\"},\"name\":\"Female Ages\",\"x\":[61.0,49.0,79.0,69.0,59.0,78.0,81.0,61.0,54.0,79.0,50.0,60.0,71.0,52.0,79.0,65.0,82.0,82.0,72.0,49.0,63.0,75.0,58.0,39.0,76.0,79.0,77.0,63.0,82.0,54.0,56.0,80.0,67.0,45.0,70.0,80.0,76.0,67.0,66.0,52.0,80.0,79.0,51.0,66.0,79.0,68.0,70.0,79.0,57.0,80.0,78.0,70.0,69.0,77.0,74.0,81.0,57.0,50.0,54.0,79.0,53.0,76.0,45.0,68.0,38.0,77.0,58.0,53.0,72.0,72.0,80.0,75.0,73.0,78.0,38.0,68.0,71.0,76.0,75.0,59.0,74.0,69.0,72.0,78.0,57.0,70.0,79.0,80.0,55.0,77.0,50.0,57.0,71.0,81.0,76.0,1.32,78.0,70.0,56.0,79.0,79.0,60.0,80.0,78.0,80.0,80.0,46.0,32.0,77.0,82.0,65.0,72.0,74.0,77.0,78.0,78.0,81.0,63.0,39.0,51.0,48.0,81.0,79.0,55.0,76.0,63.0,81.0,57.0,81.0,39.0,80.0,81.0,79.0,73.0,77.0,68.0,51.0,68.0,14.0,75.0,78.0,8.0,70.0,47.0,52.0,75.0,32.0,74.0,79.0,37.0,37.0,40.0,20.0,42.0,44.0,79.0,65.0,57.0,49.0,59.0,25.0,67.0,38.0,54.0,70.0,47.0,3.0,58.0,32.0,23.0,55.0,17.0,16.0,22.0,45.0,66.0,58.0,53.0,78.0,13.0,30.0,43.0,79.0,27.0,38.0,78.0,37.0,48.0,29.0,22.0,57.0,21.0,18.0,78.0,78.0,52.0,51.0,48.0,82.0,54.0,49.0,24.0,37.0,66.0,23.0,55.0,25.0,48.0,79.0,47.0,20.0,60.0,32.0,66.0,36.0,29.0,76.0,39.0,0.64,72.0,43.0,57.0,44.0,4.0,18.0,23.0,53.0,0.88,14.0,53.0,39.0,37.0,70.0,39.0,20.0,17.0,75.0,31.0,5.0,13.0,22.0,52.0,61.0,78.0,21.0,22.0,80.0,64.0,38.0,33.0,3.0,37.0,22.0,24.0,12.0,52.0,68.0,5.0,56.0,43.0,40.0,52.0,63.0,69.0,64.0,62.0,2.0,22.0,26.0,63.0,65.0,42.0,33.0,43.0,11.0,7.0,16.0,44.0,78.0,61.0,43.0,38.0,18.0,43.0,43.0,32.0,81.0,66.0,53.0,78.0,48.0,31.0,42.0,23.0,55.0,71.0,14.0,15.0,66.0,56.0,60.0,57.0,76.0,42.0,71.0,39.0,46.0,51.0,28.0,44.0,68.0,31.0,38.0,5.0,54.0,30.0,23.0,31.0,25.0,20.0,12.0,16.0,43.0,30.0,54.0,57.0,26.0,15.0,76.0,55.0,55.0,39.0,1.8,72.0,0.32,64.0,81.0,32.0,52.0,36.0,51.0,23.0,54.0,54.0,26.0,65.0,42.0,47.0,24.0,56.0,30.0,63.0,46.0,53.0,1.08,59.0,24.0,39.0,1.8,56.0,52.0,42.0,73.0,55.0,80.0,33.0,74.0,40.0,66.0,20.0,51.0,60.0,42.0,66.0,56.0,27.0,80.0,43.0,70.0,58.0,49.0,54.0,56.0,79.0,28.0,9.0,4.0,36.0,80.0,38.0,75.0,48.0,17.0,58.0,53.0,26.0,48.0,27.0,16.0,2.0,1.8,35.0,52.0,55.0,42.0,52.0,18.0,13.0,45.0,29.0,12.0,37.0,30.0,44.0,79.0,45.0,66.0,19.0,49.0,66.0,59.0,23.0,79.0,37.0,70.0,34.0,28.0,13.0,22.0,81.0,28.0,30.0,51.0,43.0,49.0,20.0,79.0,55.0,27.0,9.0,71.0,56.0,64.0,58.0,78.0,1.16,35.0,64.0,18.0,54.0,39.0,37.0,17.0,20.0,31.0,56.0,31.0,31.0,31.0,30.0,63.0,51.0,38.0,58.0,69.0,64.0,31.0,59.0,54.0,24.0,29.0,42.0,31.0,29.0,23.0,25.0,14.0,66.0,77.0,52.0,41.0,31.0,51.0,40.0,48.0,39.0,5.0,21.0,70.0,38.0,36.0,31.0,65.0,33.0,32.0,54.0,51.0,39.0,40.0,19.0,9.0,23.0,19.0,48.0,53.0,70.0,1.4,17.0,40.0,46.0,32.0,40.0,19.0,46.0,31.0,20.0,77.0,51.0,37.0,62.0,17.0,28.0,37.0,3.0,71.0,59.0,62.0,19.0,59.0,59.0,54.0,27.0,4.0,41.0,51.0,59.0,51.0,49.0,35.0,25.0,31.0,68.0,32.0,39.0,63.0,69.0,29.0,1.72,58.0,32.0,77.0,21.0,16.0,8.0,74.0,7.0,23.0,24.0,74.0,52.0,23.0,23.0,51.0,75.0,69.0,57.0,47.0,33.0,51.0,47.0,20.0,15.0,3.0,5.0,30.0,27.0,55.0,19.0,71.0,16.0,49.0,10.0,37.0,7.0,61.0,9.0,46.0,21.0,2.0,37.0,50.0,29.0,80.0,54.0,26.0,6.0,41.0,42.0,14.0,77.0,50.0,51.0,63.0,66.0,20.0,37.0,60.0,53.0,55.0,63.0,57.0,8.0,72.0,51.0,15.0,24.0,30.0,82.0,62.0,79.0,19.0,5.0,31.0,61.0,53.0,76.0,34.0,19.0,50.0,80.0,13.0,30.0,82.0,81.0,48.0,66.0,38.0,53.0,36.0,50.0,32.0,58.0,73.0,62.0,50.0,51.0,19.0,30.0,45.0,28.0,0.32,23.0,77.0,67.0,23.0,59.0,71.0,22.0,27.0,44.0,18.0,66.0,42.0,56.0,69.0,65.0,36.0,69.0,59.0,61.0,28.0,33.0,47.0,48.0,26.0,38.0,28.0,67.0,40.0,55.0,7.0,45.0,28.0,52.0,21.0,45.0,71.0,46.0,3.0,79.0,71.0,52.0,49.0,32.0,78.0,48.0,80.0,34.0,40.0,59.0,11.0,35.0,29.0,59.0,44.0,62.0,32.0,2.0,79.0,2.0,31.0,20.0,55.0,3.0,23.0,33.0,14.0,79.0,76.0,33.0,32.0,0.72,49.0,41.0,58.0,79.0,23.0,78.0,41.0,30.0,32.0,20.0,65.0,79.0,56.0,41.0,33.0,21.0,26.0,69.0,73.0,3.0,1.24,80.0,30.0,71.0,45.0,50.0,25.0,43.0,38.0,14.0,60.0,13.0,46.0,28.0,62.0,6.0,11.0,80.0,80.0,49.0,50.0,79.0,5.0,51.0,71.0,65.0,81.0,46.0,54.0,25.0,22.0,61.0,3.0,21.0,58.0,55.0,80.0,77.0,29.0,46.0,40.0,37.0,35.0,56.0,26.0,75.0,44.0,17.0,47.0,50.0,49.0,47.0,65.0,40.0,82.0,64.0,50.0,40.0,74.0,30.0,60.0,59.0,72.0,62.0,13.0,3.0,61.0,64.0,32.0,42.0,10.0,78.0,68.0,24.0,45.0,37.0,43.0,2.0,59.0,21.0,55.0,14.0,53.0,49.0,45.0,12.0,77.0,52.0,50.0,41.0,37.0,11.0,5.0,17.0,6.0,57.0,76.0,45.0,54.0,40.0,3.0,24.0,52.0,63.0,78.0,22.0,2.0,79.0,49.0,74.0,50.0,49.0,21.0,22.0,21.0,16.0,80.0,25.0,39.0,71.0,71.0,40.0,41.0,3.0,5.0,30.0,49.0,23.0,41.0,63.0,1.24,38.0,43.0,27.0,61.0,34.0,77.0,30.0,81.0,12.0,35.0,82.0,32.0,27.0,44.0,42.0,66.0,25.0,82.0,49.0,77.0,59.0,54.0,38.0,55.0,13.0,45.0,54.0,51.0,47.0,55.0,23.0,50.0,22.0,47.0,53.0,26.0,81.0,25.0,44.0,65.0,54.0,24.0,65.0,33.0,74.0,18.0,77.0,44.0,78.0,37.0,32.0,41.0,75.0,17.0,13.0,25.0,57.0,15.0,68.0,40.0,62.0,45.0,47.0,35.0,1.24,18.0,81.0,73.0,0.08,7.0,66.0,53.0,20.0,15.0,33.0,53.0,28.0,81.0,20.0,1.48,38.0,67.0,41.0,21.0,29.0,25.0,48.0,6.0,32.0,57.0,64.0,60.0,56.0,53.0,42.0,63.0,52.0,62.0,68.0,36.0,3.0,40.0,8.0,65.0,28.0,40.0,65.0,54.0,79.0,62.0,27.0,30.0,15.0,50.0,32.0,33.0,71.0,20.0,44.0,50.0,44.0,47.0,29.0,19.0,41.0,23.0,52.0,21.0,35.0,33.0,53.0,31.0,43.0,61.0,57.0,16.0,60.0,69.0,22.0,45.0,30.0,78.0,68.0,16.0,38.0,39.0,51.0,50.0,27.0,73.0,65.0,76.0,53.0,65.0,48.0,45.0,35.0,31.0,22.0,82.0,50.0,47.0,12.0,63.0,78.0,81.0,39.0,59.0,37.0,78.0,75.0,48.0,13.0,24.0,76.0,26.0,56.0,38.0,12.0,22.0,0.64,78.0,23.0,35.0,78.0,51.0,21.0,25.0,36.0,8.0,48.0,60.0,60.0,9.0,45.0,52.0,30.0,60.0,47.0,82.0,79.0,25.0,26.0,42.0,78.0,55.0,68.0,47.0,47.0,51.0,78.0,45.0,53.0,12.0,56.0,29.0,55.0,49.0,23.0,53.0,56.0,61.0,45.0,47.0,3.0,68.0,76.0,30.0,44.0,31.0,32.0,44.0,37.0,25.0,19.0,27.0,20.0,26.0,5.0,59.0,45.0,80.0,8.0,68.0,5.0,60.0,58.0,43.0,50.0,1.48,5.0,67.0,21.0,36.0,70.0,52.0,28.0,41.0,33.0,31.0,42.0,70.0,58.0,25.0,1.4,47.0,14.0,82.0,61.0,15.0,1.56,53.0,31.0,29.0,5.0,40.0,78.0,39.0,17.0,13.0,42.0,3.0,42.0,41.0,20.0,25.0,37.0,51.0,38.0,60.0,32.0,32.0,63.0,25.0,80.0,31.0,21.0,78.0,50.0,20.0,22.0,57.0,29.0,32.0,54.0,58.0,41.0,32.0,54.0,79.0,45.0,45.0,65.0,57.0,52.0,63.0,57.0,50.0,35.0,35.0,42.0,62.0,3.0,43.0,52.0,81.0,15.0,30.0,40.0,47.0,66.0,41.0,63.0,12.0,46.0,8.0,4.0,26.0,48.0,24.0,42.0,57.0,51.0,27.0,53.0,52.0,68.0,23.0,43.0,52.0,21.0,49.0,27.0,52.0,22.0,19.0,29.0,49.0,56.0,25.0,44.0,36.0,39.0,71.0,18.0,27.0,29.0,26.0,23.0,43.0,49.0,26.0,10.0,41.0,54.0,53.0,55.0,72.0,42.0,55.0,47.0,49.0,12.0,77.0,67.0,2.0,38.0,34.0,57.0,17.0,71.0,19.0,62.0,9.0,77.0,26.0,40.0,59.0,31.0,69.0,56.0,80.0,60.0,40.0,30.0,66.0,37.0,41.0,34.0,18.0,3.0,57.0,27.0,73.0,52.0,65.0,48.0,77.0,34.0,33.0,46.0,1.0,5.0,49.0,45.0,13.0,76.0,20.0,9.0,78.0,55.0,43.0,16.0,71.0,18.0,47.0,20.0,56.0,44.0,6.0,78.0,32.0,40.0,63.0,82.0,17.0,34.0,32.0,47.0,34.0,64.0,65.0,61.0,47.0,71.0,28.0,7.0,68.0,75.0,34.0,8.0,50.0,1.16,76.0,67.0,27.0,51.0,56.0,52.0,18.0,63.0,31.0,37.0,64.0,1.8,69.0,13.0,78.0,21.0,82.0,80.0,69.0,21.0,46.0,14.0,3.0,41.0,67.0,5.0,63.0,73.0,30.0,80.0,64.0,36.0,35.0,28.0,12.0,27.0,62.0,30.0,28.0,16.0,29.0,26.0,29.0,29.0,33.0,19.0,10.0,3.0,60.0,16.0,41.0,19.0,79.0,41.0,51.0,33.0,33.0,61.0,42.0,56.0,40.0,58.0,52.0,47.0,34.0,82.0,31.0,58.0,47.0,13.0,7.0,37.0,77.0,3.0,49.0,60.0,56.0,73.0,65.0,34.0,80.0,80.0,65.0,24.0,33.0,57.0,19.0,39.0,14.0,60.0,3.0,57.0,65.0,67.0,60.0,36.0,26.0,50.0,54.0,36.0,38.0,34.0,7.0,5.0,30.0,39.0,17.0,14.0,52.0,2.0,50.0,48.0,54.0,81.0,15.0,59.0,48.0,44.0,39.0,38.0,43.0,58.0,54.0,38.0,20.0,12.0,42.0,71.0,45.0,67.0,24.0,13.0,66.0,45.0,31.0,14.0,56.0,28.0,11.0,63.0,59.0,35.0,48.0,72.0,73.0,24.0,78.0,77.0,59.0,35.0,75.0,80.0,35.0,22.0,62.0,13.0,44.0,59.0,35.0,52.0,76.0,51.0,79.0,69.0,78.0,56.0,69.0,25.0,58.0,28.0,46.0,37.0,14.0,60.0,65.0,53.0,50.0,23.0,45.0,0.8,82.0,79.0,74.0,50.0,34.0,52.0,67.0,62.0,18.0,75.0,42.0,18.0,66.0,18.0,44.0,36.0,61.0,7.0,15.0,2.0,25.0,63.0,53.0,33.0,23.0,23.0,81.0,69.0,70.0,48.0,2.0,69.0,52.0,2.0,38.0,45.0,1.24,77.0,46.0,50.0,52.0,73.0,40.0,59.0,42.0,26.0,34.0,54.0,57.0,1.56,50.0,64.0,5.0,67.0,17.0,31.0,12.0,30.0,65.0,23.0,53.0,58.0,46.0,41.0,43.0,5.0,36.0,36.0,47.0,18.0,46.0,59.0,48.0,38.0,18.0,56.0,41.0,67.0,60.0,47.0,24.0,17.0,45.0,24.0,79.0,27.0,34.0,50.0,58.0,50.0,80.0,29.0,6.0,16.0,44.0,23.0,34.0,42.0,40.0,39.0,42.0,73.0,62.0,62.0,51.0,57.0,8.0,69.0,16.0,56.0,41.0,1.24,42.0,8.0,63.0,13.0,20.0,71.0,50.0,76.0,41.0,78.0,43.0,49.0,41.0,44.0,52.0,57.0,16.0,35.0,5.0,50.0,43.0,27.0,8.0,23.0,37.0,26.0,58.0,68.0,79.0,40.0,24.0,82.0,81.0,33.0,79.0,62.0,60.0,70.0,17.0,56.0,3.0,44.0,56.0,31.0,23.0,16.0,26.0,44.0,56.0,23.0,38.0,18.0,63.0,41.0,34.0,35.0,33.0,37.0,50.0,76.0,72.0,73.0,29.0,27.0,36.0,61.0,9.0,25.0,68.0,26.0,17.0,18.0,5.0,32.0,70.0,51.0,39.0,34.0,54.0,22.0,21.0,4.0,26.0,33.0,75.0,82.0,61.0,62.0,31.0,76.0,15.0,47.0,47.0,60.0,47.0,35.0,57.0,35.0,10.0,44.0,73.0,41.0,7.0,60.0,49.0,45.0,55.0,54.0,39.0,28.0,70.0,26.0,57.0,16.0,67.0,36.0,40.0,78.0,22.0,20.0,23.0,28.0,6.0,37.0,10.0,34.0,60.0,22.0,62.0,52.0,10.0,29.0,69.0,62.0,79.0,38.0,41.0,8.0,24.0,61.0,40.0,22.0,80.0,60.0,57.0,55.0,39.0,51.0,47.0,32.0,45.0,49.0,74.0,72.0,57.0,55.0,6.0,76.0,38.0,50.0,75.0,1.16,13.0,63.0,29.0,49.0,42.0,61.0,52.0,43.0,4.0,45.0,62.0,72.0,9.0,31.0,20.0,23.0,57.0,64.0,26.0,66.0,77.0,16.0,73.0,54.0,42.0,52.0,28.0,79.0,75.0,48.0,56.0,55.0,65.0,69.0,29.0,64.0,16.0,75.0,17.0,68.0,82.0,33.0,57.0,52.0,3.0,33.0,24.0,72.0,37.0,36.0,22.0,68.0,35.0,32.0,52.0,82.0,57.0,63.0,50.0,12.0,74.0,66.0,70.0,62.0,42.0,49.0,31.0,52.0,61.0,73.0,64.0,81.0,47.0,2.0,26.0,45.0,57.0,78.0,51.0,54.0,36.0,57.0,25.0,7.0,76.0,45.0,66.0,45.0,79.0,25.0,53.0,35.0,78.0,32.0,26.0,34.0,65.0,15.0,17.0,71.0,42.0,75.0,75.0,61.0,27.0,55.0,2.0,51.0,45.0,48.0,79.0,50.0,79.0,36.0,27.0,22.0,5.0,26.0,33.0,44.0,56.0,67.0,68.0,37.0,5.0,25.0,79.0,2.0,1.48,49.0,2.0,82.0,81.0,1.08,58.0,8.0,9.0,34.0,23.0,74.0,56.0,38.0,41.0,50.0,41.0,62.0,59.0,72.0,45.0,19.0,58.0,20.0,23.0,39.0,22.0,65.0,8.0,51.0,48.0,17.0,53.0,75.0,51.0,41.0,75.0,33.0,72.0,52.0,28.0,78.0,82.0,31.0,53.0,67.0,17.0,29.0,56.0,15.0,29.0,79.0,82.0,36.0,60.0,63.0,26.0,18.0,47.0,80.0,24.0,72.0,51.0,82.0,53.0,15.0,53.0,78.0,62.0,49.0,41.0,78.0,1.48,68.0,59.0,40.0,41.0,21.0,1.88,67.0,42.0,54.0,25.0,72.0,14.0,38.0,23.0,63.0,8.0,28.0,49.0,24.0,69.0,58.0,34.0,64.0,61.0,57.0,57.0,38.0,13.0,37.0,13.0,11.0,68.0,24.0,44.0,46.0,66.0,61.0,16.0,37.0,43.0,27.0,77.0,35.0,30.0,48.0,15.0,26.0,38.0,55.0,21.0,24.0,51.0,46.0,79.0,11.0,61.0,21.0,71.0,13.0,61.0,49.0,44.0,20.0,44.0,23.0,7.0,74.0,80.0,35.0,43.0,45.0,67.0,1.32,41.0,55.0,40.0,33.0,74.0,5.0,27.0,20.0,71.0,65.0,25.0,50.0,1.24,55.0,38.0,72.0,69.0,61.0,34.0,43.0,62.0,37.0,64.0,75.0,27.0,49.0,36.0,64.0,15.0,1.64,76.0,18.0,4.0,27.0,50.0,53.0,73.0,62.0,78.0,51.0,40.0,35.0,46.0,51.0,53.0,43.0,20.0,53.0,1.32,22.0,75.0,66.0,26.0,14.0,32.0,42.0,52.0,74.0,80.0,31.0,28.0,25.0,51.0,42.0,4.0,5.0,16.0,69.0,7.0,2.0,80.0,69.0,75.0,60.0,75.0,10.0,3.0,31.0,59.0,31.0,45.0,58.0,57.0,40.0,55.0,39.0,42.0,8.0,1.48,1.88,69.0,13.0,53.0,16.0,7.0,54.0,14.0,39.0,13.0,69.0,73.0,54.0,26.0,41.0,46.0,29.0,21.0,56.0,14.0,78.0,36.0,57.0,54.0,62.0,28.0,50.0,33.0,25.0,25.0,37.0,60.0,38.0,11.0,63.0,17.0,19.0,40.0,69.0,46.0,63.0,3.0,1.8,18.0,46.0,8.0,53.0,38.0,74.0,24.0,32.0,40.0,19.0,28.0,61.0,44.0,50.0,18.0,37.0,5.0,39.0,65.0,26.0,34.0,45.0,40.0,2.0,61.0,32.0,51.0,52.0,75.0,40.0,32.0,55.0,23.0,52.0,23.0,14.0,45.0,57.0,35.0,8.0,42.0,43.0,8.0,27.0,47.0,53.0,19.0,45.0,54.0,66.0,73.0,31.0,1.88,58.0,60.0,3.0,67.0,35.0,26.0,47.0,1.64,28.0,45.0,65.0,50.0,0.56,30.0,31.0,68.0,63.0,54.0,29.0,57.0,2.0,47.0,79.0,65.0,66.0,64.0,38.0,7.0,63.0,65.0,62.0,50.0,73.0,23.0,32.0,38.0,50.0,39.0,7.0,15.0,32.0,75.0,11.0,34.0,79.0,24.0,39.0,55.0,16.0,38.0,38.0,52.0,80.0,13.0,54.0,61.0,38.0,61.0,41.0,45.0,52.0,51.0,56.0,49.0,51.0,28.0,57.0,41.0,72.0,27.0,31.0,24.0,28.0,24.0,30.0,1.64,27.0,30.0,61.0,18.0,44.0,81.0,38.0,58.0,64.0,38.0,56.0,34.0,79.0,60.0,42.0,59.0,54.0,14.0,13.0,48.0,69.0,74.0,64.0,26.0,74.0,0.48,41.0,36.0,69.0,69.0,32.0,25.0,28.0,16.0,57.0,61.0,74.0,70.0,8.0,49.0,10.0,34.0,45.0,8.0,82.0,42.0,27.0,31.0,57.0,78.0,17.0,61.0,62.0,14.0,62.0,56.0,59.0,35.0,36.0,31.0,56.0,36.0,41.0,50.0,42.0,25.0,42.0,2.0,78.0,36.0,48.0,28.0,80.0,59.0,43.0,47.0,81.0,49.0,53.0,26.0,14.0,20.0,18.0,72.0,52.0,82.0,33.0,37.0,54.0,5.0,35.0,20.0,79.0,27.0,28.0,67.0,35.0,78.0,20.0,43.0,27.0,45.0,11.0,31.0,30.0,27.0,34.0,3.0,44.0,59.0,5.0,31.0,12.0,49.0,15.0,81.0,24.0,13.0,16.0,11.0,55.0,34.0,52.0,50.0,37.0,55.0,2.0,27.0,17.0,53.0,3.0,20.0,31.0,63.0,49.0,72.0,50.0,33.0,12.0,65.0,43.0,22.0,81.0,10.0,18.0,5.0,24.0,45.0,46.0,12.0,40.0,32.0,17.0,31.0,36.0,5.0,29.0,2.0,62.0,45.0,18.0,29.0,52.0,71.0,43.0,60.0,54.0,11.0,75.0,64.0,78.0,14.0,66.0,44.0,61.0,54.0,22.0,67.0,45.0,65.0,45.0,28.0,31.0,70.0,17.0,80.0,79.0,60.0,12.0,36.0,54.0,2.0,28.0,38.0,66.0,45.0,29.0,48.0,68.0,57.0,29.0,30.0,47.0,73.0,66.0,39.0,52.0,34.0,79.0,39.0,26.0,37.0,66.0,16.0,51.0,75.0,40.0,52.0,13.0,44.0,37.0,48.0,81.0,76.0,58.0,11.0,9.0,37.0,16.0,32.0,26.0,21.0,45.0,40.0,41.0,71.0,7.0,27.0,22.0,79.0,38.0,64.0,23.0,19.0,70.0,45.0,34.0,0.72,38.0,38.0,41.0,26.0,48.0,27.0,18.0,20.0,7.0,54.0,61.0,40.0,71.0,57.0,13.0,21.0,63.0,78.0,66.0,42.0,79.0,73.0,42.0,37.0,74.0,59.0,78.0,82.0,19.0,53.0,62.0,49.0,53.0,10.0,40.0,3.0,12.0,43.0,28.0,14.0,63.0,29.0,48.0,40.0,43.0,59.0,78.0,27.0,49.0,17.0,36.0,8.0,56.0,43.0,62.0,39.0,60.0,46.0,12.0,2.0,82.0,32.0,62.0,75.0,81.0,37.0,28.0,25.0,11.0,43.0,56.0,37.0,4.0,51.0,56.0,60.0,32.0,45.0,68.0,51.0,63.0,33.0,56.0,30.0,1.8,17.0,42.0,69.0,22.0,25.0,50.0,65.0,37.0,31.0,52.0,56.0,43.0,2.0,16.0,40.0,53.0,51.0,0.4,76.0,46.0,23.0,53.0,62.0,82.0,33.0,18.0,29.0,56.0,31.0,19.0,40.0,26.0,17.0,30.0,19.0,78.0,55.0,35.0,55.0,45.0,34.0,62.0,53.0,44.0,67.0,48.0,1.32,45.0,63.0,33.0,0.48,63.0,57.0,78.0,59.0,10.0,55.0,20.0,38.0,33.0,32.0,68.0,24.0,81.0,69.0,42.0,28.0,66.0,66.0,47.0,78.0,65.0,68.0,78.0,65.0,70.0,59.0,32.0,61.0,48.0,1.16,50.0,43.0,39.0,24.0,61.0,78.0,23.0,70.0,82.0,19.0,79.0,23.0,77.0,78.0,24.0,81.0,46.0,29.0,59.0,17.0,8.0,23.0,45.0,78.0,35.0,54.0,71.0,24.0,20.0,60.0,12.0,28.0,55.0,70.0,51.0,16.0,59.0,9.0,34.0,47.0,76.0,3.0,76.0,44.0,17.0,73.0,18.0,8.0,40.0,58.0,48.0,17.0,23.0,81.0,16.0,39.0,64.0,10.0,74.0,43.0,39.0,37.0,36.0,61.0,45.0,17.0,17.0,19.0,54.0,51.0,44.0,82.0,49.0,34.0,63.0,79.0,81.0,14.0,31.0,22.0,1.32,20.0,41.0,48.0,51.0,31.0,4.0,34.0,30.0,7.0,61.0,55.0,14.0,36.0,57.0,20.0,43.0,1.08,49.0,53.0,18.0,13.0,37.0,45.0,50.0,12.0,5.0,41.0,41.0,47.0,57.0,65.0,80.0,58.0,74.0,62.0,21.0,17.0,49.0,24.0,56.0,26.0,42.0,34.0,56.0,39.0,77.0,12.0,31.0,14.0,5.0,60.0,53.0,69.0,39.0,0.32,34.0,80.0,45.0,41.0,75.0,47.0,15.0,71.0,10.0,53.0,81.0,62.0,62.0,59.0,19.0,51.0,26.0,44.0,31.0,17.0,23.0,46.0,81.0,50.0,34.0,50.0,49.0,2.0,34.0,22.0,11.0,60.0,46.0,63.0,50.0,36.0,18.0,44.0,4.0,60.0,19.0,39.0,79.0,11.0,43.0,44.0,37.0,34.0,59.0,40.0,8.0,24.0,70.0,68.0,17.0,21.0,38.0,59.0,79.0,50.0,72.0,54.0,44.0,48.0,44.0,61.0,58.0,81.0,35.0,40.0,37.0,35.0,38.0,26.0,72.0,20.0,1.24,26.0,79.0,78.0,46.0,44.0,51.0,41.0,42.0,6.0,46.0,47.0,25.0,40.0,49.0,61.0,82.0,31.0,37.0,21.0,5.0,35.0,24.0,52.0,34.0,8.0,29.0,44.0,19.0,72.0,51.0,63.0,64.0,0.72,45.0,45.0,57.0,18.0,13.0,80.0,81.0,35.0,44.0],\"type\":\"histogram\",\"xaxis\":\"x\",\"yaxis\":\"y\"},{\"marker\":{\"color\":\"darkblue\"},\"name\":\"Male Ages\",\"x\":[67.0,80.0,81.0,74.0,78.0,64.0,75.0,57.0,82.0,71.0,80.0,58.0,69.0,59.0,57.0,42.0,80.0,48.0,74.0,58.0,78.0,54.0,82.0,60.0,76.0,81.0,78.0,63.0,78.0,73.0,75.0,78.0,76.0,59.0,63.0,80.0,43.0,59.0,58.0,54.0,61.0,47.0,74.0,81.0,45.0,58.0,57.0,64.0,58.0,79.0,80.0,71.0,61.0,74.0,80.0,56.0,78.0,82.0,69.0,76.0,76.0,82.0,66.0,65.0,68.0,68.0,71.0,78.0,79.0,81.0,64.0,72.0,78.0,81.0,59.0,61.0,63.0,63.0,82.0,61.0,51.0,59.0,68.0,59.0,70.0,69.0,79.0,74.0,80.0,54.0,78.0,78.0,63.0,78.0,73.0,81.0,79.0,49.0,74.0,78.0,57.0,77.0,60.0,66.0,57.0,68.0,57.0,71.0,3.0,58.0,14.0,79.0,35.0,71.0,27.0,58.0,14.0,59.0,13.0,4.0,67.0,58.0,69.0,44.0,66.0,27.0,43.0,51.0,46.0,57.0,61.0,22.0,11.0,53.0,27.0,76.0,8.0,33.0,11.0,34.0,64.0,68.0,43.0,52.0,76.0,34.0,44.0,41.0,56.0,25.0,4.0,53.0,5.0,4.0,70.0,24.0,55.0,34.0,26.0,38.0,60.0,58.0,57.0,7.0,64.0,12.0,75.0,63.0,53.0,31.0,64.0,53.0,65.0,53.0,20.0,13.0,21.0,65.0,42.0,72.0,13.0,29.0,59.0,13.0,75.0,25.0,69.0,68.0,26.0,25.0,61.0,54.0,11.0,9.0,20.0,21.0,35.0,53.0,60.0,74.0,5.0,29.0,52.0,64.0,31.0,22.0,41.0,49.0,10.0,67.0,40.0,70.0,72.0,23.0,51.0,57.0,65.0,29.0,42.0,18.0,9.0,40.0,77.0,52.0,5.0,36.0,46.0,5.0,12.0,67.0,27.0,25.0,57.0,54.0,18.0,45.0,29.0,18.0,72.0,5.0,57.0,51.0,48.0,15.0,53.0,23.0,31.0,5.0,44.0,40.0,7.0,42.0,48.0,82.0,50.0,43.0,33.0,65.0,52.0,59.0,58.0,28.0,57.0,48.0,37.0,15.0,61.0,53.0,65.0,74.0,71.0,78.0,52.0,28.0,56.0,76.0,10.0,40.0,82.0,61.0,12.0,25.0,31.0,20.0,28.0,32.0,38.0,47.0,78.0,29.0,56.0,9.0,50.0,70.0,24.0,17.0,9.0,50.0,6.0,30.0,73.0,42.0,71.0,23.0,31.0,46.0,55.0,2.0,19.0,47.0,82.0,33.0,42.0,20.0,22.0,61.0,17.0,69.0,19.0,7.0,2.0,19.0,17.0,79.0,39.0,55.0,41.0,41.0,38.0,40.0,12.0,20.0,53.0,61.0,70.0,59.0,61.0,2.0,52.0,5.0,53.0,1.0,71.0,44.0,49.0,2.0,43.0,71.0,41.0,65.0,52.0,49.0,80.0,45.0,26.0,58.0,74.0,17.0,37.0,62.0,80.0,81.0,27.0,71.0,48.0,39.0,63.0,57.0,8.0,71.0,19.0,64.0,75.0,80.0,40.0,54.0,19.0,13.0,60.0,79.0,15.0,1.0,6.0,50.0,31.0,30.0,17.0,24.0,33.0,66.0,40.0,21.0,75.0,59.0,34.0,0.88,50.0,19.0,20.0,50.0,61.0,48.0,82.0,64.0,1.4,0.24,55.0,4.0,70.0,35.0,39.0,9.0,55.0,71.0,49.0,79.0,22.0,39.0,82.0,56.0,41.0,34.0,75.0,57.0,21.0,45.0,57.0,61.0,27.0,57.0,9.0,51.0,61.0,55.0,67.0,67.0,5.0,8.0,47.0,27.0,27.0,30.0,70.0,18.0,41.0,52.0,34.0,1.64,62.0,47.0,33.0,47.0,13.0,53.0,19.0,3.0,15.0,52.0,80.0,2.0,1.56,62.0,1.72,57.0,10.0,56.0,37.0,69.0,46.0,45.0,4.0,74.0,62.0,18.0,23.0,73.0,43.0,43.0,62.0,73.0,42.0,64.0,46.0,80.0,21.0,37.0,51.0,68.0,1.88,20.0,10.0,8.0,65.0,46.0,53.0,43.0,3.0,32.0,53.0,35.0,67.0,15.0,2.0,50.0,15.0,4.0,2.0,11.0,22.0,63.0,49.0,39.0,67.0,48.0,63.0,37.0,20.0,34.0,22.0,53.0,66.0,8.0,53.0,63.0,31.0,43.0,79.0,8.0,38.0,13.0,46.0,73.0,60.0,44.0,5.0,44.0,49.0,80.0,50.0,45.0,55.0,0.8,50.0,73.0,30.0,57.0,29.0,54.0,63.0,46.0,76.0,47.0,49.0,71.0,72.0,68.0,6.0,4.0,72.0,1.08,35.0,54.0,40.0,2.0,41.0,58.0,17.0,39.0,59.0,12.0,12.0,13.0,74.0,75.0,37.0,55.0,57.0,46.0,12.0,6.0,76.0,62.0,82.0,69.0,78.0,37.0,54.0,43.0,9.0,56.0,25.0,18.0,2.0,1.0,54.0,67.0,53.0,47.0,44.0,65.0,81.0,9.0,62.0,16.0,62.0,27.0,24.0,17.0,13.0,51.0,8.0,48.0,18.0,7.0,68.0,49.0,31.0,35.0,2.0,53.0,1.88,60.0,68.0,2.0,24.0,64.0,38.0,42.0,46.0,67.0,51.0,18.0,53.0,75.0,56.0,71.0,78.0,62.0,27.0,30.0,25.0,61.0,71.0,59.0,4.0,65.0,42.0,51.0,66.0,5.0,19.0,12.0,62.0,63.0,8.0,76.0,12.0,48.0,52.0,23.0,25.0,67.0,2.0,31.0,61.0,46.0,47.0,47.0,0.4,51.0,60.0,59.0,15.0,53.0,45.0,70.0,56.0,51.0,34.0,69.0,2.0,77.0,23.0,59.0,76.0,41.0,54.0,21.0,70.0,44.0,53.0,59.0,63.0,58.0,45.0,58.0,44.0,37.0,66.0,63.0,6.0,62.0,82.0,57.0,50.0,35.0,8.0,3.0,36.0,14.0,35.0,45.0,19.0,8.0,59.0,34.0,11.0,36.0,13.0,69.0,63.0,58.0,61.0,37.0,16.0,39.0,24.0,51.0,66.0,31.0,1.72,56.0,62.0,16.0,5.0,26.0,10.0,31.0,22.0,4.0,76.0,32.0,2.0,34.0,54.0,13.0,1.0,57.0,46.0,34.0,25.0,60.0,22.0,35.0,48.0,13.0,50.0,61.0,60.0,43.0,60.0,16.0,14.0,61.0,56.0,14.0,37.0,64.0,12.0,77.0,14.0,37.0,8.0,18.0,78.0,43.0,63.0,10.0,56.0,80.0,63.0,62.0,47.0,25.0,71.0,72.0,63.0,54.0,20.0,56.0,62.0,5.0,21.0,44.0,39.0,38.0,77.0,51.0,39.0,67.0,43.0,42.0,57.0,44.0,16.0,9.0,57.0,81.0,10.0,34.0,33.0,52.0,72.0,52.0,6.0,3.0,18.0,58.0,40.0,75.0,52.0,39.0,45.0,0.56,26.0,44.0,25.0,51.0,18.0,2.0,64.0,22.0,71.0,0.24,54.0,53.0,35.0,31.0,60.0,0.56,59.0,0.64,10.0,60.0,11.0,48.0,69.0,55.0,37.0,72.0,0.48,56.0,6.0,60.0,58.0,8.0,18.0,49.0,2.0,12.0,64.0,64.0,59.0,50.0,73.0,19.0,47.0,1.32,74.0,74.0,63.0,47.0,70.0,41.0,15.0,11.0,65.0,55.0,78.0,35.0,50.0,77.0,57.0,13.0,14.0,1.24,21.0,36.0,42.0,46.0,79.0,67.0,37.0,17.0,50.0,53.0,55.0,52.0,24.0,72.0,41.0,43.0,13.0,39.0,25.0,10.0,7.0,6.0,50.0,3.0,28.0,40.0,55.0,9.0,18.0,73.0,58.0,5.0,78.0,56.0,64.0,13.0,40.0,80.0,79.0,1.72,16.0,46.0,45.0,73.0,78.0,69.0,67.0,28.0,34.0,50.0,55.0,2.0,57.0,48.0,54.0,8.0,45.0,39.0,39.0,40.0,14.0,14.0,49.0,58.0,67.0,8.0,59.0,28.0,67.0,71.0,51.0,22.0,42.0,73.0,64.0,52.0,49.0,55.0,23.0,18.0,12.0,66.0,59.0,47.0,62.0,37.0,5.0,1.08,49.0,2.0,18.0,82.0,57.0,68.0,77.0,47.0,42.0,37.0,73.0,48.0,54.0,43.0,19.0,6.0,47.0,34.0,20.0,62.0,0.88,50.0,71.0,7.0,79.0,72.0,25.0,58.0,56.0,47.0,26.0,55.0,35.0,1.64,48.0,45.0,31.0,60.0,51.0,53.0,52.0,14.0,30.0,65.0,37.0,9.0,62.0,14.0,36.0,78.0,44.0,10.0,8.0,13.0,46.0,11.0,82.0,79.0,36.0,71.0,78.0,77.0,74.0,9.0,1.64,8.0,14.0,0.88,78.0,32.0,0.88,66.0,78.0,46.0,77.0,76.0,49.0,34.0,50.0,62.0,28.0,28.0,18.0,62.0,31.0,55.0,73.0,26.0,73.0,75.0,81.0,78.0,16.0,4.0,79.0,60.0,23.0,21.0,10.0,50.0,79.0,14.0,71.0,32.0,46.0,48.0,55.0,25.0,73.0,60.0,27.0,46.0,57.0,54.0,7.0,69.0,59.0,49.0,26.0,27.0,0.32,39.0,54.0,39.0,6.0,56.0,53.0,5.0,13.0,60.0,10.0,42.0,21.0,59.0,63.0,25.0,53.0,12.0,42.0,80.0,32.0,49.0,70.0,23.0,78.0,47.0,29.0,52.0,67.0,5.0,52.0,46.0,61.0,20.0,47.0,66.0,2.0,55.0,58.0,15.0,31.0,80.0,80.0,54.0,39.0,76.0,41.0,48.0,39.0,44.0,38.0,32.0,17.0,81.0,15.0,70.0,52.0,61.0,58.0,14.0,27.0,9.0,59.0,55.0,15.0,19.0,65.0,17.0,54.0,3.0,43.0,79.0,72.0,64.0,26.0,2.0,46.0,32.0,48.0,78.0,14.0,10.0,47.0,14.0,45.0,58.0,0.8,57.0,20.0,43.0,62.0,42.0,50.0,80.0,76.0,5.0,29.0,70.0,24.0,20.0,34.0,32.0,27.0,20.0,29.0,63.0,59.0,63.0,52.0,30.0,75.0,14.0,6.0,38.0,3.0,57.0,58.0,76.0,34.0,75.0,11.0,71.0,0.64,32.0,39.0,48.0,24.0,65.0,72.0,10.0,29.0,46.0,33.0,63.0,0.24,55.0,50.0,78.0,63.0,65.0,51.0,60.0,69.0,46.0,23.0,32.0,8.0,77.0,25.0,15.0,1.64,4.0,28.0,16.0,44.0,46.0,46.0,19.0,75.0,34.0,53.0,48.0,79.0,16.0,70.0,55.0,79.0,80.0,59.0,62.0,51.0,42.0,59.0,12.0,71.0,44.0,30.0,62.0,78.0,71.0,12.0,26.0,33.0,60.0,50.0,45.0,76.0,28.0,79.0,30.0,40.0,77.0,2.0,52.0,33.0,40.0,19.0,25.0,61.0,36.0,62.0,13.0,49.0,56.0,77.0,13.0,51.0,73.0,12.0,32.0,12.0,32.0,1.32,53.0,81.0,66.0,8.0,82.0,58.0,42.0,22.0,52.0,54.0,32.0,13.0,18.0,11.0,44.0,36.0,10.0,32.0,43.0,11.0,55.0,78.0,73.0,54.0,42.0,78.0,24.0,50.0,52.0,56.0,56.0,18.0,30.0,39.0,44.0,24.0,54.0,24.0,21.0,33.0,62.0,14.0,60.0,80.0,46.0,26.0,15.0,67.0,63.0,78.0,67.0,41.0,65.0,40.0,46.0,56.0,54.0,2.0,76.0,0.56,30.0,9.0,47.0,61.0,36.0,46.0,32.0,9.0,31.0,43.0,34.0,66.0,18.0,55.0,61.0,0.08,48.0,44.0,52.0,15.0,2.0,60.0,52.0,61.0,36.0,34.0,43.0,81.0,60.0,1.88,72.0,47.0,5.0,27.0,13.0,6.0,4.0,63.0,9.0,41.0,80.0,37.0,77.0,38.0,49.0,23.0,55.0,16.0,81.0,82.0,48.0,56.0,61.0,43.0,41.0,37.0,63.0,51.0,57.0,11.0,74.0,0.24,17.0,8.0,23.0,47.0,24.0,44.0,38.0,18.0,13.0,13.0,5.0,5.0,66.0,41.0,14.0,71.0,32.0,16.0,0.56,32.0,58.0,55.0,49.0,62.0,75.0,59.0,82.0,34.0,17.0,50.0,5.0,47.0,14.0,53.0,67.0,39.0,57.0,79.0,44.0,14.0,81.0,52.0,54.0,27.0,29.0,49.0,52.0,49.0,18.0,52.0,70.0,58.0,51.0,16.0,65.0,40.0,11.0,24.0,5.0,41.0,61.0,25.0,72.0,9.0,33.0,53.0,59.0,27.0,64.0,33.0,39.0,38.0,53.0,22.0,24.0,41.0,38.0,53.0,43.0,30.0,48.0,51.0,69.0,82.0,1.88,45.0,32.0,34.0,17.0,61.0,30.0,48.0,0.16,38.0,19.0,8.0,78.0,0.8,34.0,58.0,78.0,82.0,55.0,81.0,12.0,7.0,6.0,4.0,75.0,80.0,11.0,14.0,58.0,71.0,15.0,45.0,53.0,69.0,64.0,44.0,78.0,80.0,58.0,38.0,28.0,31.0,43.0,1.08,34.0,44.0,69.0,16.0,64.0,41.0,65.0,61.0,63.0,1.8,45.0,51.0,8.0,52.0,71.0,10.0,71.0,15.0,8.0,79.0,26.0,22.0,72.0,8.0,7.0,55.0,58.0,45.0,66.0,80.0,19.0,49.0,78.0,78.0,60.0,12.0,5.0,50.0,1.64,42.0,43.0,35.0,64.0,23.0,39.0,6.0,58.0,17.0,3.0,56.0,45.0,8.0,62.0,40.0,2.0,62.0,50.0,26.0,0.32,45.0,64.0,2.0,12.0,32.0,23.0,26.0,36.0,21.0,81.0,52.0,20.0,1.56,45.0,77.0,37.0,4.0,65.0,46.0,66.0,78.0,56.0,49.0,31.0,37.0,61.0,24.0,66.0,71.0,18.0,57.0,1.8,35.0,67.0,8.0,5.0,56.0,49.0,61.0,76.0,20.0,36.0,20.0,49.0,75.0,28.0,0.16,59.0,12.0,15.0,31.0,52.0,50.0,20.0,67.0,73.0,10.0,57.0,76.0,39.0,45.0,33.0,62.0,1.88,38.0,0.72,57.0,42.0,36.0,44.0,59.0,16.0,13.0,9.0,0.16,5.0,58.0,9.0,62.0,59.0,15.0,5.0,17.0,37.0,54.0,55.0,68.0,9.0,17.0,24.0,38.0,2.0,79.0,31.0,66.0,30.0,51.0,40.0,3.0,4.0,52.0,68.0,36.0,55.0,82.0,55.0,51.0,80.0,41.0,29.0,39.0,66.0,35.0,26.0,79.0,57.0,68.0,69.0,37.0,10.0,39.0,4.0,72.0,63.0,49.0,57.0,54.0,57.0,56.0,66.0,18.0,30.0,8.0,55.0,79.0,25.0,38.0,71.0,46.0,45.0,14.0,5.0,51.0,40.0,61.0,33.0,19.0,53.0,81.0,43.0,32.0,47.0,40.0,38.0,48.0,47.0,64.0,38.0,37.0,68.0,5.0,19.0,41.0,40.0,17.0,3.0,23.0,31.0,7.0,64.0,25.0,81.0,65.0,81.0,36.0,31.0,55.0,39.0,59.0,69.0,3.0,33.0,39.0,61.0,0.24,48.0,30.0,1.48,47.0,53.0,39.0,57.0,30.0,44.0,65.0,6.0,15.0,54.0,63.0,37.0,80.0,43.0,60.0,4.0,66.0,61.0,15.0,1.72,60.0,66.0,2.0,54.0,11.0,16.0,4.0,35.0,66.0,34.0,73.0,81.0,13.0,57.0,21.0,18.0,66.0,11.0,43.0,31.0,7.0,41.0,11.0,55.0,51.0,28.0,78.0,71.0,18.0,3.0,51.0,54.0,56.0,28.0,56.0,47.0,63.0,40.0,55.0,14.0,42.0,19.0,55.0,54.0,15.0,52.0,54.0,60.0,7.0,3.0,60.0,26.0,16.0,44.0,54.0,52.0,60.0,82.0,35.0,10.0,8.0,4.0,49.0,16.0,54.0,49.0,11.0,51.0,74.0,17.0,64.0,52.0,11.0,23.0,15.0,48.0,33.0,46.0,68.0,60.0,57.0,9.0,4.0,37.0,3.0,14.0,16.0,40.0,33.0,2.0,36.0,30.0,16.0,58.0,47.0,59.0,59.0,57.0,33.0,32.0,28.0,25.0,33.0,65.0,36.0,31.0,54.0,77.0,42.0,72.0,49.0,32.0,70.0,8.0,54.0,37.0,59.0,21.0,2.0,14.0,32.0,70.0,44.0,39.0,19.0,8.0,8.0,78.0,31.0,5.0,55.0,63.0,67.0,59.0,47.0,50.0,51.0,44.0,62.0,15.0,79.0,57.0,9.0,55.0,41.0,41.0,67.0,18.0,60.0,75.0,48.0,62.0,69.0,56.0,52.0,46.0,49.0,10.0,82.0,16.0,31.0,17.0,73.0,42.0,79.0,53.0,9.0,21.0,29.0,8.0,37.0,9.0,17.0,8.0,62.0,73.0,48.0,17.0,62.0,5.0,15.0,34.0,75.0,53.0,57.0,32.0,66.0,49.0,73.0,19.0,1.08,4.0,1.8,44.0,55.0,75.0,14.0,32.0,43.0,5.0,49.0,12.0,39.0,16.0,3.0,33.0,54.0,65.0,7.0,25.0,55.0,20.0,54.0,23.0,75.0,36.0,72.0,40.0,38.0,11.0,0.72,9.0,28.0,1.32,16.0,24.0,38.0,13.0,4.0,55.0,58.0,51.0,38.0,60.0,47.0,54.0,3.0,30.0,65.0,78.0,15.0,20.0,76.0,31.0,58.0,64.0,4.0,18.0,20.0,17.0,29.0,29.0,5.0,33.0,10.0,21.0,56.0,55.0,41.0,30.0,53.0,32.0,38.0,33.0,44.0,40.0,5.0,21.0,78.0,41.0,39.0,70.0,21.0,80.0,81.0,70.0,17.0,1.72,55.0,67.0,26.0,59.0,76.0,13.0,1.08,57.0,68.0,9.0,40.0,82.0,51.0],\"type\":\"histogram\",\"xaxis\":\"x2\",\"yaxis\":\"y2\"}],                        {\"template\":{\"data\":{\"bar\":[{\"error_x\":{\"color\":\"#2a3f5f\"},\"error_y\":{\"color\":\"#2a3f5f\"},\"marker\":{\"line\":{\"color\":\"#E5ECF6\",\"width\":0.5},\"pattern\":{\"fillmode\":\"overlay\",\"size\":10,\"solidity\":0.2}},\"type\":\"bar\"}],\"barpolar\":[{\"marker\":{\"line\":{\"color\":\"#E5ECF6\",\"width\":0.5},\"pattern\":{\"fillmode\":\"overlay\",\"size\":10,\"solidity\":0.2}},\"type\":\"barpolar\"}],\"carpet\":[{\"aaxis\":{\"endlinecolor\":\"#2a3f5f\",\"gridcolor\":\"white\",\"linecolor\":\"white\",\"minorgridcolor\":\"white\",\"startlinecolor\":\"#2a3f5f\"},\"baxis\":{\"endlinecolor\":\"#2a3f5f\",\"gridcolor\":\"white\",\"linecolor\":\"white\",\"minorgridcolor\":\"white\",\"startlinecolor\":\"#2a3f5f\"},\"type\":\"carpet\"}],\"choropleth\":[{\"colorbar\":{\"outlinewidth\":0,\"ticks\":\"\"},\"type\":\"choropleth\"}],\"contour\":[{\"colorbar\":{\"outlinewidth\":0,\"ticks\":\"\"},\"colorscale\":[[0.0,\"#0d0887\"],[0.1111111111111111,\"#46039f\"],[0.2222222222222222,\"#7201a8\"],[0.3333333333333333,\"#9c179e\"],[0.4444444444444444,\"#bd3786\"],[0.5555555555555556,\"#d8576b\"],[0.6666666666666666,\"#ed7953\"],[0.7777777777777778,\"#fb9f3a\"],[0.8888888888888888,\"#fdca26\"],[1.0,\"#f0f921\"]],\"type\":\"contour\"}],\"contourcarpet\":[{\"colorbar\":{\"outlinewidth\":0,\"ticks\":\"\"},\"type\":\"contourcarpet\"}],\"heatmap\":[{\"colorbar\":{\"outlinewidth\":0,\"ticks\":\"\"},\"colorscale\":[[0.0,\"#0d0887\"],[0.1111111111111111,\"#46039f\"],[0.2222222222222222,\"#7201a8\"],[0.3333333333333333,\"#9c179e\"],[0.4444444444444444,\"#bd3786\"],[0.5555555555555556,\"#d8576b\"],[0.6666666666666666,\"#ed7953\"],[0.7777777777777778,\"#fb9f3a\"],[0.8888888888888888,\"#fdca26\"],[1.0,\"#f0f921\"]],\"type\":\"heatmap\"}],\"heatmapgl\":[{\"colorbar\":{\"outlinewidth\":0,\"ticks\":\"\"},\"colorscale\":[[0.0,\"#0d0887\"],[0.1111111111111111,\"#46039f\"],[0.2222222222222222,\"#7201a8\"],[0.3333333333333333,\"#9c179e\"],[0.4444444444444444,\"#bd3786\"],[0.5555555555555556,\"#d8576b\"],[0.6666666666666666,\"#ed7953\"],[0.7777777777777778,\"#fb9f3a\"],[0.8888888888888888,\"#fdca26\"],[1.0,\"#f0f921\"]],\"type\":\"heatmapgl\"}],\"histogram\":[{\"marker\":{\"pattern\":{\"fillmode\":\"overlay\",\"size\":10,\"solidity\":0.2}},\"type\":\"histogram\"}],\"histogram2d\":[{\"colorbar\":{\"outlinewidth\":0,\"ticks\":\"\"},\"colorscale\":[[0.0,\"#0d0887\"],[0.1111111111111111,\"#46039f\"],[0.2222222222222222,\"#7201a8\"],[0.3333333333333333,\"#9c179e\"],[0.4444444444444444,\"#bd3786\"],[0.5555555555555556,\"#d8576b\"],[0.6666666666666666,\"#ed7953\"],[0.7777777777777778,\"#fb9f3a\"],[0.8888888888888888,\"#fdca26\"],[1.0,\"#f0f921\"]],\"type\":\"histogram2d\"}],\"histogram2dcontour\":[{\"colorbar\":{\"outlinewidth\":0,\"ticks\":\"\"},\"colorscale\":[[0.0,\"#0d0887\"],[0.1111111111111111,\"#46039f\"],[0.2222222222222222,\"#7201a8\"],[0.3333333333333333,\"#9c179e\"],[0.4444444444444444,\"#bd3786\"],[0.5555555555555556,\"#d8576b\"],[0.6666666666666666,\"#ed7953\"],[0.7777777777777778,\"#fb9f3a\"],[0.8888888888888888,\"#fdca26\"],[1.0,\"#f0f921\"]],\"type\":\"histogram2dcontour\"}],\"mesh3d\":[{\"colorbar\":{\"outlinewidth\":0,\"ticks\":\"\"},\"type\":\"mesh3d\"}],\"parcoords\":[{\"line\":{\"colorbar\":{\"outlinewidth\":0,\"ticks\":\"\"}},\"type\":\"parcoords\"}],\"pie\":[{\"automargin\":true,\"type\":\"pie\"}],\"scatter\":[{\"marker\":{\"colorbar\":{\"outlinewidth\":0,\"ticks\":\"\"}},\"type\":\"scatter\"}],\"scatter3d\":[{\"line\":{\"colorbar\":{\"outlinewidth\":0,\"ticks\":\"\"}},\"marker\":{\"colorbar\":{\"outlinewidth\":0,\"ticks\":\"\"}},\"type\":\"scatter3d\"}],\"scattercarpet\":[{\"marker\":{\"colorbar\":{\"outlinewidth\":0,\"ticks\":\"\"}},\"type\":\"scattercarpet\"}],\"scattergeo\":[{\"marker\":{\"colorbar\":{\"outlinewidth\":0,\"ticks\":\"\"}},\"type\":\"scattergeo\"}],\"scattergl\":[{\"marker\":{\"colorbar\":{\"outlinewidth\":0,\"ticks\":\"\"}},\"type\":\"scattergl\"}],\"scattermapbox\":[{\"marker\":{\"colorbar\":{\"outlinewidth\":0,\"ticks\":\"\"}},\"type\":\"scattermapbox\"}],\"scatterpolar\":[{\"marker\":{\"colorbar\":{\"outlinewidth\":0,\"ticks\":\"\"}},\"type\":\"scatterpolar\"}],\"scatterpolargl\":[{\"marker\":{\"colorbar\":{\"outlinewidth\":0,\"ticks\":\"\"}},\"type\":\"scatterpolargl\"}],\"scatterternary\":[{\"marker\":{\"colorbar\":{\"outlinewidth\":0,\"ticks\":\"\"}},\"type\":\"scatterternary\"}],\"surface\":[{\"colorbar\":{\"outlinewidth\":0,\"ticks\":\"\"},\"colorscale\":[[0.0,\"#0d0887\"],[0.1111111111111111,\"#46039f\"],[0.2222222222222222,\"#7201a8\"],[0.3333333333333333,\"#9c179e\"],[0.4444444444444444,\"#bd3786\"],[0.5555555555555556,\"#d8576b\"],[0.6666666666666666,\"#ed7953\"],[0.7777777777777778,\"#fb9f3a\"],[0.8888888888888888,\"#fdca26\"],[1.0,\"#f0f921\"]],\"type\":\"surface\"}],\"table\":[{\"cells\":{\"fill\":{\"color\":\"#EBF0F8\"},\"line\":{\"color\":\"white\"}},\"header\":{\"fill\":{\"color\":\"#C8D4E3\"},\"line\":{\"color\":\"white\"}},\"type\":\"table\"}]},\"layout\":{\"annotationdefaults\":{\"arrowcolor\":\"#2a3f5f\",\"arrowhead\":0,\"arrowwidth\":1},\"autotypenumbers\":\"strict\",\"coloraxis\":{\"colorbar\":{\"outlinewidth\":0,\"ticks\":\"\"}},\"colorscale\":{\"diverging\":[[0,\"#8e0152\"],[0.1,\"#c51b7d\"],[0.2,\"#de77ae\"],[0.3,\"#f1b6da\"],[0.4,\"#fde0ef\"],[0.5,\"#f7f7f7\"],[0.6,\"#e6f5d0\"],[0.7,\"#b8e186\"],[0.8,\"#7fbc41\"],[0.9,\"#4d9221\"],[1,\"#276419\"]],\"sequential\":[[0.0,\"#0d0887\"],[0.1111111111111111,\"#46039f\"],[0.2222222222222222,\"#7201a8\"],[0.3333333333333333,\"#9c179e\"],[0.4444444444444444,\"#bd3786\"],[0.5555555555555556,\"#d8576b\"],[0.6666666666666666,\"#ed7953\"],[0.7777777777777778,\"#fb9f3a\"],[0.8888888888888888,\"#fdca26\"],[1.0,\"#f0f921\"]],\"sequentialminus\":[[0.0,\"#0d0887\"],[0.1111111111111111,\"#46039f\"],[0.2222222222222222,\"#7201a8\"],[0.3333333333333333,\"#9c179e\"],[0.4444444444444444,\"#bd3786\"],[0.5555555555555556,\"#d8576b\"],[0.6666666666666666,\"#ed7953\"],[0.7777777777777778,\"#fb9f3a\"],[0.8888888888888888,\"#fdca26\"],[1.0,\"#f0f921\"]]},\"colorway\":[\"#636efa\",\"#EF553B\",\"#00cc96\",\"#ab63fa\",\"#FFA15A\",\"#19d3f3\",\"#FF6692\",\"#B6E880\",\"#FF97FF\",\"#FECB52\"],\"font\":{\"color\":\"#2a3f5f\"},\"geo\":{\"bgcolor\":\"white\",\"lakecolor\":\"white\",\"landcolor\":\"#E5ECF6\",\"showlakes\":true,\"showland\":true,\"subunitcolor\":\"white\"},\"hoverlabel\":{\"align\":\"left\"},\"hovermode\":\"closest\",\"mapbox\":{\"style\":\"light\"},\"paper_bgcolor\":\"white\",\"plot_bgcolor\":\"#E5ECF6\",\"polar\":{\"angularaxis\":{\"gridcolor\":\"white\",\"linecolor\":\"white\",\"ticks\":\"\"},\"bgcolor\":\"#E5ECF6\",\"radialaxis\":{\"gridcolor\":\"white\",\"linecolor\":\"white\",\"ticks\":\"\"}},\"scene\":{\"xaxis\":{\"backgroundcolor\":\"#E5ECF6\",\"gridcolor\":\"white\",\"gridwidth\":2,\"linecolor\":\"white\",\"showbackground\":true,\"ticks\":\"\",\"zerolinecolor\":\"white\"},\"yaxis\":{\"backgroundcolor\":\"#E5ECF6\",\"gridcolor\":\"white\",\"gridwidth\":2,\"linecolor\":\"white\",\"showbackground\":true,\"ticks\":\"\",\"zerolinecolor\":\"white\"},\"zaxis\":{\"backgroundcolor\":\"#E5ECF6\",\"gridcolor\":\"white\",\"gridwidth\":2,\"linecolor\":\"white\",\"showbackground\":true,\"ticks\":\"\",\"zerolinecolor\":\"white\"}},\"shapedefaults\":{\"line\":{\"color\":\"#2a3f5f\"}},\"ternary\":{\"aaxis\":{\"gridcolor\":\"white\",\"linecolor\":\"white\",\"ticks\":\"\"},\"baxis\":{\"gridcolor\":\"white\",\"linecolor\":\"white\",\"ticks\":\"\"},\"bgcolor\":\"#E5ECF6\",\"caxis\":{\"gridcolor\":\"white\",\"linecolor\":\"white\",\"ticks\":\"\"}},\"title\":{\"x\":0.05},\"xaxis\":{\"automargin\":true,\"gridcolor\":\"white\",\"linecolor\":\"white\",\"ticks\":\"\",\"title\":{\"standoff\":15},\"zerolinecolor\":\"white\",\"zerolinewidth\":2},\"yaxis\":{\"automargin\":true,\"gridcolor\":\"white\",\"linecolor\":\"white\",\"ticks\":\"\",\"title\":{\"standoff\":15},\"zerolinecolor\":\"white\",\"zerolinewidth\":2}}},\"xaxis\":{\"anchor\":\"y\",\"domain\":[0.55,1.0]},\"yaxis\":{\"anchor\":\"x\",\"domain\":[0.545,1.0]},\"xaxis2\":{\"anchor\":\"y2\",\"domain\":[0.55,1.0]},\"yaxis2\":{\"anchor\":\"x2\",\"domain\":[0.0,0.455]},\"annotations\":[{\"font\":{\"size\":16},\"showarrow\":false,\"text\":\"<b>Distribution Of Female Ages<b>\",\"x\":0.775,\"xanchor\":\"center\",\"xref\":\"paper\",\"y\":1.0,\"yanchor\":\"bottom\",\"yref\":\"paper\"},{\"font\":{\"size\":16},\"showarrow\":false,\"text\":\"<b>Distribution Of Male Ages<b>\",\"x\":0.775,\"xanchor\":\"center\",\"xref\":\"paper\",\"y\":0.455,\"yanchor\":\"bottom\",\"yref\":\"paper\"}],\"title\":{\"text\":\"<b>Age-Sex Inference<b>\"},\"height\":800,\"showlegend\":true},                        {\"responsive\": true}                    ).then(function(){\n",
              "                            \n",
              "var gd = document.getElementById('0afdfead-f250-4f4a-a3ba-34a47e3c778a');\n",
              "var x = new MutationObserver(function (mutations, observer) {{\n",
              "        var display = window.getComputedStyle(gd).display;\n",
              "        if (!display || display === 'none') {{\n",
              "            console.log([gd, 'removed!']);\n",
              "            Plotly.purge(gd);\n",
              "            observer.disconnect();\n",
              "        }}\n",
              "}});\n",
              "\n",
              "// Listen for the removal of the full notebook cells\n",
              "var notebookContainer = gd.closest('#notebook-container');\n",
              "if (notebookContainer) {{\n",
              "    x.observe(notebookContainer, {childList: true});\n",
              "}}\n",
              "\n",
              "// Listen for the clearing of the current output cell\n",
              "var outputEl = gd.closest('.output');\n",
              "if (outputEl) {{\n",
              "    x.observe(outputEl, {childList: true});\n",
              "}}\n",
              "\n",
              "                        })                };                            </script>        </div>\n",
              "</body>\n",
              "</html>"
            ]
          },
          "metadata": {}
        }
      ],
      "source": [
        "fig = make_subplots(\n",
        "    rows=2, cols=2,subplot_titles=('','<b>Distribution Of Female Ages<b>','<b>Distribution Of Male Ages<b>'),\n",
        "    vertical_spacing=0.09,\n",
        "    specs=[[{\"type\": \"pie\",\"rowspan\": 2},{\"type\": \"histogram\"}] ,[None,{\"type\": \"histogram\"}],]\n",
        ")\n",
        "\n",
        "fig.add_trace(\n",
        "    go.Pie(values=df.gender.value_counts().values,labels=['<b>Female<b>','<b>Male<b>','<b>Other<b>'],hole=0.3,pull=[0,0.08,0.3],marker_colors=['burlywood','darkblue','green'],textposition='inside'),\n",
        "    row=1, col=1\n",
        ")\n",
        "\n",
        "fig.add_trace(\n",
        "    go.Histogram(\n",
        "        x=df.query('gender==\"Female\"').age,marker= dict(color='burlywood'),name='Female Ages'\n",
        "    ),\n",
        "    row=1, col=2\n",
        ")\n",
        "\n",
        "\n",
        "fig.add_trace(\n",
        "    go.Histogram(\n",
        "        x=df.query('gender==\"Male\"').age,marker= dict(color='darkblue'),name='Male Ages'\n",
        "    ),\n",
        "    row=2, col=2\n",
        ")\n",
        "\n",
        "\n",
        "fig.update_layout(\n",
        "    height=800,\n",
        "    showlegend=True,\n",
        "    title_text=\"<b>Age-Sex Inference<b>\",\n",
        ")\n",
        "\n",
        "fig.show(renderer=\"colab\")"
      ]
    },
    {
      "cell_type": "markdown",
      "metadata": {
        "id": "-J5RpjxmctDN"
      },
      "source": [
        "There are slightly more females in our sample data than males and from a visual perspective, the ages seem to be normally distributed but with a high variance measure due to the visible fat tail."
      ]
    },
    {
      "cell_type": "code",
      "execution_count": 11,
      "metadata": {
        "id": "actIIS0mbuix",
        "colab": {
          "base_uri": "https://localhost:8080/",
          "height": 315
        },
        "outputId": "133addc1-f9e8-419f-9a75-d2faeb9858de"
      },
      "outputs": [
        {
          "output_type": "display_data",
          "data": {
            "text/plain": [
              "<Figure size 432x288 with 2 Axes>"
            ],
            "image/png": "[encoded data removed]"
          },
          "metadata": {
            "needs_background": "light"
          }
        }
      ],
      "source": [
        "plt.subplot(2,1,1)\n",
        "plt.title('Stroke Sample Distribution Based On Bmi And Glucose Level')\n",
        "sns.scatterplot(x=df['avg_glucose_level'],y=df['bmi'],hue=df['stroke'])\n",
        "plt.subplot(2,1,2)\n",
        "plt.title('Stroke Sample Distribution Based On Bmi And Age')\n",
        "sns.scatterplot(x=df['age'],y=df['bmi'],hue=df['stroke'])\n",
        "plt.tight_layout()\n",
        "plt.show()"
      ]
    },
    {
      "cell_type": "markdown",
      "metadata": {
        "id": "kwhOUpAmbYV0"
      },
      "source": [
        "**It seems that we have two underlying populations based on the first scatter plot where the x-axis is the glucose level.\n",
        "What it visible straight away is the fact the in both scatterplots the individuals who had a stroke are located in the BMI value region under 60 and in high glucose levels as well as old age.**"
      ]
    },
    {
      "cell_type": "markdown",
      "metadata": {
        "id": "WNZTzXsJbeW8"
      },
      "source": [
        "**Analysis of Stroke Positive Population**\n",
        "\n",
        "*a. According to Gender*"
      ]
    },
    {
      "cell_type": "code",
      "execution_count": 12,
      "metadata": {
        "id": "u7EqiTDDbbki",
        "colab": {
          "base_uri": "https://localhost:8080/",
          "height": 817
        },
        "outputId": "a2086f9c-b890-4064-9f46-91194e10f24c"
      },
      "outputs": [
        {
          "output_type": "display_data",
          "data": {
            "text/html": [
              "<html>\n",
              "<head><meta charset=\"utf-8\" /></head>\n",
              "<body>\n",
              "    <div>            <script src=\"https://cdnjs.cloudflare.com/ajax/libs/mathjax/2.7.5/MathJax.js?config=TeX-AMS-MML_SVG\"></script><script type=\"text/javascript\">if (window.MathJax) {MathJax.Hub.Config({SVG: {font: \"STIX-Web\"}});}</script>                <script type=\"text/javascript\">window.PlotlyConfig = {MathJaxConfig: 'local'};</script>\n",
              "        <script src=\"https://cdn.plot.ly/plotly-2.8.3.min.js\"></script>                <div id=\"f3475773-7787-4bd1-8404-c78ec4fe49fe\" class=\"plotly-graph-div\" style=\"height:800px; width:100%;\"></div>            <script type=\"text/javascript\">                                    window.PLOTLYENV=window.PLOTLYENV || {};                                    if (document.getElementById(\"f3475773-7787-4bd1-8404-c78ec4fe49fe\")) {                    Plotly.newPlot(                        \"f3475773-7787-4bd1-8404-c78ec4fe49fe\",                        [{\"hole\":0.3,\"labels\":[\"<b>Female<b>\",\"<b>Male<b>\",\"<b>Other<b>\"],\"marker\":{\"colors\":[\"burlywood\",\"darkblue\",\"green\"]},\"pull\":[0,0.08,0.3],\"textposition\":\"inside\",\"values\":[141,108],\"type\":\"pie\",\"domain\":{\"x\":[0.0,0.45],\"y\":[0.0,1.0]}},{\"marker\":{\"color\":\"burlywood\"},\"name\":\"Female Ages\",\"x\":[61.0,49.0,79.0,69.0,59.0,78.0,81.0,61.0,54.0,79.0,50.0,60.0,71.0,52.0,79.0,65.0,82.0,82.0,72.0,49.0,63.0,75.0,58.0,39.0,76.0,79.0,77.0,63.0,82.0,54.0,56.0,80.0,67.0,45.0,70.0,80.0,76.0,67.0,66.0,52.0,80.0,79.0,51.0,66.0,79.0,68.0,70.0,79.0,57.0,80.0,78.0,70.0,69.0,77.0,74.0,81.0,57.0,50.0,54.0,79.0,53.0,76.0,45.0,68.0,38.0,77.0,58.0,53.0,72.0,72.0,80.0,75.0,73.0,78.0,38.0,68.0,71.0,76.0,75.0,59.0,74.0,69.0,72.0,78.0,57.0,70.0,79.0,80.0,55.0,77.0,50.0,57.0,71.0,81.0,76.0,1.32,78.0,70.0,56.0,79.0,79.0,60.0,80.0,78.0,80.0,80.0,46.0,32.0,77.0,82.0,65.0,72.0,74.0,77.0,78.0,78.0,81.0,63.0,39.0,51.0,48.0,81.0,79.0,55.0,76.0,63.0,81.0,57.0,81.0,39.0,80.0,81.0,79.0,73.0,77.0,68.0,51.0,68.0,14.0,75.0,78.0],\"type\":\"histogram\",\"xaxis\":\"x\",\"yaxis\":\"y\"},{\"marker\":{\"color\":\"darkblue\"},\"name\":\"Male Ages\",\"x\":[67.0,80.0,81.0,74.0,78.0,64.0,75.0,57.0,82.0,71.0,80.0,58.0,69.0,59.0,57.0,42.0,80.0,48.0,74.0,58.0,78.0,54.0,82.0,60.0,76.0,81.0,78.0,63.0,78.0,73.0,75.0,78.0,76.0,59.0,63.0,80.0,43.0,59.0,58.0,54.0,61.0,47.0,74.0,81.0,45.0,58.0,57.0,64.0,58.0,79.0,80.0,71.0,61.0,74.0,80.0,56.0,78.0,82.0,69.0,76.0,76.0,82.0,66.0,65.0,68.0,68.0,71.0,78.0,79.0,81.0,64.0,72.0,78.0,81.0,59.0,61.0,63.0,63.0,82.0,61.0,51.0,59.0,68.0,59.0,70.0,69.0,79.0,74.0,80.0,54.0,78.0,78.0,63.0,78.0,73.0,81.0,79.0,49.0,74.0,78.0,57.0,77.0,60.0,66.0,57.0,68.0,57.0,71.0],\"type\":\"histogram\",\"xaxis\":\"x2\",\"yaxis\":\"y2\"}],                        {\"template\":{\"data\":{\"bar\":[{\"error_x\":{\"color\":\"#2a3f5f\"},\"error_y\":{\"color\":\"#2a3f5f\"},\"marker\":{\"line\":{\"color\":\"#E5ECF6\",\"width\":0.5},\"pattern\":{\"fillmode\":\"overlay\",\"size\":10,\"solidity\":0.2}},\"type\":\"bar\"}],\"barpolar\":[{\"marker\":{\"line\":{\"color\":\"#E5ECF6\",\"width\":0.5},\"pattern\":{\"fillmode\":\"overlay\",\"size\":10,\"solidity\":0.2}},\"type\":\"barpolar\"}],\"carpet\":[{\"aaxis\":{\"endlinecolor\":\"#2a3f5f\",\"gridcolor\":\"white\",\"linecolor\":\"white\",\"minorgridcolor\":\"white\",\"startlinecolor\":\"#2a3f5f\"},\"baxis\":{\"endlinecolor\":\"#2a3f5f\",\"gridcolor\":\"white\",\"linecolor\":\"white\",\"minorgridcolor\":\"white\",\"startlinecolor\":\"#2a3f5f\"},\"type\":\"carpet\"}],\"choropleth\":[{\"colorbar\":{\"outlinewidth\":0,\"ticks\":\"\"},\"type\":\"choropleth\"}],\"contour\":[{\"colorbar\":{\"outlinewidth\":0,\"ticks\":\"\"},\"colorscale\":[[0.0,\"#0d0887\"],[0.1111111111111111,\"#46039f\"],[0.2222222222222222,\"#7201a8\"],[0.3333333333333333,\"#9c179e\"],[0.4444444444444444,\"#bd3786\"],[0.5555555555555556,\"#d8576b\"],[0.6666666666666666,\"#ed7953\"],[0.7777777777777778,\"#fb9f3a\"],[0.8888888888888888,\"#fdca26\"],[1.0,\"#f0f921\"]],\"type\":\"contour\"}],\"contourcarpet\":[{\"colorbar\":{\"outlinewidth\":0,\"ticks\":\"\"},\"type\":\"contourcarpet\"}],\"heatmap\":[{\"colorbar\":{\"outlinewidth\":0,\"ticks\":\"\"},\"colorscale\":[[0.0,\"#0d0887\"],[0.1111111111111111,\"#46039f\"],[0.2222222222222222,\"#7201a8\"],[0.3333333333333333,\"#9c179e\"],[0.4444444444444444,\"#bd3786\"],[0.5555555555555556,\"#d8576b\"],[0.6666666666666666,\"#ed7953\"],[0.7777777777777778,\"#fb9f3a\"],[0.8888888888888888,\"#fdca26\"],[1.0,\"#f0f921\"]],\"type\":\"heatmap\"}],\"heatmapgl\":[{\"colorbar\":{\"outlinewidth\":0,\"ticks\":\"\"},\"colorscale\":[[0.0,\"#0d0887\"],[0.1111111111111111,\"#46039f\"],[0.2222222222222222,\"#7201a8\"],[0.3333333333333333,\"#9c179e\"],[0.4444444444444444,\"#bd3786\"],[0.5555555555555556,\"#d8576b\"],[0.6666666666666666,\"#ed7953\"],[0.7777777777777778,\"#fb9f3a\"],[0.8888888888888888,\"#fdca26\"],[1.0,\"#f0f921\"]],\"type\":\"heatmapgl\"}],\"histogram\":[{\"marker\":{\"pattern\":{\"fillmode\":\"overlay\",\"size\":10,\"solidity\":0.2}},\"type\":\"histogram\"}],\"histogram2d\":[{\"colorbar\":{\"outlinewidth\":0,\"ticks\":\"\"},\"colorscale\":[[0.0,\"#0d0887\"],[0.1111111111111111,\"#46039f\"],[0.2222222222222222,\"#7201a8\"],[0.3333333333333333,\"#9c179e\"],[0.4444444444444444,\"#bd3786\"],[0.5555555555555556,\"#d8576b\"],[0.6666666666666666,\"#ed7953\"],[0.7777777777777778,\"#fb9f3a\"],[0.8888888888888888,\"#fdca26\"],[1.0,\"#f0f921\"]],\"type\":\"histogram2d\"}],\"histogram2dcontour\":[{\"colorbar\":{\"outlinewidth\":0,\"ticks\":\"\"},\"colorscale\":[[0.0,\"#0d0887\"],[0.1111111111111111,\"#46039f\"],[0.2222222222222222,\"#7201a8\"],[0.3333333333333333,\"#9c179e\"],[0.4444444444444444,\"#bd3786\"],[0.5555555555555556,\"#d8576b\"],[0.6666666666666666,\"#ed7953\"],[0.7777777777777778,\"#fb9f3a\"],[0.8888888888888888,\"#fdca26\"],[1.0,\"#f0f921\"]],\"type\":\"histogram2dcontour\"}],\"mesh3d\":[{\"colorbar\":{\"outlinewidth\":0,\"ticks\":\"\"},\"type\":\"mesh3d\"}],\"parcoords\":[{\"line\":{\"colorbar\":{\"outlinewidth\":0,\"ticks\":\"\"}},\"type\":\"parcoords\"}],\"pie\":[{\"automargin\":true,\"type\":\"pie\"}],\"scatter\":[{\"marker\":{\"colorbar\":{\"outlinewidth\":0,\"ticks\":\"\"}},\"type\":\"scatter\"}],\"scatter3d\":[{\"line\":{\"colorbar\":{\"outlinewidth\":0,\"ticks\":\"\"}},\"marker\":{\"colorbar\":{\"outlinewidth\":0,\"ticks\":\"\"}},\"type\":\"scatter3d\"}],\"scattercarpet\":[{\"marker\":{\"colorbar\":{\"outlinewidth\":0,\"ticks\":\"\"}},\"type\":\"scattercarpet\"}],\"scattergeo\":[{\"marker\":{\"colorbar\":{\"outlinewidth\":0,\"ticks\":\"\"}},\"type\":\"scattergeo\"}],\"scattergl\":[{\"marker\":{\"colorbar\":{\"outlinewidth\":0,\"ticks\":\"\"}},\"type\":\"scattergl\"}],\"scattermapbox\":[{\"marker\":{\"colorbar\":{\"outlinewidth\":0,\"ticks\":\"\"}},\"type\":\"scattermapbox\"}],\"scatterpolar\":[{\"marker\":{\"colorbar\":{\"outlinewidth\":0,\"ticks\":\"\"}},\"type\":\"scatterpolar\"}],\"scatterpolargl\":[{\"marker\":{\"colorbar\":{\"outlinewidth\":0,\"ticks\":\"\"}},\"type\":\"scatterpolargl\"}],\"scatterternary\":[{\"marker\":{\"colorbar\":{\"outlinewidth\":0,\"ticks\":\"\"}},\"type\":\"scatterternary\"}],\"surface\":[{\"colorbar\":{\"outlinewidth\":0,\"ticks\":\"\"},\"colorscale\":[[0.0,\"#0d0887\"],[0.1111111111111111,\"#46039f\"],[0.2222222222222222,\"#7201a8\"],[0.3333333333333333,\"#9c179e\"],[0.4444444444444444,\"#bd3786\"],[0.5555555555555556,\"#d8576b\"],[0.6666666666666666,\"#ed7953\"],[0.7777777777777778,\"#fb9f3a\"],[0.8888888888888888,\"#fdca26\"],[1.0,\"#f0f921\"]],\"type\":\"surface\"}],\"table\":[{\"cells\":{\"fill\":{\"color\":\"#EBF0F8\"},\"line\":{\"color\":\"white\"}},\"header\":{\"fill\":{\"color\":\"#C8D4E3\"},\"line\":{\"color\":\"white\"}},\"type\":\"table\"}]},\"layout\":{\"annotationdefaults\":{\"arrowcolor\":\"#2a3f5f\",\"arrowhead\":0,\"arrowwidth\":1},\"autotypenumbers\":\"strict\",\"coloraxis\":{\"colorbar\":{\"outlinewidth\":0,\"ticks\":\"\"}},\"colorscale\":{\"diverging\":[[0,\"#8e0152\"],[0.1,\"#c51b7d\"],[0.2,\"#de77ae\"],[0.3,\"#f1b6da\"],[0.4,\"#fde0ef\"],[0.5,\"#f7f7f7\"],[0.6,\"#e6f5d0\"],[0.7,\"#b8e186\"],[0.8,\"#7fbc41\"],[0.9,\"#4d9221\"],[1,\"#276419\"]],\"sequential\":[[0.0,\"#0d0887\"],[0.1111111111111111,\"#46039f\"],[0.2222222222222222,\"#7201a8\"],[0.3333333333333333,\"#9c179e\"],[0.4444444444444444,\"#bd3786\"],[0.5555555555555556,\"#d8576b\"],[0.6666666666666666,\"#ed7953\"],[0.7777777777777778,\"#fb9f3a\"],[0.8888888888888888,\"#fdca26\"],[1.0,\"#f0f921\"]],\"sequentialminus\":[[0.0,\"#0d0887\"],[0.1111111111111111,\"#46039f\"],[0.2222222222222222,\"#7201a8\"],[0.3333333333333333,\"#9c179e\"],[0.4444444444444444,\"#bd3786\"],[0.5555555555555556,\"#d8576b\"],[0.6666666666666666,\"#ed7953\"],[0.7777777777777778,\"#fb9f3a\"],[0.8888888888888888,\"#fdca26\"],[1.0,\"#f0f921\"]]},\"colorway\":[\"#636efa\",\"#EF553B\",\"#00cc96\",\"#ab63fa\",\"#FFA15A\",\"#19d3f3\",\"#FF6692\",\"#B6E880\",\"#FF97FF\",\"#FECB52\"],\"font\":{\"color\":\"#2a3f5f\"},\"geo\":{\"bgcolor\":\"white\",\"lakecolor\":\"white\",\"landcolor\":\"#E5ECF6\",\"showlakes\":true,\"showland\":true,\"subunitcolor\":\"white\"},\"hoverlabel\":{\"align\":\"left\"},\"hovermode\":\"closest\",\"mapbox\":{\"style\":\"light\"},\"paper_bgcolor\":\"white\",\"plot_bgcolor\":\"#E5ECF6\",\"polar\":{\"angularaxis\":{\"gridcolor\":\"white\",\"linecolor\":\"white\",\"ticks\":\"\"},\"bgcolor\":\"#E5ECF6\",\"radialaxis\":{\"gridcolor\":\"white\",\"linecolor\":\"white\",\"ticks\":\"\"}},\"scene\":{\"xaxis\":{\"backgroundcolor\":\"#E5ECF6\",\"gridcolor\":\"white\",\"gridwidth\":2,\"linecolor\":\"white\",\"showbackground\":true,\"ticks\":\"\",\"zerolinecolor\":\"white\"},\"yaxis\":{\"backgroundcolor\":\"#E5ECF6\",\"gridcolor\":\"white\",\"gridwidth\":2,\"linecolor\":\"white\",\"showbackground\":true,\"ticks\":\"\",\"zerolinecolor\":\"white\"},\"zaxis\":{\"backgroundcolor\":\"#E5ECF6\",\"gridcolor\":\"white\",\"gridwidth\":2,\"linecolor\":\"white\",\"showbackground\":true,\"ticks\":\"\",\"zerolinecolor\":\"white\"}},\"shapedefaults\":{\"line\":{\"color\":\"#2a3f5f\"}},\"ternary\":{\"aaxis\":{\"gridcolor\":\"white\",\"linecolor\":\"white\",\"ticks\":\"\"},\"baxis\":{\"gridcolor\":\"white\",\"linecolor\":\"white\",\"ticks\":\"\"},\"bgcolor\":\"#E5ECF6\",\"caxis\":{\"gridcolor\":\"white\",\"linecolor\":\"white\",\"ticks\":\"\"}},\"title\":{\"x\":0.05},\"xaxis\":{\"automargin\":true,\"gridcolor\":\"white\",\"linecolor\":\"white\",\"ticks\":\"\",\"title\":{\"standoff\":15},\"zerolinecolor\":\"white\",\"zerolinewidth\":2},\"yaxis\":{\"automargin\":true,\"gridcolor\":\"white\",\"linecolor\":\"white\",\"ticks\":\"\",\"title\":{\"standoff\":15},\"zerolinecolor\":\"white\",\"zerolinewidth\":2}}},\"xaxis\":{\"anchor\":\"y\",\"domain\":[0.55,1.0]},\"yaxis\":{\"anchor\":\"x\",\"domain\":[0.545,1.0]},\"xaxis2\":{\"anchor\":\"y2\",\"domain\":[0.55,1.0]},\"yaxis2\":{\"anchor\":\"x2\",\"domain\":[0.0,0.455]},\"annotations\":[{\"font\":{\"size\":16},\"showarrow\":false,\"text\":\"<b>Distribution Of Female Ages<b>\",\"x\":0.775,\"xanchor\":\"center\",\"xref\":\"paper\",\"y\":1.0,\"yanchor\":\"bottom\",\"yref\":\"paper\"},{\"font\":{\"size\":16},\"showarrow\":false,\"text\":\"<b>Distribution Of Male Ages<b>\",\"x\":0.775,\"xanchor\":\"center\",\"xref\":\"paper\",\"y\":0.455,\"yanchor\":\"bottom\",\"yref\":\"paper\"}],\"title\":{\"text\":\"<b>Age-Sex Infrence Of Stroke Positive Samples<b>\"},\"height\":800,\"showlegend\":true},                        {\"responsive\": true}                    ).then(function(){\n",
              "                            \n",
              "var gd = document.getElementById('f3475773-7787-4bd1-8404-c78ec4fe49fe');\n",
              "var x = new MutationObserver(function (mutations, observer) {{\n",
              "        var display = window.getComputedStyle(gd).display;\n",
              "        if (!display || display === 'none') {{\n",
              "            console.log([gd, 'removed!']);\n",
              "            Plotly.purge(gd);\n",
              "            observer.disconnect();\n",
              "        }}\n",
              "}});\n",
              "\n",
              "// Listen for the removal of the full notebook cells\n",
              "var notebookContainer = gd.closest('#notebook-container');\n",
              "if (notebookContainer) {{\n",
              "    x.observe(notebookContainer, {childList: true});\n",
              "}}\n",
              "\n",
              "// Listen for the clearing of the current output cell\n",
              "var outputEl = gd.closest('.output');\n",
              "if (outputEl) {{\n",
              "    x.observe(outputEl, {childList: true});\n",
              "}}\n",
              "\n",
              "                        })                };                            </script>        </div>\n",
              "</body>\n",
              "</html>"
            ]
          },
          "metadata": {}
        }
      ],
      "source": [
        "stroke_population = df.query('stroke ==1').copy()\n",
        "\n",
        "fig = make_subplots(\n",
        "    rows=2, cols=2,subplot_titles=('','<b>Distribution Of Female Ages<b>','<b>Distribution Of Male Ages<b>'), vertical_spacing=0.09,\n",
        "    specs=[[{\"type\": \"pie\",\"rowspan\": 2},{\"type\": \"histogram\"}] , [None ,{\"type\": \"histogram\"}] ,]\n",
        ")\n",
        "\n",
        "fig.add_trace(\n",
        "    go.Pie(values=stroke_population.gender.value_counts().values,labels=['<b>Female<b>','<b>Male<b>','<b>Other<b>'],hole=0.3,pull=[0,0.08,0.3],marker_colors=['burlywood','darkblue','green'],textposition='inside'),\n",
        "    row=1, col=1\n",
        ")\n",
        "\n",
        "fig.add_trace(\n",
        "    go.Histogram(\n",
        "        x=stroke_population.query('gender==\"Female\"').age,marker= dict(color='burlywood'),name='Female Ages'\n",
        "    ),\n",
        "    row=1, col=2\n",
        ")\n",
        "\n",
        "\n",
        "fig.add_trace(\n",
        "    go.Histogram(\n",
        "        x=stroke_population.query('gender==\"Male\"').age,marker= dict(color='darkblue'),name='Male Ages'\n",
        "    ),\n",
        "    row=2, col=2\n",
        ")\n",
        "\n",
        "\n",
        "fig.update_layout(\n",
        "    height=800,\n",
        "    showlegend=True,\n",
        "    title_text=\"<b>Age-Sex Infrence Of Stroke Positive Samples<b>\",\n",
        ")\n",
        "\n",
        "fig.show(renderer=\"colab\")"
      ]
    },
    {
      "cell_type": "markdown",
      "metadata": {
        "id": "5BNNz5KtcP3s"
      },
      "source": [
        "When looking at the inner distribution of our different attributes among stroke positive samples\n",
        "\n",
        "i)Females, although appearing more than males in our dataset, also surpass the males in the stroke sample space\n",
        "\n",
        "ii)Males are more prone to strokes in their early 50/60 where the median of the women stroke age is around 75-79."
      ]
    },
    {
      "cell_type": "markdown",
      "metadata": {
        "id": "tl8rJGXFEyio"
      },
      "source": [
        "b. According to Work Type\n",
        "\n",
        "c. According to Residence Type\n",
        "\n",
        "d. According to Marriage"
      ]
    },
    {
      "cell_type": "code",
      "execution_count": 13,
      "metadata": {
        "id": "bB8Isg1CcYhR",
        "colab": {
          "base_uri": "https://localhost:8080/",
          "height": 817
        },
        "outputId": "fba9aa70-7fb2-4f8e-e22b-2cad79a07c94"
      },
      "outputs": [
        {
          "output_type": "display_data",
          "data": {
            "text/html": [
              "<html>\n",
              "<head><meta charset=\"utf-8\" /></head>\n",
              "<body>\n",
              "    <div>            <script src=\"https://cdnjs.cloudflare.com/ajax/libs/mathjax/2.7.5/MathJax.js?config=TeX-AMS-MML_SVG\"></script><script type=\"text/javascript\">if (window.MathJax) {MathJax.Hub.Config({SVG: {font: \"STIX-Web\"}});}</script>                <script type=\"text/javascript\">window.PlotlyConfig = {MathJaxConfig: 'local'};</script>\n",
              "        <script src=\"https://cdn.plot.ly/plotly-2.8.3.min.js\"></script>                <div id=\"e793ece5-5c08-4263-8615-2c99bdc0197f\" class=\"plotly-graph-div\" style=\"height:800px; width:100%;\"></div>            <script type=\"text/javascript\">                                    window.PLOTLYENV=window.PLOTLYENV || {};                                    if (document.getElementById(\"e793ece5-5c08-4263-8615-2c99bdc0197f\")) {                    Plotly.newPlot(                        \"e793ece5-5c08-4263-8615-2c99bdc0197f\",                        [{\"hole\":0.3,\"labels\":[\"<b>Private<b>\",\"<b>Self-employed<b>\",\"<b>Govt_job<b>\",\"<b>children<b>\",\"<b>Never_worked<b>\"],\"marker\":{\"colors\":[\"red\",\"lightgreen\",\"darkblue\",\"black\",\"yellow\"]},\"pull\":[0,0.08,0.03,0.2],\"textposition\":\"inside\",\"values\":[149,65,33,2],\"type\":\"pie\",\"domain\":{\"x\":[0.0,0.45],\"y\":[0.0,1.0]}},{\"hole\":0.3,\"labels\":[\"<b>Yes<b>\",\"<b>No<b>\"],\"marker\":{\"colors\":[\"burlywood\",\"darkblue\"]},\"pull\":[0,0.08],\"textposition\":\"inside\",\"values\":[220,29],\"type\":\"pie\",\"domain\":{\"x\":[0.55,1.0],\"y\":[0.545,1.0]}},{\"hole\":0.3,\"labels\":[\"<b>Urban<b>\",\"<b>Rural<b>\"],\"marker\":{\"colors\":[\"black\",\"green\"]},\"pull\":[0,0.08],\"textposition\":\"inside\",\"values\":[135,114],\"type\":\"pie\",\"domain\":{\"x\":[0.55,1.0],\"y\":[0.0,0.455]}}],                        {\"template\":{\"data\":{\"bar\":[{\"error_x\":{\"color\":\"#2a3f5f\"},\"error_y\":{\"color\":\"#2a3f5f\"},\"marker\":{\"line\":{\"color\":\"#E5ECF6\",\"width\":0.5},\"pattern\":{\"fillmode\":\"overlay\",\"size\":10,\"solidity\":0.2}},\"type\":\"bar\"}],\"barpolar\":[{\"marker\":{\"line\":{\"color\":\"#E5ECF6\",\"width\":0.5},\"pattern\":{\"fillmode\":\"overlay\",\"size\":10,\"solidity\":0.2}},\"type\":\"barpolar\"}],\"carpet\":[{\"aaxis\":{\"endlinecolor\":\"#2a3f5f\",\"gridcolor\":\"white\",\"linecolor\":\"white\",\"minorgridcolor\":\"white\",\"startlinecolor\":\"#2a3f5f\"},\"baxis\":{\"endlinecolor\":\"#2a3f5f\",\"gridcolor\":\"white\",\"linecolor\":\"white\",\"minorgridcolor\":\"white\",\"startlinecolor\":\"#2a3f5f\"},\"type\":\"carpet\"}],\"choropleth\":[{\"colorbar\":{\"outlinewidth\":0,\"ticks\":\"\"},\"type\":\"choropleth\"}],\"contour\":[{\"colorbar\":{\"outlinewidth\":0,\"ticks\":\"\"},\"colorscale\":[[0.0,\"#0d0887\"],[0.1111111111111111,\"#46039f\"],[0.2222222222222222,\"#7201a8\"],[0.3333333333333333,\"#9c179e\"],[0.4444444444444444,\"#bd3786\"],[0.5555555555555556,\"#d8576b\"],[0.6666666666666666,\"#ed7953\"],[0.7777777777777778,\"#fb9f3a\"],[0.8888888888888888,\"#fdca26\"],[1.0,\"#f0f921\"]],\"type\":\"contour\"}],\"contourcarpet\":[{\"colorbar\":{\"outlinewidth\":0,\"ticks\":\"\"},\"type\":\"contourcarpet\"}],\"heatmap\":[{\"colorbar\":{\"outlinewidth\":0,\"ticks\":\"\"},\"colorscale\":[[0.0,\"#0d0887\"],[0.1111111111111111,\"#46039f\"],[0.2222222222222222,\"#7201a8\"],[0.3333333333333333,\"#9c179e\"],[0.4444444444444444,\"#bd3786\"],[0.5555555555555556,\"#d8576b\"],[0.6666666666666666,\"#ed7953\"],[0.7777777777777778,\"#fb9f3a\"],[0.8888888888888888,\"#fdca26\"],[1.0,\"#f0f921\"]],\"type\":\"heatmap\"}],\"heatmapgl\":[{\"colorbar\":{\"outlinewidth\":0,\"ticks\":\"\"},\"colorscale\":[[0.0,\"#0d0887\"],[0.1111111111111111,\"#46039f\"],[0.2222222222222222,\"#7201a8\"],[0.3333333333333333,\"#9c179e\"],[0.4444444444444444,\"#bd3786\"],[0.5555555555555556,\"#d8576b\"],[0.6666666666666666,\"#ed7953\"],[0.7777777777777778,\"#fb9f3a\"],[0.8888888888888888,\"#fdca26\"],[1.0,\"#f0f921\"]],\"type\":\"heatmapgl\"}],\"histogram\":[{\"marker\":{\"pattern\":{\"fillmode\":\"overlay\",\"size\":10,\"solidity\":0.2}},\"type\":\"histogram\"}],\"histogram2d\":[{\"colorbar\":{\"outlinewidth\":0,\"ticks\":\"\"},\"colorscale\":[[0.0,\"#0d0887\"],[0.1111111111111111,\"#46039f\"],[0.2222222222222222,\"#7201a8\"],[0.3333333333333333,\"#9c179e\"],[0.4444444444444444,\"#bd3786\"],[0.5555555555555556,\"#d8576b\"],[0.6666666666666666,\"#ed7953\"],[0.7777777777777778,\"#fb9f3a\"],[0.8888888888888888,\"#fdca26\"],[1.0,\"#f0f921\"]],\"type\":\"histogram2d\"}],\"histogram2dcontour\":[{\"colorbar\":{\"outlinewidth\":0,\"ticks\":\"\"},\"colorscale\":[[0.0,\"#0d0887\"],[0.1111111111111111,\"#46039f\"],[0.2222222222222222,\"#7201a8\"],[0.3333333333333333,\"#9c179e\"],[0.4444444444444444,\"#bd3786\"],[0.5555555555555556,\"#d8576b\"],[0.6666666666666666,\"#ed7953\"],[0.7777777777777778,\"#fb9f3a\"],[0.8888888888888888,\"#fdca26\"],[1.0,\"#f0f921\"]],\"type\":\"histogram2dcontour\"}],\"mesh3d\":[{\"colorbar\":{\"outlinewidth\":0,\"ticks\":\"\"},\"type\":\"mesh3d\"}],\"parcoords\":[{\"line\":{\"colorbar\":{\"outlinewidth\":0,\"ticks\":\"\"}},\"type\":\"parcoords\"}],\"pie\":[{\"automargin\":true,\"type\":\"pie\"}],\"scatter\":[{\"marker\":{\"colorbar\":{\"outlinewidth\":0,\"ticks\":\"\"}},\"type\":\"scatter\"}],\"scatter3d\":[{\"line\":{\"colorbar\":{\"outlinewidth\":0,\"ticks\":\"\"}},\"marker\":{\"colorbar\":{\"outlinewidth\":0,\"ticks\":\"\"}},\"type\":\"scatter3d\"}],\"scattercarpet\":[{\"marker\":{\"colorbar\":{\"outlinewidth\":0,\"ticks\":\"\"}},\"type\":\"scattercarpet\"}],\"scattergeo\":[{\"marker\":{\"colorbar\":{\"outlinewidth\":0,\"ticks\":\"\"}},\"type\":\"scattergeo\"}],\"scattergl\":[{\"marker\":{\"colorbar\":{\"outlinewidth\":0,\"ticks\":\"\"}},\"type\":\"scattergl\"}],\"scattermapbox\":[{\"marker\":{\"colorbar\":{\"outlinewidth\":0,\"ticks\":\"\"}},\"type\":\"scattermapbox\"}],\"scatterpolar\":[{\"marker\":{\"colorbar\":{\"outlinewidth\":0,\"ticks\":\"\"}},\"type\":\"scatterpolar\"}],\"scatterpolargl\":[{\"marker\":{\"colorbar\":{\"outlinewidth\":0,\"ticks\":\"\"}},\"type\":\"scatterpolargl\"}],\"scatterternary\":[{\"marker\":{\"colorbar\":{\"outlinewidth\":0,\"ticks\":\"\"}},\"type\":\"scatterternary\"}],\"surface\":[{\"colorbar\":{\"outlinewidth\":0,\"ticks\":\"\"},\"colorscale\":[[0.0,\"#0d0887\"],[0.1111111111111111,\"#46039f\"],[0.2222222222222222,\"#7201a8\"],[0.3333333333333333,\"#9c179e\"],[0.4444444444444444,\"#bd3786\"],[0.5555555555555556,\"#d8576b\"],[0.6666666666666666,\"#ed7953\"],[0.7777777777777778,\"#fb9f3a\"],[0.8888888888888888,\"#fdca26\"],[1.0,\"#f0f921\"]],\"type\":\"surface\"}],\"table\":[{\"cells\":{\"fill\":{\"color\":\"#EBF0F8\"},\"line\":{\"color\":\"white\"}},\"header\":{\"fill\":{\"color\":\"#C8D4E3\"},\"line\":{\"color\":\"white\"}},\"type\":\"table\"}]},\"layout\":{\"annotationdefaults\":{\"arrowcolor\":\"#2a3f5f\",\"arrowhead\":0,\"arrowwidth\":1},\"autotypenumbers\":\"strict\",\"coloraxis\":{\"colorbar\":{\"outlinewidth\":0,\"ticks\":\"\"}},\"colorscale\":{\"diverging\":[[0,\"#8e0152\"],[0.1,\"#c51b7d\"],[0.2,\"#de77ae\"],[0.3,\"#f1b6da\"],[0.4,\"#fde0ef\"],[0.5,\"#f7f7f7\"],[0.6,\"#e6f5d0\"],[0.7,\"#b8e186\"],[0.8,\"#7fbc41\"],[0.9,\"#4d9221\"],[1,\"#276419\"]],\"sequential\":[[0.0,\"#0d0887\"],[0.1111111111111111,\"#46039f\"],[0.2222222222222222,\"#7201a8\"],[0.3333333333333333,\"#9c179e\"],[0.4444444444444444,\"#bd3786\"],[0.5555555555555556,\"#d8576b\"],[0.6666666666666666,\"#ed7953\"],[0.7777777777777778,\"#fb9f3a\"],[0.8888888888888888,\"#fdca26\"],[1.0,\"#f0f921\"]],\"sequentialminus\":[[0.0,\"#0d0887\"],[0.1111111111111111,\"#46039f\"],[0.2222222222222222,\"#7201a8\"],[0.3333333333333333,\"#9c179e\"],[0.4444444444444444,\"#bd3786\"],[0.5555555555555556,\"#d8576b\"],[0.6666666666666666,\"#ed7953\"],[0.7777777777777778,\"#fb9f3a\"],[0.8888888888888888,\"#fdca26\"],[1.0,\"#f0f921\"]]},\"colorway\":[\"#636efa\",\"#EF553B\",\"#00cc96\",\"#ab63fa\",\"#FFA15A\",\"#19d3f3\",\"#FF6692\",\"#B6E880\",\"#FF97FF\",\"#FECB52\"],\"font\":{\"color\":\"#2a3f5f\"},\"geo\":{\"bgcolor\":\"white\",\"lakecolor\":\"white\",\"landcolor\":\"#E5ECF6\",\"showlakes\":true,\"showland\":true,\"subunitcolor\":\"white\"},\"hoverlabel\":{\"align\":\"left\"},\"hovermode\":\"closest\",\"mapbox\":{\"style\":\"light\"},\"paper_bgcolor\":\"white\",\"plot_bgcolor\":\"#E5ECF6\",\"polar\":{\"angularaxis\":{\"gridcolor\":\"white\",\"linecolor\":\"white\",\"ticks\":\"\"},\"bgcolor\":\"#E5ECF6\",\"radialaxis\":{\"gridcolor\":\"white\",\"linecolor\":\"white\",\"ticks\":\"\"}},\"scene\":{\"xaxis\":{\"backgroundcolor\":\"#E5ECF6\",\"gridcolor\":\"white\",\"gridwidth\":2,\"linecolor\":\"white\",\"showbackground\":true,\"ticks\":\"\",\"zerolinecolor\":\"white\"},\"yaxis\":{\"backgroundcolor\":\"#E5ECF6\",\"gridcolor\":\"white\",\"gridwidth\":2,\"linecolor\":\"white\",\"showbackground\":true,\"ticks\":\"\",\"zerolinecolor\":\"white\"},\"zaxis\":{\"backgroundcolor\":\"#E5ECF6\",\"gridcolor\":\"white\",\"gridwidth\":2,\"linecolor\":\"white\",\"showbackground\":true,\"ticks\":\"\",\"zerolinecolor\":\"white\"}},\"shapedefaults\":{\"line\":{\"color\":\"#2a3f5f\"}},\"ternary\":{\"aaxis\":{\"gridcolor\":\"white\",\"linecolor\":\"white\",\"ticks\":\"\"},\"baxis\":{\"gridcolor\":\"white\",\"linecolor\":\"white\",\"ticks\":\"\"},\"bgcolor\":\"#E5ECF6\",\"caxis\":{\"gridcolor\":\"white\",\"linecolor\":\"white\",\"ticks\":\"\"}},\"title\":{\"x\":0.05},\"xaxis\":{\"automargin\":true,\"gridcolor\":\"white\",\"linecolor\":\"white\",\"ticks\":\"\",\"title\":{\"standoff\":15},\"zerolinecolor\":\"white\",\"zerolinewidth\":2},\"yaxis\":{\"automargin\":true,\"gridcolor\":\"white\",\"linecolor\":\"white\",\"ticks\":\"\",\"title\":{\"standoff\":15},\"zerolinecolor\":\"white\",\"zerolinewidth\":2}}},\"annotations\":[{\"font\":{\"size\":16},\"showarrow\":false,\"text\":\"<b>Proportion Of Different Work Types<b>\",\"x\":0.225,\"xanchor\":\"center\",\"xref\":\"paper\",\"y\":1.0,\"yanchor\":\"bottom\",\"yref\":\"paper\"},{\"font\":{\"size\":16},\"showarrow\":false,\"text\":\"<b>Proportion Of Married Individuals<b>\",\"x\":0.775,\"xanchor\":\"center\",\"xref\":\"paper\",\"y\":1.0,\"yanchor\":\"bottom\",\"yref\":\"paper\"},{\"font\":{\"size\":16},\"showarrow\":false,\"text\":\"<b>Proportion Of Residence Type<b>\",\"x\":0.775,\"xanchor\":\"center\",\"xref\":\"paper\",\"y\":0.455,\"yanchor\":\"bottom\",\"yref\":\"paper\"}],\"title\":{\"text\":\"<b>Different Categorical Attributes Of Stroke Samples<b>\"},\"height\":800,\"showlegend\":true},                        {\"responsive\": true}                    ).then(function(){\n",
              "                            \n",
              "var gd = document.getElementById('e793ece5-5c08-4263-8615-2c99bdc0197f');\n",
              "var x = new MutationObserver(function (mutations, observer) {{\n",
              "        var display = window.getComputedStyle(gd).display;\n",
              "        if (!display || display === 'none') {{\n",
              "            console.log([gd, 'removed!']);\n",
              "            Plotly.purge(gd);\n",
              "            observer.disconnect();\n",
              "        }}\n",
              "}});\n",
              "\n",
              "// Listen for the removal of the full notebook cells\n",
              "var notebookContainer = gd.closest('#notebook-container');\n",
              "if (notebookContainer) {{\n",
              "    x.observe(notebookContainer, {childList: true});\n",
              "}}\n",
              "\n",
              "// Listen for the clearing of the current output cell\n",
              "var outputEl = gd.closest('.output');\n",
              "if (outputEl) {{\n",
              "    x.observe(outputEl, {childList: true});\n",
              "}}\n",
              "\n",
              "                        })                };                            </script>        </div>\n",
              "</body>\n",
              "</html>"
            ]
          },
          "metadata": {}
        }
      ],
      "source": [
        "stroke_population = df.query('stroke ==1').copy()\n",
        "\n",
        "fig = make_subplots(\n",
        "    rows=2, cols=2,subplot_titles=('<b>Proportion Of Different Work Types<b>','<b>Proportion Of Married Individuals<b>','<b>Proportion Of Residence Type<b>','Residuals'),\n",
        "    vertical_spacing=0.09,\n",
        "    specs=[[{\"type\": \"pie\",\"rowspan\": 2}       ,{\"type\": \"pie\"}] ,\n",
        "           [None                               ,{\"type\": \"pie\"}]            ,                                      \n",
        "          ]\n",
        ")\n",
        "\n",
        "fig.add_trace(\n",
        "    go.Pie(values=stroke_population.work_type.value_counts().values,labels=['<b>Private<b>','<b>Self-employed<b>','<b>Govt_job<b>','<b>children<b>','<b>Never_worked<b>'],hole=0.3,pull=[0,0.08,0.03,0.2],marker_colors=['red','lightgreen','darkblue','black','yellow'],textposition='inside'),\n",
        "    row=1, col=1\n",
        ")\n",
        "\n",
        "fig.add_trace(\n",
        "    go.Pie(values=stroke_population.ever_married.value_counts().values,labels=['<b>Yes<b>','<b>No<b>'],hole=0.3,pull=[0,0.08],marker_colors=['burlywood','darkblue'],textposition='inside'),\n",
        "    row=1, col=2\n",
        ")\n",
        "fig.add_trace(\n",
        "    go.Pie(values=stroke_population.Residence_type.value_counts().values,labels=['<b>Urban<b>','<b>Rural<b>'],hole=0.3,pull=[0,0.08],marker_colors=['black','green'],textposition='inside'),\n",
        "    row=2, col=2\n",
        ")\n",
        "\n",
        "fig.update_layout(\n",
        "    height=800,\n",
        "    showlegend=True,\n",
        "    title_text=\"<b>Different Categorical Attributes Of Stroke Samples<b>\",\n",
        ")\n",
        "\n",
        "fig.show(renderer = \"colab\")"
      ]
    },
    {
      "cell_type": "markdown",
      "metadata": {
        "id": "OCteNl_hdA0L"
      },
      "source": [
        "It seems that the marriage status and the residence type are distributed in a way that doesn't tell us anything confounding about stroke-positive individuals\n",
        "\n",
        "The residence type is close to a uniform distribution and the marriage status is almost completely dominated by one of the values."
      ]
    },
    {
      "cell_type": "markdown",
      "metadata": {
        "id": "8DvdZ4iHFlfG"
      },
      "source": [
        "*e. According to Smoking category*"
      ]
    },
    {
      "cell_type": "code",
      "execution_count": 14,
      "metadata": {
        "id": "J_3SnGbgdDPM",
        "colab": {
          "base_uri": "https://localhost:8080/",
          "height": 542
        },
        "outputId": "4af6625e-954b-489c-d71a-f8aefd7b577a"
      },
      "outputs": [
        {
          "output_type": "display_data",
          "data": {
            "text/html": [
              "<html>\n",
              "<head><meta charset=\"utf-8\" /></head>\n",
              "<body>\n",
              "    <div>            <script src=\"https://cdnjs.cloudflare.com/ajax/libs/mathjax/2.7.5/MathJax.js?config=TeX-AMS-MML_SVG\"></script><script type=\"text/javascript\">if (window.MathJax) {MathJax.Hub.Config({SVG: {font: \"STIX-Web\"}});}</script>                <script type=\"text/javascript\">window.PlotlyConfig = {MathJaxConfig: 'local'};</script>\n",
              "        <script src=\"https://cdn.plot.ly/plotly-2.8.3.min.js\"></script>                <div id=\"3d500b7f-1f26-4e3e-aca3-8a2f01676111\" class=\"plotly-graph-div\" style=\"height:525px; width:100%;\"></div>            <script type=\"text/javascript\">                                    window.PLOTLYENV=window.PLOTLYENV || {};                                    if (document.getElementById(\"3d500b7f-1f26-4e3e-aca3-8a2f01676111\")) {                    Plotly.newPlot(                        \"3d500b7f-1f26-4e3e-aca3-8a2f01676111\",                        [{\"domain\":{\"x\":[0.0,1.0],\"y\":[0.0,1.0]},\"hovertemplate\":\"smoking_status=%{label}<extra></extra>\",\"labels\":[\"formerly smoked\",\"never smoked\",\"never smoked\",\"smokes\",\"never smoked\",\"formerly smoked\",\"never smoked\",\"never smoked\",\"Unknown\",\"Unknown\",\"never smoked\",\"smokes\",\"smokes\",\"Unknown\",\"never smoked\",\"never smoked\",\"smokes\",\"smokes\",\"never smoked\",\"Unknown\",\"smokes\",\"never smoked\",\"never smoked\",\"Unknown\",\"formerly smoked\",\"never smoked\",\"formerly smoked\",\"Unknown\",\"smokes\",\"formerly smoked\",\"smokes\",\"Unknown\",\"never smoked\",\"formerly smoked\",\"never smoked\",\"formerly smoked\",\"formerly smoked\",\"formerly smoked\",\"Unknown\",\"never smoked\",\"formerly smoked\",\"never smoked\",\"smokes\",\"formerly smoked\",\"smokes\",\"never smoked\",\"Unknown\",\"formerly smoked\",\"never smoked\",\"smokes\",\"Unknown\",\"formerly smoked\",\"never smoked\",\"never smoked\",\"never smoked\",\"formerly smoked\",\"never smoked\",\"formerly smoked\",\"never smoked\",\"never smoked\",\"formerly smoked\",\"never smoked\",\"smokes\",\"formerly smoked\",\"Unknown\",\"never smoked\",\"never smoked\",\"Unknown\",\"formerly smoked\",\"never smoked\",\"formerly smoked\",\"formerly smoked\",\"formerly smoked\",\"never smoked\",\"never smoked\",\"formerly smoked\",\"never smoked\",\"formerly smoked\",\"never smoked\",\"Unknown\",\"Unknown\",\"Unknown\",\"never smoked\",\"never smoked\",\"Unknown\",\"smokes\",\"smokes\",\"formerly smoked\",\"formerly smoked\",\"Unknown\",\"never smoked\",\"never smoked\",\"never smoked\",\"Unknown\",\"never smoked\",\"never smoked\",\"formerly smoked\",\"smokes\",\"formerly smoked\",\"never smoked\",\"Unknown\",\"never smoked\",\"formerly smoked\",\"Unknown\",\"Unknown\",\"smokes\",\"formerly smoked\",\"smokes\",\"never smoked\",\"never smoked\",\"formerly smoked\",\"smokes\",\"formerly smoked\",\"never smoked\",\"Unknown\",\"never smoked\",\"smokes\",\"smokes\",\"formerly smoked\",\"never smoked\",\"formerly smoked\",\"Unknown\",\"smokes\",\"never smoked\",\"Unknown\",\"never smoked\",\"formerly smoked\",\"Unknown\",\"formerly smoked\",\"Unknown\",\"never smoked\",\"never smoked\",\"never smoked\",\"formerly smoked\",\"never smoked\",\"never smoked\",\"formerly smoked\",\"Unknown\",\"formerly smoked\",\"Unknown\",\"never smoked\",\"smokes\",\"never smoked\",\"never smoked\",\"never smoked\",\"formerly smoked\",\"formerly smoked\",\"never smoked\",\"never smoked\",\"never smoked\",\"Unknown\",\"formerly smoked\",\"never smoked\",\"smokes\",\"never smoked\",\"never smoked\",\"smokes\",\"smokes\",\"formerly smoked\",\"never smoked\",\"formerly smoked\",\"smokes\",\"Unknown\",\"never smoked\",\"formerly smoked\",\"formerly smoked\",\"Unknown\",\"never smoked\",\"formerly smoked\",\"never smoked\",\"formerly smoked\",\"never smoked\",\"smokes\",\"formerly smoked\",\"formerly smoked\",\"never smoked\",\"never smoked\",\"formerly smoked\",\"Unknown\",\"Unknown\",\"never smoked\",\"formerly smoked\",\"smokes\",\"Unknown\",\"smokes\",\"formerly smoked\",\"formerly smoked\",\"formerly smoked\",\"formerly smoked\",\"Unknown\",\"formerly smoked\",\"formerly smoked\",\"smokes\",\"smokes\",\"smokes\",\"formerly smoked\",\"formerly smoked\",\"Unknown\",\"formerly smoked\",\"never smoked\",\"Unknown\",\"formerly smoked\",\"never smoked\",\"never smoked\",\"smokes\",\"formerly smoked\",\"never smoked\",\"never smoked\",\"Unknown\",\"Unknown\",\"never smoked\",\"formerly smoked\",\"never smoked\",\"never smoked\",\"never smoked\",\"smokes\",\"never smoked\",\"smokes\",\"smokes\",\"never smoked\",\"smokes\",\"never smoked\",\"formerly smoked\",\"smokes\",\"smokes\",\"Unknown\",\"never smoked\",\"never smoked\",\"smokes\",\"never smoked\",\"never smoked\",\"smokes\",\"never smoked\",\"formerly smoked\",\"Unknown\",\"Unknown\",\"Unknown\",\"formerly smoked\",\"never smoked\",\"smokes\",\"formerly smoked\",\"formerly smoked\",\"never smoked\",\"formerly smoked\",\"Unknown\",\"Unknown\",\"formerly smoked\",\"Unknown\",\"Unknown\"],\"legendgroup\":\"\",\"name\":\"\",\"showlegend\":true,\"type\":\"pie\"}],                        {\"template\":{\"data\":{\"bar\":[{\"error_x\":{\"color\":\"#2a3f5f\"},\"error_y\":{\"color\":\"#2a3f5f\"},\"marker\":{\"line\":{\"color\":\"#E5ECF6\",\"width\":0.5},\"pattern\":{\"fillmode\":\"overlay\",\"size\":10,\"solidity\":0.2}},\"type\":\"bar\"}],\"barpolar\":[{\"marker\":{\"line\":{\"color\":\"#E5ECF6\",\"width\":0.5},\"pattern\":{\"fillmode\":\"overlay\",\"size\":10,\"solidity\":0.2}},\"type\":\"barpolar\"}],\"carpet\":[{\"aaxis\":{\"endlinecolor\":\"#2a3f5f\",\"gridcolor\":\"white\",\"linecolor\":\"white\",\"minorgridcolor\":\"white\",\"startlinecolor\":\"#2a3f5f\"},\"baxis\":{\"endlinecolor\":\"#2a3f5f\",\"gridcolor\":\"white\",\"linecolor\":\"white\",\"minorgridcolor\":\"white\",\"startlinecolor\":\"#2a3f5f\"},\"type\":\"carpet\"}],\"choropleth\":[{\"colorbar\":{\"outlinewidth\":0,\"ticks\":\"\"},\"type\":\"choropleth\"}],\"contour\":[{\"colorbar\":{\"outlinewidth\":0,\"ticks\":\"\"},\"colorscale\":[[0.0,\"#0d0887\"],[0.1111111111111111,\"#46039f\"],[0.2222222222222222,\"#7201a8\"],[0.3333333333333333,\"#9c179e\"],[0.4444444444444444,\"#bd3786\"],[0.5555555555555556,\"#d8576b\"],[0.6666666666666666,\"#ed7953\"],[0.7777777777777778,\"#fb9f3a\"],[0.8888888888888888,\"#fdca26\"],[1.0,\"#f0f921\"]],\"type\":\"contour\"}],\"contourcarpet\":[{\"colorbar\":{\"outlinewidth\":0,\"ticks\":\"\"},\"type\":\"contourcarpet\"}],\"heatmap\":[{\"colorbar\":{\"outlinewidth\":0,\"ticks\":\"\"},\"colorscale\":[[0.0,\"#0d0887\"],[0.1111111111111111,\"#46039f\"],[0.2222222222222222,\"#7201a8\"],[0.3333333333333333,\"#9c179e\"],[0.4444444444444444,\"#bd3786\"],[0.5555555555555556,\"#d8576b\"],[0.6666666666666666,\"#ed7953\"],[0.7777777777777778,\"#fb9f3a\"],[0.8888888888888888,\"#fdca26\"],[1.0,\"#f0f921\"]],\"type\":\"heatmap\"}],\"heatmapgl\":[{\"colorbar\":{\"outlinewidth\":0,\"ticks\":\"\"},\"colorscale\":[[0.0,\"#0d0887\"],[0.1111111111111111,\"#46039f\"],[0.2222222222222222,\"#7201a8\"],[0.3333333333333333,\"#9c179e\"],[0.4444444444444444,\"#bd3786\"],[0.5555555555555556,\"#d8576b\"],[0.6666666666666666,\"#ed7953\"],[0.7777777777777778,\"#fb9f3a\"],[0.8888888888888888,\"#fdca26\"],[1.0,\"#f0f921\"]],\"type\":\"heatmapgl\"}],\"histogram\":[{\"marker\":{\"pattern\":{\"fillmode\":\"overlay\",\"size\":10,\"solidity\":0.2}},\"type\":\"histogram\"}],\"histogram2d\":[{\"colorbar\":{\"outlinewidth\":0,\"ticks\":\"\"},\"colorscale\":[[0.0,\"#0d0887\"],[0.1111111111111111,\"#46039f\"],[0.2222222222222222,\"#7201a8\"],[0.3333333333333333,\"#9c179e\"],[0.4444444444444444,\"#bd3786\"],[0.5555555555555556,\"#d8576b\"],[0.6666666666666666,\"#ed7953\"],[0.7777777777777778,\"#fb9f3a\"],[0.8888888888888888,\"#fdca26\"],[1.0,\"#f0f921\"]],\"type\":\"histogram2d\"}],\"histogram2dcontour\":[{\"colorbar\":{\"outlinewidth\":0,\"ticks\":\"\"},\"colorscale\":[[0.0,\"#0d0887\"],[0.1111111111111111,\"#46039f\"],[0.2222222222222222,\"#7201a8\"],[0.3333333333333333,\"#9c179e\"],[0.4444444444444444,\"#bd3786\"],[0.5555555555555556,\"#d8576b\"],[0.6666666666666666,\"#ed7953\"],[0.7777777777777778,\"#fb9f3a\"],[0.8888888888888888,\"#fdca26\"],[1.0,\"#f0f921\"]],\"type\":\"histogram2dcontour\"}],\"mesh3d\":[{\"colorbar\":{\"outlinewidth\":0,\"ticks\":\"\"},\"type\":\"mesh3d\"}],\"parcoords\":[{\"line\":{\"colorbar\":{\"outlinewidth\":0,\"ticks\":\"\"}},\"type\":\"parcoords\"}],\"pie\":[{\"automargin\":true,\"type\":\"pie\"}],\"scatter\":[{\"marker\":{\"colorbar\":{\"outlinewidth\":0,\"ticks\":\"\"}},\"type\":\"scatter\"}],\"scatter3d\":[{\"line\":{\"colorbar\":{\"outlinewidth\":0,\"ticks\":\"\"}},\"marker\":{\"colorbar\":{\"outlinewidth\":0,\"ticks\":\"\"}},\"type\":\"scatter3d\"}],\"scattercarpet\":[{\"marker\":{\"colorbar\":{\"outlinewidth\":0,\"ticks\":\"\"}},\"type\":\"scattercarpet\"}],\"scattergeo\":[{\"marker\":{\"colorbar\":{\"outlinewidth\":0,\"ticks\":\"\"}},\"type\":\"scattergeo\"}],\"scattergl\":[{\"marker\":{\"colorbar\":{\"outlinewidth\":0,\"ticks\":\"\"}},\"type\":\"scattergl\"}],\"scattermapbox\":[{\"marker\":{\"colorbar\":{\"outlinewidth\":0,\"ticks\":\"\"}},\"type\":\"scattermapbox\"}],\"scatterpolar\":[{\"marker\":{\"colorbar\":{\"outlinewidth\":0,\"ticks\":\"\"}},\"type\":\"scatterpolar\"}],\"scatterpolargl\":[{\"marker\":{\"colorbar\":{\"outlinewidth\":0,\"ticks\":\"\"}},\"type\":\"scatterpolargl\"}],\"scatterternary\":[{\"marker\":{\"colorbar\":{\"outlinewidth\":0,\"ticks\":\"\"}},\"type\":\"scatterternary\"}],\"surface\":[{\"colorbar\":{\"outlinewidth\":0,\"ticks\":\"\"},\"colorscale\":[[0.0,\"#0d0887\"],[0.1111111111111111,\"#46039f\"],[0.2222222222222222,\"#7201a8\"],[0.3333333333333333,\"#9c179e\"],[0.4444444444444444,\"#bd3786\"],[0.5555555555555556,\"#d8576b\"],[0.6666666666666666,\"#ed7953\"],[0.7777777777777778,\"#fb9f3a\"],[0.8888888888888888,\"#fdca26\"],[1.0,\"#f0f921\"]],\"type\":\"surface\"}],\"table\":[{\"cells\":{\"fill\":{\"color\":\"#EBF0F8\"},\"line\":{\"color\":\"white\"}},\"header\":{\"fill\":{\"color\":\"#C8D4E3\"},\"line\":{\"color\":\"white\"}},\"type\":\"table\"}]},\"layout\":{\"annotationdefaults\":{\"arrowcolor\":\"#2a3f5f\",\"arrowhead\":0,\"arrowwidth\":1},\"autotypenumbers\":\"strict\",\"coloraxis\":{\"colorbar\":{\"outlinewidth\":0,\"ticks\":\"\"}},\"colorscale\":{\"diverging\":[[0,\"#8e0152\"],[0.1,\"#c51b7d\"],[0.2,\"#de77ae\"],[0.3,\"#f1b6da\"],[0.4,\"#fde0ef\"],[0.5,\"#f7f7f7\"],[0.6,\"#e6f5d0\"],[0.7,\"#b8e186\"],[0.8,\"#7fbc41\"],[0.9,\"#4d9221\"],[1,\"#276419\"]],\"sequential\":[[0.0,\"#0d0887\"],[0.1111111111111111,\"#46039f\"],[0.2222222222222222,\"#7201a8\"],[0.3333333333333333,\"#9c179e\"],[0.4444444444444444,\"#bd3786\"],[0.5555555555555556,\"#d8576b\"],[0.6666666666666666,\"#ed7953\"],[0.7777777777777778,\"#fb9f3a\"],[0.8888888888888888,\"#fdca26\"],[1.0,\"#f0f921\"]],\"sequentialminus\":[[0.0,\"#0d0887\"],[0.1111111111111111,\"#46039f\"],[0.2222222222222222,\"#7201a8\"],[0.3333333333333333,\"#9c179e\"],[0.4444444444444444,\"#bd3786\"],[0.5555555555555556,\"#d8576b\"],[0.6666666666666666,\"#ed7953\"],[0.7777777777777778,\"#fb9f3a\"],[0.8888888888888888,\"#fdca26\"],[1.0,\"#f0f921\"]]},\"colorway\":[\"#636efa\",\"#EF553B\",\"#00cc96\",\"#ab63fa\",\"#FFA15A\",\"#19d3f3\",\"#FF6692\",\"#B6E880\",\"#FF97FF\",\"#FECB52\"],\"font\":{\"color\":\"#2a3f5f\"},\"geo\":{\"bgcolor\":\"white\",\"lakecolor\":\"white\",\"landcolor\":\"#E5ECF6\",\"showlakes\":true,\"showland\":true,\"subunitcolor\":\"white\"},\"hoverlabel\":{\"align\":\"left\"},\"hovermode\":\"closest\",\"mapbox\":{\"style\":\"light\"},\"paper_bgcolor\":\"white\",\"plot_bgcolor\":\"#E5ECF6\",\"polar\":{\"angularaxis\":{\"gridcolor\":\"white\",\"linecolor\":\"white\",\"ticks\":\"\"},\"bgcolor\":\"#E5ECF6\",\"radialaxis\":{\"gridcolor\":\"white\",\"linecolor\":\"white\",\"ticks\":\"\"}},\"scene\":{\"xaxis\":{\"backgroundcolor\":\"#E5ECF6\",\"gridcolor\":\"white\",\"gridwidth\":2,\"linecolor\":\"white\",\"showbackground\":true,\"ticks\":\"\",\"zerolinecolor\":\"white\"},\"yaxis\":{\"backgroundcolor\":\"#E5ECF6\",\"gridcolor\":\"white\",\"gridwidth\":2,\"linecolor\":\"white\",\"showbackground\":true,\"ticks\":\"\",\"zerolinecolor\":\"white\"},\"zaxis\":{\"backgroundcolor\":\"#E5ECF6\",\"gridcolor\":\"white\",\"gridwidth\":2,\"linecolor\":\"white\",\"showbackground\":true,\"ticks\":\"\",\"zerolinecolor\":\"white\"}},\"shapedefaults\":{\"line\":{\"color\":\"#2a3f5f\"}},\"ternary\":{\"aaxis\":{\"gridcolor\":\"white\",\"linecolor\":\"white\",\"ticks\":\"\"},\"baxis\":{\"gridcolor\":\"white\",\"linecolor\":\"white\",\"ticks\":\"\"},\"bgcolor\":\"#E5ECF6\",\"caxis\":{\"gridcolor\":\"white\",\"linecolor\":\"white\",\"ticks\":\"\"}},\"title\":{\"x\":0.05},\"xaxis\":{\"automargin\":true,\"gridcolor\":\"white\",\"linecolor\":\"white\",\"ticks\":\"\",\"title\":{\"standoff\":15},\"zerolinecolor\":\"white\",\"zerolinewidth\":2},\"yaxis\":{\"automargin\":true,\"gridcolor\":\"white\",\"linecolor\":\"white\",\"ticks\":\"\",\"title\":{\"standoff\":15},\"zerolinecolor\":\"white\",\"zerolinewidth\":2}}},\"legend\":{\"tracegroupgap\":0},\"margin\":{\"t\":60},\"title\":{\"text\":\"<b>Proportion Of Different Smoking Categories Among Stroke Population<b>\"}},                        {\"responsive\": true}                    ).then(function(){\n",
              "                            \n",
              "var gd = document.getElementById('3d500b7f-1f26-4e3e-aca3-8a2f01676111');\n",
              "var x = new MutationObserver(function (mutations, observer) {{\n",
              "        var display = window.getComputedStyle(gd).display;\n",
              "        if (!display || display === 'none') {{\n",
              "            console.log([gd, 'removed!']);\n",
              "            Plotly.purge(gd);\n",
              "            observer.disconnect();\n",
              "        }}\n",
              "}});\n",
              "\n",
              "// Listen for the removal of the full notebook cells\n",
              "var notebookContainer = gd.closest('#notebook-container');\n",
              "if (notebookContainer) {{\n",
              "    x.observe(notebookContainer, {childList: true});\n",
              "}}\n",
              "\n",
              "// Listen for the clearing of the current output cell\n",
              "var outputEl = gd.closest('.output');\n",
              "if (outputEl) {{\n",
              "    x.observe(outputEl, {childList: true});\n",
              "}}\n",
              "\n",
              "                        })                };                            </script>        </div>\n",
              "</body>\n",
              "</html>"
            ]
          },
          "metadata": {}
        }
      ],
      "source": [
        "fig = px.pie(stroke_population,names='smoking_status')\n",
        "fig.update_layout(title='<b>Proportion Of Different Smoking Categories Among Stroke Population<b>')\n",
        "fig.show(renderer = \"colab\")"
      ]
    },
    {
      "cell_type": "markdown",
      "metadata": {
        "id": "G5l6SlN0qeE-"
      },
      "source": [
        "**Correlation**"
      ]
    },
    {
      "cell_type": "code",
      "execution_count": 15,
      "metadata": {
        "id": "q9-bl99hqgCY",
        "colab": {
          "base_uri": "https://localhost:8080/",
          "height": 619
        },
        "outputId": "333e159b-f3ef-4b12-9218-b72428b6fe46"
      },
      "outputs": [
        {
          "output_type": "display_data",
          "data": {
            "text/plain": [
              "<Figure size 576x576 with 1 Axes>"
            ],
            "image/png": "[encoded data removed]"
          },
          "metadata": {}
        }
      ],
      "source": [
        "#visualize the correlation\n",
        "df_copy = df.copy()\n",
        "\n",
        "# feature log transformations \n",
        "df_copy['age'] = df_copy['age'].apply(lambda x: np.log(x+10)*3)\n",
        "df_copy['avg_glucose_level'] = df_copy['avg_glucose_level'].apply(lambda x: np.log(x+10)*2)\n",
        "df_copy['bmi'] = df_copy['bmi'].apply(lambda x: np.log(x+10)*2)\n",
        "\n",
        "\n",
        "# preprocessing - label encoding and numerical value scaling\n",
        "ohe = OneHotEncoder()\n",
        "ss = StandardScaler() # z-transform\n",
        "le = LabelEncoder()\n",
        "\n",
        "## label encoding of ordinal categorical features\n",
        "for col in df_copy.columns:\n",
        "    df_copy[col] = le.fit_transform(df_copy[col])\n",
        "    \n",
        "cols = df_copy.columns\n",
        "## normalizing with standard scaler of numerical features\n",
        "df_copy[cols] = ss.fit_transform(df_copy[cols])\n",
        "\n",
        "\n",
        "# correlation map for all the features\n",
        "df_corr = df_copy.corr()\n",
        "mask = np.triu(np.ones_like(df_corr, dtype=np.bool))\n",
        "\n",
        "fig, ax = plt.subplots(figsize = (8,8))\n",
        "fig.patch.set_facecolor('#f6f5f5')\n",
        "ax.set_facecolor('#f6f5f5')\n",
        "\n",
        "mask = mask[1:, :-1]\n",
        "corr = df_corr.iloc[1:,:-1].copy()\n",
        "\n",
        "\n",
        "colors=['#f6f5f5','#2b5158','#3445fe']\n",
        "colormap = matplotlib.colors.LinearSegmentedColormap.from_list(\"\", colors)\n",
        "\n",
        "# plot heatmap\n",
        "sns.heatmap(corr, mask=mask, annot=True, fmt=\".2f\",cmap = colormap,\n",
        "           vmin=-0.15, vmax=0.5, cbar_kws={\"shrink\": .5, }, ax = ax, cbar = False,\n",
        "           linewidth = 1,linecolor = '#f6f5f5', square = True,annot_kws = {'size':10, 'color':'black'} )\n",
        "# yticks\n",
        "ax.tick_params(axis = 'y', rotation=0)\n",
        "xticks = ['Gender', 'Age','Hyper tension', 'Heart Disease', 'Marriage', 'Work', 'Residence', 'Glucose Level', 'BMI', 'Smoking Status','Stroke','BMI Cat','Age Cat']\n",
        "yticks = ['Gender', 'Age','Hyper tension', 'Heart Disease', 'Marriage', 'Work', 'Residence', 'Glucose Level', 'BMI', 'Smoking Status','Stroke','BMI Cat','Age Cat']\n",
        "ax.set_xticklabels(xticks, { 'size':10, 'weight':'bold'},rotation = 90, alpha = 0.9)\n",
        "ax.set_yticklabels(yticks, { 'size':10, 'weight':'bold'}, rotation = 0, alpha = 0.9)\n",
        "ax.text(-3.5,-1.1, 'Correlation Map of Features - How closly each of the features correlated?',{ 'size': 16, 'weight':'bold'}, alpha = 0.9)\n",
        "ax.text(-3.5,-0.65, 'A Glimpse on feature correlation for processed feature data.',{ 'size': 12, 'weight':'normal'}, alpha = 0.8)\n",
        "\n",
        "ax.text(9,5, 'Highly correlated positive correlations \\nare exist for Age and Marriage, while \\nwork and other are correlated negatively \\nin highest order.',{ 'size': 9, 'weight':'bold'},alpha = 0.7)\n",
        "ax.text(9,3.7, 'Insight:',{ 'size': 12, 'weight':'bold'},alpha = 0.7)\n",
        "\n",
        "\n",
        "fig.show()"
      ]
    },
    {
      "cell_type": "markdown",
      "metadata": {
        "id": "ERdakV8PqsK9"
      },
      "source": [
        "Distribution of BMI"
      ]
    },
    {
      "cell_type": "code",
      "execution_count": 16,
      "metadata": {
        "id": "GsBIZvrJqjHF",
        "colab": {
          "base_uri": "https://localhost:8080/",
          "height": 373
        },
        "outputId": "a4786993-8e5b-4413-8a40-c0f3cf0a2e9e"
      },
      "outputs": [
        {
          "output_type": "display_data",
          "data": {
            "text/plain": [
              "<Figure size 1080x360 with 1 Axes>"
            ],
            "image/png": "[encoded data removed]"
          },
          "metadata": {
            "needs_background": "light"
          }
        }
      ],
      "source": [
        "plt.subplots(figsize=(15,5))\n",
        "sns.distplot(df['bmi'], color = 'r')\n",
        "plt.title('Distribution of bmi', fontsize = 20)\n",
        "plt.show()"
      ]
    },
    {
      "cell_type": "markdown",
      "metadata": {
        "id": "dYFBmSJlqxOM"
      },
      "source": [
        "Distribution of Average Glucose level"
      ]
    },
    {
      "cell_type": "code",
      "execution_count": 17,
      "metadata": {
        "id": "C2-GwTjsq1Mt",
        "colab": {
          "base_uri": "https://localhost:8080/",
          "height": 374
        },
        "outputId": "25c42011-3c5b-494e-b758-0ca4f67d90b2"
      },
      "outputs": [
        {
          "output_type": "display_data",
          "data": {
            "text/plain": [
              "<Figure size 1080x360 with 1 Axes>"
            ],
            "image/png": "[encoded data removed]"
          },
          "metadata": {
            "needs_background": "light"
          }
        }
      ],
      "source": [
        "plt.subplots(figsize=(15,5))\n",
        "sns.distplot(df['avg_glucose_level'])\n",
        "plt.title('Distribution of avg_glucose_level', fontsize = 20)\n",
        "plt.show()"
      ]
    },
    {
      "cell_type": "markdown",
      "metadata": {
        "id": "ywzSkwBiHUrZ"
      },
      "source": [
        "Distribution of Age"
      ]
    },
    {
      "cell_type": "code",
      "execution_count": 18,
      "metadata": {
        "id": "qydjApnbwDrV",
        "colab": {
          "base_uri": "https://localhost:8080/",
          "height": 373
        },
        "outputId": "ed353312-1df3-4f26-efb1-69e86e388403"
      },
      "outputs": [
        {
          "output_type": "display_data",
          "data": {
            "text/plain": [
              "<Figure size 1080x360 with 1 Axes>"
            ],
            "image/png": "[encoded data removed]"
          },
          "metadata": {
            "needs_background": "light"
          }
        }
      ],
      "source": [
        "plt.subplots(figsize=(15,5))\n",
        "sns.distplot(df['age'],color='g')\n",
        "plt.title('Distribution of age', fontsize = 20)\n",
        "plt.show()"
      ]
    },
    {
      "cell_type": "code",
      "execution_count": 19,
      "metadata": {
        "id": "5OpUhP1JvqQg",
        "colab": {
          "base_uri": "https://localhost:8080/"
        },
        "outputId": "16b536e6-e6ec-46cc-8e84-cfc5c55a8efc"
      },
      "outputs": [
        {
          "output_type": "execute_result",
          "data": {
            "text/plain": [
              "age                 -0.137059\n",
              "avg_glucose_level    1.572284\n",
              "bmi                  1.055340\n",
              "dtype: float64"
            ]
          },
          "metadata": {},
          "execution_count": 19
        }
      ],
      "source": [
        "df[numerical].skew()"
      ]
    },
    {
      "cell_type": "markdown",
      "metadata": {
        "id": "CX3P2ZHtvza4"
      },
      "source": [
        "Based on the result, age has slight left skew, other two features have right tail, positively skewed shape distribution."
      ]
    },
    {
      "cell_type": "markdown",
      "metadata": {
        "id": "lpzXYKkAfyp4"
      },
      "source": [
        " HANDLING MISSING VALUES USING KNN IMPUTATION\n",
        " \n",
        " Default neighbours n=5\n",
        "\n",
        "\n",
        "\n"
      ]
    },
    {
      "cell_type": "code",
      "execution_count": 20,
      "metadata": {
        "id": "1jVeM_HqGl57",
        "colab": {
          "base_uri": "https://localhost:8080/",
          "height": 319
        },
        "outputId": "c027470b-cbfc-4271-87ef-a0e4f575d582"
      },
      "outputs": [
        {
          "output_type": "display_data",
          "data": {
            "text/plain": [
              "<Figure size 432x288 with 2 Axes>"
            ],
            "image/png": "[encoded data removed]"
          },
          "metadata": {
            "needs_background": "light"
          }
        }
      ],
      "source": [
        "from sklearn.impute import KNNImputer\n",
        "imputer = KNNImputer()\n",
        "df_filled = imputer.fit_transform(df[numerical]);\n",
        "df4=pd.DataFrame(df_filled , columns = ['age','avg_glucose_level', 'bmi'])\n",
        "df['bmi'] = df4['bmi']\n",
        "plt.title('Missing Values ',fontweight='bold')\n",
        "ax=sns.heatmap(df.isna().sum().to_frame(),annot=True,fmt='d',cmap='YlGnBu',cbar=True)\n",
        "ax.set_xlabel('Amount Missing')\n",
        "plt.show()"
      ]
    },
    {
      "cell_type": "markdown",
      "metadata": {
        "id": "vT3DYqs1rUWE"
      },
      "source": [
        "CHECK FOR OUTLIERS IN OUR DATA"
      ]
    },
    {
      "cell_type": "code",
      "execution_count": 21,
      "metadata": {
        "id": "NwWzxYTHrV5n",
        "colab": {
          "base_uri": "https://localhost:8080/",
          "height": 293
        },
        "outputId": "6072af35-796a-4397-d8d9-201e28582523"
      },
      "outputs": [
        {
          "output_type": "execute_result",
          "data": {
            "text/plain": [
              "<matplotlib.axes._subplots.AxesSubplot at 0x7f5e7c0c01d0>"
            ]
          },
          "metadata": {},
          "execution_count": 21
        },
        {
          "output_type": "display_data",
          "data": {
            "text/plain": [
              "<Figure size 432x288 with 1 Axes>"
            ],
            "image/png": "[encoded data removed]"
          },
          "metadata": {
            "needs_background": "light"
          }
        }
      ],
      "source": [
        "#BMI FEATURE:\n",
        "df.boxplot(column='bmi',vert=False)"
      ]
    },
    {
      "cell_type": "code",
      "execution_count": 22,
      "metadata": {
        "id": "3I6buYF_rilU",
        "colab": {
          "base_uri": "https://localhost:8080/",
          "height": 293
        },
        "outputId": "ba70b388-9d59-46fb-f598-a597b94a041f"
      },
      "outputs": [
        {
          "output_type": "execute_result",
          "data": {
            "text/plain": [
              "<matplotlib.axes._subplots.AxesSubplot at 0x7f5e7c028310>"
            ]
          },
          "metadata": {},
          "execution_count": 22
        },
        {
          "output_type": "display_data",
          "data": {
            "text/plain": [
              "<Figure size 432x288 with 1 Axes>"
            ],
            "image/png": "[encoded data removed]"
          },
          "metadata": {
            "needs_background": "light"
          }
        }
      ],
      "source": [
        "#AVG_GLUCOSE_LEVEL:\n",
        "df.boxplot(column='avg_glucose_level',vert=False)"
      ]
    },
    {
      "cell_type": "code",
      "source": [
        "#Age:\n",
        "df.boxplot(column='age',vert=False)"
      ],
      "metadata": {
        "id": "duO1zzEtK0mw",
        "colab": {
          "base_uri": "https://localhost:8080/",
          "height": 293
        },
        "outputId": "b8b0d384-6444-4080-eaa3-7a8d66cf6aba"
      },
      "execution_count": 23,
      "outputs": [
        {
          "output_type": "execute_result",
          "data": {
            "text/plain": [
              "<matplotlib.axes._subplots.AxesSubplot at 0x7f5e7bf9afd0>"
            ]
          },
          "metadata": {},
          "execution_count": 23
        },
        {
          "output_type": "display_data",
          "data": {
            "text/plain": [
              "<Figure size 432x288 with 1 Axes>"
            ],
            "image/png": "[encoded data removed]"
          },
          "metadata": {
            "needs_background": "light"
          }
        }
      ]
    },
    {
      "cell_type": "markdown",
      "metadata": {
        "id": "uFrXhs6KrhIk"
      },
      "source": [
        "HANDLE THE CATEGORICAL VARIABLES USING LABEL ENCODER"
      ]
    },
    {
      "cell_type": "code",
      "execution_count": 24,
      "metadata": {
        "id": "n2t6D3J3rxzz"
      },
      "outputs": [],
      "source": [
        "from sklearn.preprocessing import LabelEncoder\n",
        "enc=LabelEncoder()"
      ]
    },
    {
      "cell_type": "code",
      "execution_count": 25,
      "metadata": {
        "id": "1M6XRT_ersV2"
      },
      "outputs": [],
      "source": [
        "gender=enc.fit_transform(df['gender'])\n",
        "smoking_status=enc.fit_transform(df['smoking_status'])\n",
        "work_type=enc.fit_transform(df['work_type'])\n",
        "Residence_type=enc.fit_transform(df['Residence_type'])\n",
        "ever_married=enc.fit_transform(df['ever_married'])"
      ]
    },
    {
      "cell_type": "code",
      "execution_count": 26,
      "metadata": {
        "id": "A_F7tqNnr3-r"
      },
      "outputs": [],
      "source": [
        "df['ever_married']=ever_married\n",
        "df['Residence_type']=Residence_type\n",
        "df['smoking_status']=smoking_status\n",
        "df['gender']=gender\n",
        "df['work_type']=work_type"
      ]
    },
    {
      "cell_type": "code",
      "execution_count": 27,
      "metadata": {
        "id": "6iaD_250r5ez",
        "colab": {
          "base_uri": "https://localhost:8080/",
          "height": 206
        },
        "outputId": "0d293326-a079-48c9-ab94-b5b36fdedc10"
      },
      "outputs": [
        {
          "output_type": "execute_result",
          "data": {
            "text/plain": [
              "   ever_married  Residence_type  smoking_status  gender  work_type\n",
              "0             1               1               1       1          2\n",
              "1             1               0               2       0          3\n",
              "2             1               0               2       1          2\n",
              "3             1               1               3       0          2\n",
              "4             1               0               2       0          3"
            ],
            "text/html": [
              "\n",
              "  <div id=\"df-0b33210e-cc9f-4e62-957c-7d7caeb76ed3\">\n",
              "    <div class=\"colab-df-container\">\n",
              "      <div>\n",
              "<style scoped>\n",
              "    .dataframe tbody tr th:only-of-type {\n",
              "        vertical-align: middle;\n",
              "    }\n",
              "\n",
              "    .dataframe tbody tr th {\n",
              "        vertical-align: top;\n",
              "    }\n",
              "\n",
              "    .dataframe thead th {\n",
              "        text-align: right;\n",
              "    }\n",
              "</style>\n",
              "<table border=\"1\" class=\"dataframe\">\n",
              "  <thead>\n",
              "    <tr style=\"text-align: right;\">\n",
              "      <th></th>\n",
              "      <th>ever_married</th>\n",
              "      <th>Residence_type</th>\n",
              "      <th>smoking_status</th>\n",
              "      <th>gender</th>\n",
              "      <th>work_type</th>\n",
              "    </tr>\n",
              "  </thead>\n",
              "  <tbody>\n",
              "    <tr>\n",
              "      <th>0</th>\n",
              "      <td>1</td>\n",
              "      <td>1</td>\n",
              "      <td>1</td>\n",
              "      <td>1</td>\n",
              "      <td>2</td>\n",
              "    </tr>\n",
              "    <tr>\n",
              "      <th>1</th>\n",
              "      <td>1</td>\n",
              "      <td>0</td>\n",
              "      <td>2</td>\n",
              "      <td>0</td>\n",
              "      <td>3</td>\n",
              "    </tr>\n",
              "    <tr>\n",
              "      <th>2</th>\n",
              "      <td>1</td>\n",
              "      <td>0</td>\n",
              "      <td>2</td>\n",
              "      <td>1</td>\n",
              "      <td>2</td>\n",
              "    </tr>\n",
              "    <tr>\n",
              "      <th>3</th>\n",
              "      <td>1</td>\n",
              "      <td>1</td>\n",
              "      <td>3</td>\n",
              "      <td>0</td>\n",
              "      <td>2</td>\n",
              "    </tr>\n",
              "    <tr>\n",
              "      <th>4</th>\n",
              "      <td>1</td>\n",
              "      <td>0</td>\n",
              "      <td>2</td>\n",
              "      <td>0</td>\n",
              "      <td>3</td>\n",
              "    </tr>\n",
              "  </tbody>\n",
              "</table>\n",
              "</div>\n",
              "      <button class=\"colab-df-convert\" onclick=\"convertToInteractive('df-0b33210e-cc9f-4e62-957c-7d7caeb76ed3')\"\n",
              "              title=\"Convert this dataframe to an interactive table.\"\n",
              "              style=\"display:none;\">\n",
              "        \n",
              "  <svg xmlns=\"http://www.w3.org/2000/svg\" height=\"24px\"viewBox=\"0 0 24 24\"\n",
              "       width=\"24px\">\n",
              "    <path d=\"M0 0h24v24H0V0z\" fill=\"none\"/>\n",
              "    <path d=\"M18.56 5.44l.94 2.06.94-2.06 2.06-.94-2.06-.94-.94-2.06-.94 2.06-2.06.94zm-11 1L8.5 8.5l.94-2.06 2.06-.94-2.06-.94L8.5 2.5l-.94 2.06-2.06.94zm10 10l.94 2.06.94-2.06 2.06-.94-2.06-.94-.94-2.06-.94 2.06-2.06.94z\"/><path d=\"M17.41 7.96l-1.37-1.37c-.4-.4-.92-.59-1.43-.59-.52 0-1.04.2-1.43.59L10.3 9.45l-7.72 7.72c-.78.78-.78 2.05 0 2.83L4 21.41c.39.39.9.59 1.41.59.51 0 1.02-.2 1.41-.59l7.78-7.78 2.81-2.81c.8-.78.8-2.07 0-2.86zM5.41 20L4 18.59l7.72-7.72 1.47 1.35L5.41 20z\"/>\n",
              "  </svg>\n",
              "      </button>\n",
              "      \n",
              "  <style>\n",
              "    .colab-df-container {\n",
              "      display:flex;\n",
              "      flex-wrap:wrap;\n",
              "      gap: 12px;\n",
              "    }\n",
              "\n",
              "    .colab-df-convert {\n",
              "      background-color: #E8F0FE;\n",
              "      border: none;\n",
              "      border-radius: 50%;\n",
              "      cursor: pointer;\n",
              "      display: none;\n",
              "      fill: #1967D2;\n",
              "      height: 32px;\n",
              "      padding: 0 0 0 0;\n",
              "      width: 32px;\n",
              "    }\n",
              "\n",
              "    .colab-df-convert:hover {\n",
              "      background-color: #E2EBFA;\n",
              "      box-shadow: 0px 1px 2px rgba(60, 64, 67, 0.3), 0px 1px 3px 1px rgba(60, 64, 67, 0.15);\n",
              "      fill: #174EA6;\n",
              "    }\n",
              "\n",
              "    [theme=dark] .colab-df-convert {\n",
              "      background-color: #3B4455;\n",
              "      fill: #D2E3FC;\n",
              "    }\n",
              "\n",
              "    [theme=dark] .colab-df-convert:hover {\n",
              "      background-color: #434B5C;\n",
              "      box-shadow: 0px 1px 3px 1px rgba(0, 0, 0, 0.15);\n",
              "      filter: drop-shadow(0px 1px 2px rgba(0, 0, 0, 0.3));\n",
              "      fill: #FFFFFF;\n",
              "    }\n",
              "  </style>\n",
              "\n",
              "      <script>\n",
              "        const buttonEl =\n",
              "          document.querySelector('#df-0b33210e-cc9f-4e62-957c-7d7caeb76ed3 button.colab-df-convert');\n",
              "        buttonEl.style.display =\n",
              "          google.colab.kernel.accessAllowed ? 'block' : 'none';\n",
              "\n",
              "        async function convertToInteractive(key) {\n",
              "          const element = document.querySelector('#df-0b33210e-cc9f-4e62-957c-7d7caeb76ed3');\n",
              "          const dataTable =\n",
              "            await google.colab.kernel.invokeFunction('convertToInteractive',\n",
              "                                                     [key], {});\n",
              "          if (!dataTable) return;\n",
              "\n",
              "          const docLinkHtml = 'Like what you see? Visit the ' +\n",
              "            '<a target=\"_blank\" href=https://colab.research.google.com/notebooks/data_table.ipynb>data table notebook</a>'\n",
              "            + ' to learn more about interactive tables.';\n",
              "          element.innerHTML = '';\n",
              "          dataTable['output_type'] = 'display_data';\n",
              "          await google.colab.output.renderOutput(dataTable, element);\n",
              "          const docLink = document.createElement('div');\n",
              "          docLink.innerHTML = docLinkHtml;\n",
              "          element.appendChild(docLink);\n",
              "        }\n",
              "      </script>\n",
              "    </div>\n",
              "  </div>\n",
              "  "
            ]
          },
          "metadata": {},
          "execution_count": 27
        }
      ],
      "source": [
        "df[['ever_married', 'Residence_type', 'smoking_status', 'gender', 'work_type']].head()"
      ]
    },
    {
      "cell_type": "code",
      "execution_count": 28,
      "metadata": {
        "id": "tiOfBWOzr80z",
        "colab": {
          "base_uri": "https://localhost:8080/"
        },
        "outputId": "9aba1fdb-6a86-495a-f498-4b35cc9c12a8"
      },
      "outputs": [
        {
          "output_type": "stream",
          "name": "stdout",
          "text": [
            "<class 'pandas.core.frame.DataFrame'>\n",
            "RangeIndex: 5110 entries, 0 to 5109\n",
            "Data columns (total 12 columns):\n",
            " #   Column             Non-Null Count  Dtype  \n",
            "---  ------             --------------  -----  \n",
            " 0   id                 5110 non-null   int64  \n",
            " 1   gender             5110 non-null   int64  \n",
            " 2   age                5110 non-null   float64\n",
            " 3   hypertension       5110 non-null   int64  \n",
            " 4   heart_disease      5110 non-null   int64  \n",
            " 5   ever_married       5110 non-null   int64  \n",
            " 6   work_type          5110 non-null   int64  \n",
            " 7   Residence_type     5110 non-null   int64  \n",
            " 8   avg_glucose_level  5110 non-null   float64\n",
            " 9   bmi                5110 non-null   float64\n",
            " 10  smoking_status     5110 non-null   int64  \n",
            " 11  stroke             5110 non-null   int64  \n",
            "dtypes: float64(3), int64(9)\n",
            "memory usage: 479.2 KB\n"
          ]
        }
      ],
      "source": [
        "df.info()"
      ]
    },
    {
      "cell_type": "markdown",
      "metadata": {
        "id": "xEPvMBH0sCdb"
      },
      "source": [
        "THE CATEGORICAL FEATURES ARE HANDLED"
      ]
    },
    {
      "cell_type": "markdown",
      "metadata": {
        "id": "TWrl4y99sKmD"
      },
      "source": [
        "REVOME UNNECESSARY COLUMNS \n"
      ]
    },
    {
      "cell_type": "code",
      "execution_count": 29,
      "metadata": {
        "id": "OMvO7eKmsCHT"
      },
      "outputs": [],
      "source": [
        "#ID COLUMN IS NOT REQUIRED.\n",
        "df = df.drop('id', axis=1)"
      ]
    },
    {
      "cell_type": "code",
      "execution_count": 30,
      "metadata": {
        "id": "77CDUKxPsWJK",
        "colab": {
          "base_uri": "https://localhost:8080/",
          "height": 206
        },
        "outputId": "143bfeb4-18a0-4321-9ba6-38b9e8707911"
      },
      "outputs": [
        {
          "output_type": "execute_result",
          "data": {
            "text/plain": [
              "   gender   age  hypertension  heart_disease  ever_married  work_type  \\\n",
              "0       1  67.0             0              1             1          2   \n",
              "1       0  61.0             0              0             1          3   \n",
              "2       1  80.0             0              1             1          2   \n",
              "3       0  49.0             0              0             1          2   \n",
              "4       0  79.0             1              0             1          3   \n",
              "\n",
              "   Residence_type  avg_glucose_level    bmi  smoking_status  stroke  \n",
              "0               1             228.69  36.60               1       1  \n",
              "1               0             202.21  31.38               2       1  \n",
              "2               0             105.92  32.50               2       1  \n",
              "3               1             171.23  34.40               3       1  \n",
              "4               0             174.12  24.00               2       1  "
            ],
            "text/html": [
              "\n",
              "  <div id=\"df-c11ea874-1a5a-4307-ad7d-8b9afadfcefa\">\n",
              "    <div class=\"colab-df-container\">\n",
              "      <div>\n",
              "<style scoped>\n",
              "    .dataframe tbody tr th:only-of-type {\n",
              "        vertical-align: middle;\n",
              "    }\n",
              "\n",
              "    .dataframe tbody tr th {\n",
              "        vertical-align: top;\n",
              "    }\n",
              "\n",
              "    .dataframe thead th {\n",
              "        text-align: right;\n",
              "    }\n",
              "</style>\n",
              "<table border=\"1\" class=\"dataframe\">\n",
              "  <thead>\n",
              "    <tr style=\"text-align: right;\">\n",
              "      <th></th>\n",
              "      <th>gender</th>\n",
              "      <th>age</th>\n",
              "      <th>hypertension</th>\n",
              "      <th>heart_disease</th>\n",
              "      <th>ever_married</th>\n",
              "      <th>work_type</th>\n",
              "      <th>Residence_type</th>\n",
              "      <th>avg_glucose_level</th>\n",
              "      <th>bmi</th>\n",
              "      <th>smoking_status</th>\n",
              "      <th>stroke</th>\n",
              "    </tr>\n",
              "  </thead>\n",
              "  <tbody>\n",
              "    <tr>\n",
              "      <th>0</th>\n",
              "      <td>1</td>\n",
              "      <td>67.0</td>\n",
              "      <td>0</td>\n",
              "      <td>1</td>\n",
              "      <td>1</td>\n",
              "      <td>2</td>\n",
              "      <td>1</td>\n",
              "      <td>228.69</td>\n",
              "      <td>36.60</td>\n",
              "      <td>1</td>\n",
              "      <td>1</td>\n",
              "    </tr>\n",
              "    <tr>\n",
              "      <th>1</th>\n",
              "      <td>0</td>\n",
              "      <td>61.0</td>\n",
              "      <td>0</td>\n",
              "      <td>0</td>\n",
              "      <td>1</td>\n",
              "      <td>3</td>\n",
              "      <td>0</td>\n",
              "      <td>202.21</td>\n",
              "      <td>31.38</td>\n",
              "      <td>2</td>\n",
              "      <td>1</td>\n",
              "    </tr>\n",
              "    <tr>\n",
              "      <th>2</th>\n",
              "      <td>1</td>\n",
              "      <td>80.0</td>\n",
              "      <td>0</td>\n",
              "      <td>1</td>\n",
              "      <td>1</td>\n",
              "      <td>2</td>\n",
              "      <td>0</td>\n",
              "      <td>105.92</td>\n",
              "      <td>32.50</td>\n",
              "      <td>2</td>\n",
              "      <td>1</td>\n",
              "    </tr>\n",
              "    <tr>\n",
              "      <th>3</th>\n",
              "      <td>0</td>\n",
              "      <td>49.0</td>\n",
              "      <td>0</td>\n",
              "      <td>0</td>\n",
              "      <td>1</td>\n",
              "      <td>2</td>\n",
              "      <td>1</td>\n",
              "      <td>171.23</td>\n",
              "      <td>34.40</td>\n",
              "      <td>3</td>\n",
              "      <td>1</td>\n",
              "    </tr>\n",
              "    <tr>\n",
              "      <th>4</th>\n",
              "      <td>0</td>\n",
              "      <td>79.0</td>\n",
              "      <td>1</td>\n",
              "      <td>0</td>\n",
              "      <td>1</td>\n",
              "      <td>3</td>\n",
              "      <td>0</td>\n",
              "      <td>174.12</td>\n",
              "      <td>24.00</td>\n",
              "      <td>2</td>\n",
              "      <td>1</td>\n",
              "    </tr>\n",
              "  </tbody>\n",
              "</table>\n",
              "</div>\n",
              "      <button class=\"colab-df-convert\" onclick=\"convertToInteractive('df-c11ea874-1a5a-4307-ad7d-8b9afadfcefa')\"\n",
              "              title=\"Convert this dataframe to an interactive table.\"\n",
              "              style=\"display:none;\">\n",
              "        \n",
              "  <svg xmlns=\"http://www.w3.org/2000/svg\" height=\"24px\"viewBox=\"0 0 24 24\"\n",
              "       width=\"24px\">\n",
              "    <path d=\"M0 0h24v24H0V0z\" fill=\"none\"/>\n",
              "    <path d=\"M18.56 5.44l.94 2.06.94-2.06 2.06-.94-2.06-.94-.94-2.06-.94 2.06-2.06.94zm-11 1L8.5 8.5l.94-2.06 2.06-.94-2.06-.94L8.5 2.5l-.94 2.06-2.06.94zm10 10l.94 2.06.94-2.06 2.06-.94-2.06-.94-.94-2.06-.94 2.06-2.06.94z\"/><path d=\"M17.41 7.96l-1.37-1.37c-.4-.4-.92-.59-1.43-.59-.52 0-1.04.2-1.43.59L10.3 9.45l-7.72 7.72c-.78.78-.78 2.05 0 2.83L4 21.41c.39.39.9.59 1.41.59.51 0 1.02-.2 1.41-.59l7.78-7.78 2.81-2.81c.8-.78.8-2.07 0-2.86zM5.41 20L4 18.59l7.72-7.72 1.47 1.35L5.41 20z\"/>\n",
              "  </svg>\n",
              "      </button>\n",
              "      \n",
              "  <style>\n",
              "    .colab-df-container {\n",
              "      display:flex;\n",
              "      flex-wrap:wrap;\n",
              "      gap: 12px;\n",
              "    }\n",
              "\n",
              "    .colab-df-convert {\n",
              "      background-color: #E8F0FE;\n",
              "      border: none;\n",
              "      border-radius: 50%;\n",
              "      cursor: pointer;\n",
              "      display: none;\n",
              "      fill: #1967D2;\n",
              "      height: 32px;\n",
              "      padding: 0 0 0 0;\n",
              "      width: 32px;\n",
              "    }\n",
              "\n",
              "    .colab-df-convert:hover {\n",
              "      background-color: #E2EBFA;\n",
              "      box-shadow: 0px 1px 2px rgba(60, 64, 67, 0.3), 0px 1px 3px 1px rgba(60, 64, 67, 0.15);\n",
              "      fill: #174EA6;\n",
              "    }\n",
              "\n",
              "    [theme=dark] .colab-df-convert {\n",
              "      background-color: #3B4455;\n",
              "      fill: #D2E3FC;\n",
              "    }\n",
              "\n",
              "    [theme=dark] .colab-df-convert:hover {\n",
              "      background-color: #434B5C;\n",
              "      box-shadow: 0px 1px 3px 1px rgba(0, 0, 0, 0.15);\n",
              "      filter: drop-shadow(0px 1px 2px rgba(0, 0, 0, 0.3));\n",
              "      fill: #FFFFFF;\n",
              "    }\n",
              "  </style>\n",
              "\n",
              "      <script>\n",
              "        const buttonEl =\n",
              "          document.querySelector('#df-c11ea874-1a5a-4307-ad7d-8b9afadfcefa button.colab-df-convert');\n",
              "        buttonEl.style.display =\n",
              "          google.colab.kernel.accessAllowed ? 'block' : 'none';\n",
              "\n",
              "        async function convertToInteractive(key) {\n",
              "          const element = document.querySelector('#df-c11ea874-1a5a-4307-ad7d-8b9afadfcefa');\n",
              "          const dataTable =\n",
              "            await google.colab.kernel.invokeFunction('convertToInteractive',\n",
              "                                                     [key], {});\n",
              "          if (!dataTable) return;\n",
              "\n",
              "          const docLinkHtml = 'Like what you see? Visit the ' +\n",
              "            '<a target=\"_blank\" href=https://colab.research.google.com/notebooks/data_table.ipynb>data table notebook</a>'\n",
              "            + ' to learn more about interactive tables.';\n",
              "          element.innerHTML = '';\n",
              "          dataTable['output_type'] = 'display_data';\n",
              "          await google.colab.output.renderOutput(dataTable, element);\n",
              "          const docLink = document.createElement('div');\n",
              "          docLink.innerHTML = docLinkHtml;\n",
              "          element.appendChild(docLink);\n",
              "        }\n",
              "      </script>\n",
              "    </div>\n",
              "  </div>\n",
              "  "
            ]
          },
          "metadata": {},
          "execution_count": 30
        }
      ],
      "source": [
        "df.head()"
      ]
    },
    {
      "cell_type": "markdown",
      "metadata": {
        "id": "EbhwlAjusixZ"
      },
      "source": [
        "SPLIT DATA INTO X AND Y \n",
        "\n",
        "Y will hold the target variable"
      ]
    },
    {
      "cell_type": "code",
      "execution_count": 31,
      "metadata": {
        "id": "awBgcUVzsoAC"
      },
      "outputs": [],
      "source": [
        "X = df.drop('stroke', axis=1)\n",
        "y = df['stroke']"
      ]
    },
    {
      "cell_type": "markdown",
      "metadata": {
        "id": "mbRnmDgpsuxV"
      },
      "source": [
        "Split into Train and Test Models"
      ]
    },
    {
      "cell_type": "code",
      "execution_count": 32,
      "metadata": {
        "id": "sLJU9PEpsycK",
        "colab": {
          "base_uri": "https://localhost:8080/"
        },
        "outputId": "9ee67348-4c76-4566-a31c-92916e9cf840"
      },
      "outputs": [
        {
          "output_type": "stream",
          "name": "stdout",
          "text": [
            "Number transactions X_train dataset:  (3577, 10)\n",
            "Number transactions y_train dataset:  (3577,)\n",
            "Number transactions X_test dataset:  (1533, 10)\n",
            "Number transactions y_test dataset:  (1533,)\n"
          ]
        }
      ],
      "source": [
        "from sklearn.model_selection import train_test_split\n",
        "\n",
        "X_train, X_test, y_train, y_test = train_test_split(X, y, test_size=0.3, random_state=0)\n",
        "\n",
        "print(\"Number transactions X_train dataset: \", X_train.shape)\n",
        "print(\"Number transactions y_train dataset: \", y_train.shape)\n",
        "print(\"Number transactions X_test dataset: \", X_test.shape)\n",
        "print(\"Number transactions y_test dataset: \", y_test.shape)"
      ]
    },
    {
      "cell_type": "markdown",
      "metadata": {
        "id": "Zo4Bf8Fts956"
      },
      "source": [
        "HANDLING IMBALANCED DATA\n",
        "\n",
        "WE WILL BE USING SMOTE TECHNIQUE TO HANDLE THE IMBALANCED DATA"
      ]
    },
    {
      "cell_type": "code",
      "execution_count": 33,
      "metadata": {
        "id": "K1ZkGqX2tABV",
        "colab": {
          "base_uri": "https://localhost:8080/"
        },
        "outputId": "0672407d-bf36-4f24-e299-2043a4108bc8"
      },
      "outputs": [
        {
          "output_type": "stream",
          "name": "stdout",
          "text": [
            "Before OverSampling, counts of label '1': 173\n",
            "Before OverSampling, counts of label '0': 3404 \n",
            "\n",
            "After OverSampling, the shape of train_X: (6808, 10)\n",
            "After OverSampling, the shape of train_y: (6808,) \n",
            "\n",
            "After OverSampling, counts of label '1': 3404\n",
            "After OverSampling, counts of label '0': 3404\n"
          ]
        }
      ],
      "source": [
        "from imblearn.over_sampling import SMOTE\n",
        "\n",
        "print(\"Before OverSampling, counts of label '1': {}\".format(sum(y_train==1)))\n",
        "print(\"Before OverSampling, counts of label '0': {} \\n\".format(sum(y_train==0)))\n",
        "\n",
        "sm = SMOTE(random_state=2)\n",
        "#ravel() used to flatten\n",
        "X_train_res, y_train_res = sm.fit_resample(X_train, y_train.ravel())\n",
        "\n",
        "print('After OverSampling, the shape of train_X: {}'.format(X_train_res.shape))\n",
        "print('After OverSampling, the shape of train_y: {} \\n'.format(y_train_res.shape))\n",
        "\n",
        "print(\"After OverSampling, counts of label '1': {}\".format(sum(y_train_res==1)))\n",
        "print(\"After OverSampling, counts of label '0': {}\".format(sum(y_train_res==0)))"
      ]
    },
    {
      "cell_type": "markdown",
      "metadata": {
        "id": "FoHuuShXtKtj"
      },
      "source": [
        "THE DATA IS NOW BALANCED"
      ]
    },
    {
      "cell_type": "code",
      "execution_count": 34,
      "metadata": {
        "id": "amS5l7XJklqm",
        "colab": {
          "base_uri": "https://localhost:8080/",
          "height": 542
        },
        "outputId": "6d88d811-6140-42b7-f798-2881a770ae16"
      },
      "outputs": [
        {
          "output_type": "display_data",
          "data": {
            "text/html": [
              "<html>\n",
              "<head><meta charset=\"utf-8\" /></head>\n",
              "<body>\n",
              "    <div>            <script src=\"https://cdnjs.cloudflare.com/ajax/libs/mathjax/2.7.5/MathJax.js?config=TeX-AMS-MML_SVG\"></script><script type=\"text/javascript\">if (window.MathJax) {MathJax.Hub.Config({SVG: {font: \"STIX-Web\"}});}</script>                <script type=\"text/javascript\">window.PlotlyConfig = {MathJaxConfig: 'local'};</script>\n",
              "        <script src=\"https://cdn.plot.ly/plotly-2.8.3.min.js\"></script>                <div id=\"1c24de68-d858-4b55-a458-37bca5f88877\" class=\"plotly-graph-div\" style=\"height:525px; width:100%;\"></div>            <script type=\"text/javascript\">                                    window.PLOTLYENV=window.PLOTLYENV || {};                                    if (document.getElementById(\"1c24de68-d858-4b55-a458-37bca5f88877\")) {                    Plotly.newPlot(                        \"1c24de68-d858-4b55-a458-37bca5f88877\",                        [{\"domain\":{\"x\":[0.0,1.0],\"y\":[0.0,1.0]},\"hovertemplate\":\"stroke=%{label}<extra></extra>\",\"labels\":[0,0,0,0,0,0,0,0,0,0,0,0,0,0,0,0,0,0,0,0,0,0,0,0,0,0,0,0,0,0,0,0,0,0,0,0,0,0,0,0,0,0,0,0,0,0,0,0,0,0,0,0,0,0,0,0,1,0,0,0,0,0,0,0,0,0,0,0,0,0,0,0,0,0,0,0,0,0,0,0,0,0,0,0,0,0,0,0,0,0,0,0,0,0,0,0,0,0,0,0,0,0,0,0,0,0,0,0,0,0,0,0,0,0,0,0,0,0,0,0,0,0,0,0,0,0,0,0,0,0,0,0,0,0,0,0,0,0,0,0,0,0,0,0,0,0,0,0,0,0,0,0,0,0,0,0,0,0,0,0,0,1,0,0,0,0,0,0,0,0,0,0,0,0,0,0,0,0,0,0,0,0,0,0,0,0,0,0,0,0,0,0,0,0,0,1,0,0,0,0,0,0,0,0,0,0,0,0,0,0,0,0,0,0,0,0,0,0,0,0,0,0,0,0,0,0,0,0,0,0,0,0,0,0,0,0,0,0,0,0,0,0,0,0,0,0,0,1,0,1,0,0,0,1,0,0,0,0,0,0,0,0,0,0,0,0,0,0,0,0,0,1,0,0,0,0,0,1,0,0,0,0,0,0,0,0,0,0,1,0,1,0,0,0,0,0,0,0,0,0,0,0,0,0,0,0,0,0,0,1,0,1,0,0,0,0,0,0,0,0,0,0,0,1,0,0,0,0,0,0,0,0,0,0,0,0,0,0,0,0,0,0,0,0,0,0,0,0,0,0,0,0,0,0,0,0,0,0,0,0,0,0,0,0,0,0,0,0,0,0,0,0,0,0,0,0,0,0,0,0,0,0,0,0,0,0,0,0,0,0,0,0,0,0,0,1,0,0,0,0,0,0,0,0,1,0,0,0,0,0,0,0,0,0,0,0,0,0,0,0,0,0,0,0,0,0,0,0,0,0,0,0,0,0,0,0,0,0,0,0,0,0,0,0,0,0,0,0,0,0,1,0,0,0,0,1,0,0,0,0,0,0,0,0,0,0,0,0,0,0,0,0,0,0,0,0,0,0,0,0,0,0,0,0,0,0,1,0,0,0,0,1,1,0,0,0,1,0,0,0,0,0,0,0,0,0,0,0,0,0,0,0,0,0,0,0,0,0,0,0,0,0,0,0,0,0,0,0,0,0,0,0,1,0,0,0,0,0,0,0,0,0,0,0,0,0,0,0,0,0,0,0,0,0,0,0,0,0,0,0,0,0,1,1,0,0,0,0,0,0,0,0,0,0,0,0,0,0,0,0,0,0,0,0,0,1,0,0,0,1,0,0,0,0,0,0,0,0,0,0,0,0,0,0,0,0,0,0,0,0,1,0,0,1,0,0,0,0,1,0,0,0,0,0,0,0,0,0,0,0,0,0,0,1,0,0,0,0,0,0,0,0,0,0,0,0,0,0,0,0,0,0,0,0,0,1,0,0,0,0,0,0,0,0,0,0,0,0,0,0,0,0,0,0,0,0,0,0,0,0,0,0,0,0,0,0,0,0,0,0,0,0,0,0,0,0,0,0,0,0,0,0,0,0,0,0,0,0,0,0,0,0,0,0,0,0,0,0,0,0,0,0,0,0,0,0,0,0,0,0,0,0,0,0,0,0,0,0,0,0,0,0,0,0,0,0,0,0,0,0,0,0,1,0,0,0,0,0,0,1,0,0,0,0,0,0,0,0,0,0,0,1,0,0,0,0,0,0,0,0,0,1,0,0,1,0,1,0,0,0,0,0,0,0,0,0,0,0,0,0,0,0,0,0,0,0,0,0,1,0,0,0,0,0,0,0,0,0,0,0,0,0,0,0,0,0,0,0,0,0,0,0,0,0,0,0,0,0,0,0,0,1,0,0,0,0,0,0,1,0,0,0,0,0,0,0,0,0,0,0,0,0,0,0,0,0,0,0,0,0,0,1,0,0,0,0,0,0,0,0,0,1,0,0,0,0,0,0,0,0,0,0,0,0,0,0,0,0,0,0,0,0,0,0,0,0,0,0,0,0,0,0,0,0,1,0,0,0,0,0,0,0,0,0,0,0,0,0,0,0,0,1,0,0,0,0,0,0,0,0,1,0,0,0,0,0,0,0,0,0,0,0,0,0,0,0,0,0,0,0,0,0,0,0,0,0,0,0,0,0,0,0,0,0,0,0,0,0,0,0,0,0,0,0,0,0,0,0,0,0,0,0,0,0,0,0,0,0,0,0,0,0,0,1,0,0,0,0,0,0,0,0,0,0,0,0,0,0,0,0,0,0,0,0,0,0,0,0,0,0,0,0,0,0,0,0,0,0,0,0,0,0,0,0,0,0,0,0,0,0,0,0,0,0,0,0,0,0,0,0,0,0,0,0,0,0,0,0,0,0,0,0,0,0,0,0,0,0,0,0,0,0,0,0,0,0,0,0,0,1,0,0,0,0,0,0,0,0,0,0,0,0,0,1,0,0,0,0,1,0,0,0,0,1,0,0,0,0,0,0,0,0,0,0,0,0,0,0,0,0,0,0,0,1,0,0,0,0,0,0,0,0,0,0,0,0,0,0,0,0,0,0,0,0,0,1,0,0,0,0,0,0,0,1,0,0,0,0,0,0,0,0,0,0,0,0,0,0,0,0,0,0,0,0,1,0,0,0,0,0,0,0,0,0,0,1,0,0,0,1,0,0,0,0,0,0,0,0,0,0,0,0,0,0,0,0,0,0,0,0,0,0,0,0,0,0,0,0,0,0,0,0,0,0,0,0,0,0,0,1,0,0,0,0,0,0,0,0,0,0,0,0,0,1,0,0,0,0,0,0,0,0,0,0,0,0,0,0,0,0,0,0,0,0,0,0,0,0,0,0,0,0,0,0,0,0,0,0,0,0,0,1,0,0,0,0,0,0,0,0,0,0,0,0,0,0,0,0,0,0,0,0,0,0,0,0,0,0,0,0,0,0,0,0,0,0,0,0,0,0,0,0,0,0,0,0,0,0,0,0,0,0,0,0,0,0,0,0,0,0,0,0,0,0,0,0,0,1,0,0,0,0,0,0,0,0,0,0,0,0,0,0,0,0,1,0,0,0,0,0,0,0,0,0,0,0,0,0,0,0,0,0,0,0,0,0,0,0,0,0,0,0,0,0,0,0,0,0,0,0,0,0,0,0,0,0,0,0,0,0,0,0,0,0,0,1,1,0,0,0,1,0,0,0,0,0,0,0,0,0,0,0,0,0,1,0,0,0,0,0,0,0,0,0,1,1,0,0,0,0,0,0,0,1,0,0,0,0,0,0,0,0,0,0,0,0,0,0,0,0,0,0,0,0,0,0,0,0,0,0,0,0,0,0,0,0,0,0,0,1,0,0,0,0,0,0,1,0,0,0,0,0,0,0,0,0,0,0,0,0,0,0,0,0,0,0,0,0,0,0,0,0,0,0,0,0,0,0,0,0,0,0,0,0,0,0,1,0,0,1,0,1,0,0,0,0,0,0,0,0,0,0,0,0,0,0,0,0,0,0,0,0,0,0,0,0,0,0,0,0,0,0,0,0,0,0,0,0,0,0,0,0,0,0,0,0,0,0,0,0,0,0,0,0,0,0,0,0,0,0,0,0,0,0,0,0,0,0,0,0,0,0,0,0,1,0,1,0,0,0,0,0,0,0,0,0,0,0,0,0,0,0,0,0,0,0,0,0,0,1,0,0,0,0,0,0,1,0,0,0,0,0,0,0,0,0,0,0,0,0,0,0,0,0,0,0,0,0,0,0,0,0,0,0,0,0,0,0,0,0,0,0,0,0,1,0,0,0,1,0,0,0,0,0,0,0,0,0,0,0,0,0,0,0,0,0,0,0,0,0,0,0,0,0,0,0,0,0,0,0,0,0,0,0,0,0,0,0,0,0,0,0,0,0,0,0,0,0,0,0,0,0,0,0,0,0,0,0,0,0,0,0,0,0,0,0,0,0,0,1,0,0,0,0,0,0,0,0,0,0,0,0,0,0,0,0,0,0,0,0,0,1,0,0,0,0,0,0,0,0,0,0,0,0,0,0,0,1,0,0,0,0,0,0,0,0,0,0,0,0,0,0,0,0,0,0,0,0,0,0,0,0,0,0,0,0,0,0,0,0,0,1,0,0,0,0,0,0,0,0,0,0,0,0,0,0,0,0,0,0,0,0,0,0,0,0,0,0,1,0,0,0,0,0,0,0,0,0,0,0,0,0,0,0,0,0,0,0,0,0,1,0,0,1,0,0,0,0,0,0,0,0,0,0,0,0,0,0,0,0,0,0,0,0,1,0,0,0,0,0,0,0,0,0,0,0,0,0,0,0,0,0,0,0,0,0,0,0,0,0,0,0,0,0,0,0,0,0,0,0,0,0,0,0,0,0,0,0,0,0,0,0,0,0,0,0,0,0,0,0,0,0,0,0,0,0,0,0,0,0,0,0,0,0,0,0,1,0,0,0,0,0,0,0,0,0,0,0,0,0,0,0,0,0,0,0,0,0,0,0,0,0,0,0,1,0,0,0,0,0,0,0,0,0,0,0,0,0,0,0,0,0,0,0,0,0,0,1,0,0,0,0,0,0,1,0,0,0,0,0,0,0,0,0,0,0,0,0,0,0,0,0,0,0,0,0,0,0,0,0,0,0,0,0,0,1,0,0,0,0,0,0,0,0,0,0,0,1,0,0,0,0,0,0,0,0,0,0,0,0,0,0,0,0,0,0,0,0,0,0,0,0,0,0,0,0,0,0,0,0,0,0,0,0,0,0,0,0,1,0,0,0,0,0,0,0,0,0,1,0,0,0,0,0,1,0,0,0,0,0,0,0,0,0,0,1,0,0,0,0,0,1,0,0,0,1,0,0,0,0,0,0,0,0,0,0,1,0,0,0,0,0,0,0,0,0,0,0,0,0,0,0,0,0,0,0,0,0,0,0,0,0,0,0,1,0,1,0,0,0,0,0,0,0,0,0,0,0,0,0,0,0,0,0,0,0,0,0,0,0,0,0,0,0,0,0,0,0,0,0,0,0,0,0,0,0,0,0,0,0,0,0,0,0,0,0,0,0,0,0,0,0,0,0,0,0,0,0,0,0,0,0,0,0,0,0,0,0,0,0,0,0,0,0,0,0,0,0,0,1,0,0,0,0,0,0,0,0,0,0,0,0,0,0,0,0,0,1,0,0,0,0,0,0,0,0,0,0,0,0,0,0,0,0,1,0,0,0,0,0,0,0,0,0,1,0,0,0,0,0,0,0,0,0,0,0,0,0,0,1,0,0,0,0,0,0,0,0,0,0,0,0,0,0,0,0,0,0,0,0,0,0,0,0,0,0,0,0,0,0,0,0,0,0,0,0,0,0,0,0,0,0,1,0,0,0,0,0,0,0,0,0,1,0,0,0,0,0,0,0,0,0,0,0,0,0,0,0,0,0,0,0,0,0,0,0,0,0,0,0,0,0,0,0,0,1,0,0,0,0,0,0,0,0,0,0,0,0,0,0,0,0,0,0,0,0,1,0,0,1,0,0,0,0,0,0,0,0,0,0,0,0,0,0,0,0,0,0,0,0,0,0,0,0,0,0,0,0,0,0,0,0,0,1,0,0,0,0,0,0,0,1,0,0,0,0,0,0,0,0,0,0,0,0,0,0,0,0,0,0,0,0,0,1,0,0,0,0,0,0,0,0,0,0,0,0,0,0,0,0,1,0,0,0,0,0,0,0,0,0,0,1,0,0,0,0,0,0,0,0,0,0,0,0,0,0,0,1,0,0,0,0,0,0,0,0,0,0,0,0,0,0,0,0,0,0,0,0,0,0,0,0,0,0,0,0,0,0,0,0,0,0,0,0,0,0,0,0,0,0,0,0,0,0,0,0,0,0,0,1,0,0,0,0,0,1,1,0,0,0,0,0,0,0,0,0,0,0,0,0,0,0,0,0,0,1,0,0,0,0,0,0,0,0,0,0,1,0,0,0,0,0,0,0,0,0,0,0,0,0,0,0,0,0,0,0,0,0,1,0,0,0,0,0,0,0,0,0,0,0,0,0,0,0,0,0,0,0,1,0,0,0,0,0,0,0,0,0,0,0,0,0,0,1,0,0,0,0,0,0,0,0,0,0,0,0,0,0,0,0,0,0,0,0,0,1,1,0,0,0,0,0,0,0,0,0,0,0,0,0,0,0,0,0,0,0,0,0,0,0,0,0,1,0,1,0,0,0,0,0,0,0,0,1,0,0,0,0,0,0,0,1,0,0,0,0,0,0,0,0,0,0,0,0,0,0,0,0,0,0,0,0,0,0,0,0,0,0,0,0,0,0,0,0,1,0,0,0,0,0,0,0,0,0,0,0,0,0,0,0,0,0,0,0,0,0,0,0,0,0,0,0,0,0,0,0,0,0,0,0,0,0,0,0,0,0,0,0,0,0,0,0,0,0,0,0,0,0,0,0,0,0,0,0,0,0,0,0,0,0,0,0,1,0,0,0,0,0,0,0,0,0,0,0,0,0,0,0,0,0,0,0,0,0,0,0,0,0,1,0,0,0,0,0,0,0,0,0,0,0,0,1,0,0,0,0,0,0,0,0,0,0,0,0,0,0,0,0,0,1,0,0,0,1,0,0,0,1,0,0,0,0,0,0,0,0,0,0,0,0,1,0,1,0,0,0,0,1,0,0,0,0,0,0,0,0,0,0,0,0,0,0,0,0,0,0,1,0,0,0,0,0,0,0,0,0,0,0,0,0,0,0,0,0,0,0,0,0,0,0,0,0,0,0,0,0,0,0,0,0,0,0,0,0,0,0,0,1,0,0,0,1,0,0,0,0,0,0,0,0,0,0,0,0,0,0,0,0,0,0,0,0,0,0,1,0,0,0,0,0,0,0,0,0,0,0,0,0,0,0,0,0,0,0,0,0,0,0,0,0,0,0,0,0,0,0,0,0,0,0,0,0,0,0,0,0,0,0,1,0,1,0,0,0,0,0,0,0,0,0,0,0,0,0,0,0,0,0,0,0,0,0,0,0,0,0,0,0,0,0,0,0,0,1,0,0,1,0,0,0,0,0,0,0,0,0,0,0,0,0,0,0,0,0,0,0,0,0,0,0,0,0,0,0,0,0,0,1,0,0,0,0,0,0,0,0,0,0,0,0,0,0,1,0,0,0,0,0,0,0,0,0,0,0,0,0,0,0,0,0,0,0,0,0,0,0,0,0,0,0,0,0,0,0,0,0,0,0,0,0,0,0,0,0,0,0,0,0,0,1,0,0,0,0,1,0,0,0,1,0,0,0,0,0,0,0,0,0,0,0,0,0,0,0,0,0,1,0,0,0,0,0,0,0,0,0,0,0,0,0,0,0,0,0,0,0,0,0,0,0,0,0,0,0,0,0,0,0,0,0,0,0,0,0,0,0,0,0,0,0,0,0,0,0,0,0,0,0,0,0,0,0,0,0,0,0,0,0,0,0,0,0,1,0,0,0,0,0,0,0,1,0,0,1,0,0,0,0,0,0,0,0,0,0,0,0,0,0,0,0,0,0,0,0,0,0,0,1,0,0,0,0,0,0,0,0,1,0,0,0,0,1,0,1,0,0,0,0,0,0,0,0,1,0,0,0,0,0,0,0,0,0,0,0,0,0,0,0,0,0,0,0,0,0,0,0,0,0,0,0,0,0,0,0,1,1,0,0,0,0,0,1,0,0,0,0,0,0,0,0,0,0,0,0,0,0,0,0,0,1,0,0,0,0,0,0,0,0,0,0,0,0,0,1,0,0,0,0,0,0,1,0,0,0,0,0,0,0,0,0,0,0,0,0,0,0,0,0,0,0,0,0,1,0,0,0,0,0,0,0,0,0,0,0,0,0,0,0,0,0,0,0,0,0,0,0,0,0,0,0,0,0,0,0,0,0,0,0,0,0,0,0,0,0,0,0,0,0,0,0,0,0,0,0,0,0,0,0,0,0,1,0,0,0,0,0,0,0,0,0,0,0,0,1,0,0,0,0,0,0,0,0,0,0,0,0,0,0,0,0,0,0,0,0,0,0,0,1,1,1,1,1,1,1,1,1,1,1,1,1,1,1,1,1,1,1,1,1,1,1,1,1,1,1,1,1,1,1,1,1,1,1,1,1,1,1,1,1,1,1,1,1,1,1,1,1,1,1,1,1,1,1,1,1,1,1,1,1,1,1,1,1,1,1,1,1,1,1,1,1,1,1,1,1,1,1,1,1,1,1,1,1,1,1,1,1,1,1,1,1,1,1,1,1,1,1,1,1,1,1,1,1,1,1,1,1,1,1,1,1,1,1,1,1,1,1,1,1,1,1,1,1,1,1,1,1,1,1,1,1,1,1,1,1,1,1,1,1,1,1,1,1,1,1,1,1,1,1,1,1,1,1,1,1,1,1,1,1,1,1,1,1,1,1,1,1,1,1,1,1,1,1,1,1,1,1,1,1,1,1,1,1,1,1,1,1,1,1,1,1,1,1,1,1,1,1,1,1,1,1,1,1,1,1,1,1,1,1,1,1,1,1,1,1,1,1,1,1,1,1,1,1,1,1,1,1,1,1,1,1,1,1,1,1,1,1,1,1,1,1,1,1,1,1,1,1,1,1,1,1,1,1,1,1,1,1,1,1,1,1,1,1,1,1,1,1,1,1,1,1,1,1,1,1,1,1,1,1,1,1,1,1,1,1,1,1,1,1,1,1,1,1,1,1,1,1,1,1,1,1,1,1,1,1,1,1,1,1,1,1,1,1,1,1,1,1,1,1,1,1,1,1,1,1,1,1,1,1,1,1,1,1,1,1,1,1,1,1,1,1,1,1,1,1,1,1,1,1,1,1,1,1,1,1,1,1,1,1,1,1,1,1,1,1,1,1,1,1,1,1,1,1,1,1,1,1,1,1,1,1,1,1,1,1,1,1,1,1,1,1,1,1,1,1,1,1,1,1,1,1,1,1,1,1,1,1,1,1,1,1,1,1,1,1,1,1,1,1,1,1,1,1,1,1,1,1,1,1,1,1,1,1,1,1,1,1,1,1,1,1,1,1,1,1,1,1,1,1,1,1,1,1,1,1,1,1,1,1,1,1,1,1,1,1,1,1,1,1,1,1,1,1,1,1,1,1,1,1,1,1,1,1,1,1,1,1,1,1,1,1,1,1,1,1,1,1,1,1,1,1,1,1,1,1,1,1,1,1,1,1,1,1,1,1,1,1,1,1,1,1,1,1,1,1,1,1,1,1,1,1,1,1,1,1,1,1,1,1,1,1,1,1,1,1,1,1,1,1,1,1,1,1,1,1,1,1,1,1,1,1,1,1,1,1,1,1,1,1,1,1,1,1,1,1,1,1,1,1,1,1,1,1,1,1,1,1,1,1,1,1,1,1,1,1,1,1,1,1,1,1,1,1,1,1,1,1,1,1,1,1,1,1,1,1,1,1,1,1,1,1,1,1,1,1,1,1,1,1,1,1,1,1,1,1,1,1,1,1,1,1,1,1,1,1,1,1,1,1,1,1,1,1,1,1,1,1,1,1,1,1,1,1,1,1,1,1,1,1,1,1,1,1,1,1,1,1,1,1,1,1,1,1,1,1,1,1,1,1,1,1,1,1,1,1,1,1,1,1,1,1,1,1,1,1,1,1,1,1,1,1,1,1,1,1,1,1,1,1,1,1,1,1,1,1,1,1,1,1,1,1,1,1,1,1,1,1,1,1,1,1,1,1,1,1,1,1,1,1,1,1,1,1,1,1,1,1,1,1,1,1,1,1,1,1,1,1,1,1,1,1,1,1,1,1,1,1,1,1,1,1,1,1,1,1,1,1,1,1,1,1,1,1,1,1,1,1,1,1,1,1,1,1,1,1,1,1,1,1,1,1,1,1,1,1,1,1,1,1,1,1,1,1,1,1,1,1,1,1,1,1,1,1,1,1,1,1,1,1,1,1,1,1,1,1,1,1,1,1,1,1,1,1,1,1,1,1,1,1,1,1,1,1,1,1,1,1,1,1,1,1,1,1,1,1,1,1,1,1,1,1,1,1,1,1,1,1,1,1,1,1,1,1,1,1,1,1,1,1,1,1,1,1,1,1,1,1,1,1,1,1,1,1,1,1,1,1,1,1,1,1,1,1,1,1,1,1,1,1,1,1,1,1,1,1,1,1,1,1,1,1,1,1,1,1,1,1,1,1,1,1,1,1,1,1,1,1,1,1,1,1,1,1,1,1,1,1,1,1,1,1,1,1,1,1,1,1,1,1,1,1,1,1,1,1,1,1,1,1,1,1,1,1,1,1,1,1,1,1,1,1,1,1,1,1,1,1,1,1,1,1,1,1,1,1,1,1,1,1,1,1,1,1,1,1,1,1,1,1,1,1,1,1,1,1,1,1,1,1,1,1,1,1,1,1,1,1,1,1,1,1,1,1,1,1,1,1,1,1,1,1,1,1,1,1,1,1,1,1,1,1,1,1,1,1,1,1,1,1,1,1,1,1,1,1,1,1,1,1,1,1,1,1,1,1,1,1,1,1,1,1,1,1,1,1,1,1,1,1,1,1,1,1,1,1,1,1,1,1,1,1,1,1,1,1,1,1,1,1,1,1,1,1,1,1,1,1,1,1,1,1,1,1,1,1,1,1,1,1,1,1,1,1,1,1,1,1,1,1,1,1,1,1,1,1,1,1,1,1,1,1,1,1,1,1,1,1,1,1,1,1,1,1,1,1,1,1,1,1,1,1,1,1,1,1,1,1,1,1,1,1,1,1,1,1,1,1,1,1,1,1,1,1,1,1,1,1,1,1,1,1,1,1,1,1,1,1,1,1,1,1,1,1,1,1,1,1,1,1,1,1,1,1,1,1,1,1,1,1,1,1,1,1,1,1,1,1,1,1,1,1,1,1,1,1,1,1,1,1,1,1,1,1,1,1,1,1,1,1,1,1,1,1,1,1,1,1,1,1,1,1,1,1,1,1,1,1,1,1,1,1,1,1,1,1,1,1,1,1,1,1,1,1,1,1,1,1,1,1,1,1,1,1,1,1,1,1,1,1,1,1,1,1,1,1,1,1,1,1,1,1,1,1,1,1,1,1,1,1,1,1,1,1,1,1,1,1,1,1,1,1,1,1,1,1,1,1,1,1,1,1,1,1,1,1,1,1,1,1,1,1,1,1,1,1,1,1,1,1,1,1,1,1,1,1,1,1,1,1,1,1,1,1,1,1,1,1,1,1,1,1,1,1,1,1,1,1,1,1,1,1,1,1,1,1,1,1,1,1,1,1,1,1,1,1,1,1,1,1,1,1,1,1,1,1,1,1,1,1,1,1,1,1,1,1,1,1,1,1,1,1,1,1,1,1,1,1,1,1,1,1,1,1,1,1,1,1,1,1,1,1,1,1,1,1,1,1,1,1,1,1,1,1,1,1,1,1,1,1,1,1,1,1,1,1,1,1,1,1,1,1,1,1,1,1,1,1,1,1,1,1,1,1,1,1,1,1,1,1,1,1,1,1,1,1,1,1,1,1,1,1,1,1,1,1,1,1,1,1,1,1,1,1,1,1,1,1,1,1,1,1,1,1,1,1,1,1,1,1,1,1,1,1,1,1,1,1,1,1,1,1,1,1,1,1,1,1,1,1,1,1,1,1,1,1,1,1,1,1,1,1,1,1,1,1,1,1,1,1,1,1,1,1,1,1,1,1,1,1,1,1,1,1,1,1,1,1,1,1,1,1,1,1,1,1,1,1,1,1,1,1,1,1,1,1,1,1,1,1,1,1,1,1,1,1,1,1,1,1,1,1,1,1,1,1,1,1,1,1,1,1,1,1,1,1,1,1,1,1,1,1,1,1,1,1,1,1,1,1,1,1,1,1,1,1,1,1,1,1,1,1,1,1,1,1,1,1,1,1,1,1,1,1,1,1,1,1,1,1,1,1,1,1,1,1,1,1,1,1,1,1,1,1,1,1,1,1,1,1,1,1,1,1,1,1,1,1,1,1,1,1,1,1,1,1,1,1,1,1,1,1,1,1,1,1,1,1,1,1,1,1,1,1,1,1,1,1,1,1,1,1,1,1,1,1,1,1,1,1,1,1,1,1,1,1,1,1,1,1,1,1,1,1,1,1,1,1,1,1,1,1,1,1,1,1,1,1,1,1,1,1,1,1,1,1,1,1,1,1,1,1,1,1,1,1,1,1,1,1,1,1,1,1,1,1,1,1,1,1,1,1,1,1,1,1,1,1,1,1,1,1,1,1,1,1,1,1,1,1,1,1,1,1,1,1,1,1,1,1,1,1,1,1,1,1,1,1,1,1,1,1,1,1,1,1,1,1,1,1,1,1,1,1,1,1,1,1,1,1,1,1,1,1,1,1,1,1,1,1,1,1,1,1,1,1,1,1,1,1,1,1,1,1,1,1,1,1,1,1,1,1,1,1,1,1,1,1,1,1,1,1,1,1,1,1,1,1,1,1,1,1,1,1,1,1,1,1,1,1,1,1,1,1,1,1,1,1,1,1,1,1,1,1,1,1,1,1,1,1,1,1,1,1,1,1,1,1,1,1,1,1,1,1,1,1,1,1,1,1,1,1,1,1,1,1,1,1,1,1,1,1,1,1,1,1,1,1,1,1,1,1,1,1,1,1,1,1,1,1,1,1,1,1,1,1,1,1,1,1,1,1,1,1,1,1,1,1,1,1,1,1,1,1,1,1,1,1,1,1,1,1,1,1,1,1,1,1,1,1,1,1,1,1,1,1,1,1,1,1,1,1,1,1,1,1,1,1,1,1,1,1,1,1,1,1,1,1,1,1,1,1,1,1,1,1,1,1,1,1,1,1,1,1,1,1,1,1,1,1,1,1,1,1,1,1,1,1,1,1,1,1,1,1,1,1,1,1,1,1,1,1,1,1,1,1,1,1,1,1,1,1,1,1,1,1,1,1,1,1,1,1,1,1,1,1,1,1,1,1,1,1,1,1,1,1,1,1,1,1,1,1,1,1,1,1,1,1,1,1,1,1,1,1,1,1,1,1,1,1,1,1,1,1,1,1,1,1,1,1,1,1,1,1,1,1,1,1,1,1,1,1,1,1,1,1,1,1,1,1,1,1,1,1,1,1,1,1,1,1,1,1,1,1,1,1,1,1,1,1,1,1,1,1,1,1,1,1,1,1,1,1,1,1,1,1,1,1,1,1,1,1,1,1,1,1,1,1,1,1,1,1,1,1,1,1,1,1,1,1,1,1,1,1,1,1,1,1,1,1,1,1,1,1,1,1,1,1,1,1,1,1,1,1,1,1,1,1,1,1,1,1,1,1,1,1,1,1,1,1,1,1,1,1,1,1,1,1,1,1,1,1,1,1,1,1,1,1,1,1,1,1,1,1,1,1,1,1,1,1,1,1,1,1,1,1,1,1,1,1,1,1,1,1,1,1,1,1,1,1,1,1,1,1,1,1,1,1,1,1,1,1,1,1,1,1,1,1,1,1,1,1,1,1,1,1,1,1,1,1,1,1,1,1,1,1,1,1,1,1,1,1,1,1,1,1,1,1,1,1,1,1,1,1,1,1,1,1,1,1,1,1,1,1,1,1,1,1,1,1,1,1,1,1,1,1,1,1,1,1,1,1,1,1,1,1,1,1,1,1,1,1,1,1,1,1,1,1,1,1,1,1,1,1,1,1,1,1,1,1,1,1,1,1,1,1,1,1,1,1,1,1,1,1,1,1,1,1,1,1,1,1,1,1,1,1,1,1,1,1,1,1,1,1,1,1,1,1,1,1,1,1,1,1,1,1,1,1,1,1,1,1,1,1,1,1,1,1,1,1,1,1,1,1,1,1,1,1,1,1,1,1,1,1,1,1,1,1,1,1,1,1,1,1,1,1,1,1,1,1,1,1,1,1,1,1,1,1,1,1,1,1,1,1,1,1,1,1,1,1,1,1,1,1,1,1,1,1,1,1,1,1,1,1,1,1,1,1,1,1,1,1,1,1,1,1,1,1,1,1,1,1,1,1,1,1,1,1,1,1,1,1,1,1,1,1,1,1,1,1,1,1,1,1,1,1,1,1,1,1,1,1,1,1,1,1,1,1,1,1,1,1,1,1,1,1,1,1,1,1,1,1,1,1,1,1,1,1,1,1,1,1,1,1,1,1,1,1,1,1,1,1,1,1,1,1,1,1,1,1,1,1,1,1,1,1,1,1,1,1,1,1,1,1,1,1,1,1,1,1,1,1,1,1,1,1,1,1,1,1,1,1,1,1,1,1,1,1,1,1,1,1,1,1,1,1,1,1,1,1,1,1,1,1,1,1,1,1,1,1,1,1,1,1,1,1,1,1,1,1,1,1,1,1,1,1,1,1,1,1,1,1,1,1,1,1,1,1,1,1,1,1,1,1,1,1,1,1,1,1,1,1,1,1,1,1,1,1,1,1,1,1,1,1,1,1,1,1,1,1,1,1,1,1,1,1,1,1,1,1,1,1,1,1,1,1,1,1,1,1,1,1,1,1,1,1,1,1,1,1,1,1,1,1,1,1,1,1,1,1,1,1,1,1,1,1,1,1,1,1,1,1,1,1,1,1,1,1,1,1,1,1,1,1,1,1,1,1,1,1,1,1,1,1,1,1,1,1,1,1,1,1,1,1,1,1,1,1,1,1,1,1,1,1,1,1,1,1,1,1,1,1,1,1,1,1,1,1,1,1,1,1,1,1,1,1,1,1,1,1,1,1,1,1,1,1,1,1,1,1,1,1,1,1,1,1,1,1,1,1,1,1,1,1,1,1,1,1,1,1,1,1,1,1,1,1,1,1,1,1,1,1,1,1,1,1,1,1,1,1,1,1,1,1,1,1,1,1,1,1,1,1,1,1,1,1,1,1,1,1,1,1,1,1,1,1,1,1,1,1,1,1,1,1,1,1,1,1,1,1,1,1,1,1,1,1,1,1,1,1,1,1,1,1,1,1,1,1,1,1,1,1,1,1,1,1,1,1,1,1,1,1,1,1,1,1,1,1,1,1,1,1,1,1,1,1,1,1,1,1,1,1,1,1,1,1,1,1,1,1,1,1,1,1,1,1,1,1,1,1,1,1,1,1,1,1,1,1,1,1,1,1,1,1,1,1,1,1,1,1,1,1,1,1,1,1,1,1,1,1,1,1,1,1,1,1,1,1,1,1,1,1,1,1,1,1,1,1,1,1,1,1,1,1,1,1,1,1,1,1,1,1,1,1,1,1,1,1,1,1,1,1,1,1,1,1,1,1,1,1,1,1,1,1,1,1,1,1,1,1,1,1,1,1,1,1,1,1,1,1,1,1,1,1,1,1,1,1,1,1],\"legendgroup\":\"\",\"name\":\"\",\"showlegend\":true,\"type\":\"pie\"}],                        {\"template\":{\"data\":{\"bar\":[{\"error_x\":{\"color\":\"#2a3f5f\"},\"error_y\":{\"color\":\"#2a3f5f\"},\"marker\":{\"line\":{\"color\":\"#E5ECF6\",\"width\":0.5},\"pattern\":{\"fillmode\":\"overlay\",\"size\":10,\"solidity\":0.2}},\"type\":\"bar\"}],\"barpolar\":[{\"marker\":{\"line\":{\"color\":\"#E5ECF6\",\"width\":0.5},\"pattern\":{\"fillmode\":\"overlay\",\"size\":10,\"solidity\":0.2}},\"type\":\"barpolar\"}],\"carpet\":[{\"aaxis\":{\"endlinecolor\":\"#2a3f5f\",\"gridcolor\":\"white\",\"linecolor\":\"white\",\"minorgridcolor\":\"white\",\"startlinecolor\":\"#2a3f5f\"},\"baxis\":{\"endlinecolor\":\"#2a3f5f\",\"gridcolor\":\"white\",\"linecolor\":\"white\",\"minorgridcolor\":\"white\",\"startlinecolor\":\"#2a3f5f\"},\"type\":\"carpet\"}],\"choropleth\":[{\"colorbar\":{\"outlinewidth\":0,\"ticks\":\"\"},\"type\":\"choropleth\"}],\"contour\":[{\"colorbar\":{\"outlinewidth\":0,\"ticks\":\"\"},\"colorscale\":[[0.0,\"#0d0887\"],[0.1111111111111111,\"#46039f\"],[0.2222222222222222,\"#7201a8\"],[0.3333333333333333,\"#9c179e\"],[0.4444444444444444,\"#bd3786\"],[0.5555555555555556,\"#d8576b\"],[0.6666666666666666,\"#ed7953\"],[0.7777777777777778,\"#fb9f3a\"],[0.8888888888888888,\"#fdca26\"],[1.0,\"#f0f921\"]],\"type\":\"contour\"}],\"contourcarpet\":[{\"colorbar\":{\"outlinewidth\":0,\"ticks\":\"\"},\"type\":\"contourcarpet\"}],\"heatmap\":[{\"colorbar\":{\"outlinewidth\":0,\"ticks\":\"\"},\"colorscale\":[[0.0,\"#0d0887\"],[0.1111111111111111,\"#46039f\"],[0.2222222222222222,\"#7201a8\"],[0.3333333333333333,\"#9c179e\"],[0.4444444444444444,\"#bd3786\"],[0.5555555555555556,\"#d8576b\"],[0.6666666666666666,\"#ed7953\"],[0.7777777777777778,\"#fb9f3a\"],[0.8888888888888888,\"#fdca26\"],[1.0,\"#f0f921\"]],\"type\":\"heatmap\"}],\"heatmapgl\":[{\"colorbar\":{\"outlinewidth\":0,\"ticks\":\"\"},\"colorscale\":[[0.0,\"#0d0887\"],[0.1111111111111111,\"#46039f\"],[0.2222222222222222,\"#7201a8\"],[0.3333333333333333,\"#9c179e\"],[0.4444444444444444,\"#bd3786\"],[0.5555555555555556,\"#d8576b\"],[0.6666666666666666,\"#ed7953\"],[0.7777777777777778,\"#fb9f3a\"],[0.8888888888888888,\"#fdca26\"],[1.0,\"#f0f921\"]],\"type\":\"heatmapgl\"}],\"histogram\":[{\"marker\":{\"pattern\":{\"fillmode\":\"overlay\",\"size\":10,\"solidity\":0.2}},\"type\":\"histogram\"}],\"histogram2d\":[{\"colorbar\":{\"outlinewidth\":0,\"ticks\":\"\"},\"colorscale\":[[0.0,\"#0d0887\"],[0.1111111111111111,\"#46039f\"],[0.2222222222222222,\"#7201a8\"],[0.3333333333333333,\"#9c179e\"],[0.4444444444444444,\"#bd3786\"],[0.5555555555555556,\"#d8576b\"],[0.6666666666666666,\"#ed7953\"],[0.7777777777777778,\"#fb9f3a\"],[0.8888888888888888,\"#fdca26\"],[1.0,\"#f0f921\"]],\"type\":\"histogram2d\"}],\"histogram2dcontour\":[{\"colorbar\":{\"outlinewidth\":0,\"ticks\":\"\"},\"colorscale\":[[0.0,\"#0d0887\"],[0.1111111111111111,\"#46039f\"],[0.2222222222222222,\"#7201a8\"],[0.3333333333333333,\"#9c179e\"],[0.4444444444444444,\"#bd3786\"],[0.5555555555555556,\"#d8576b\"],[0.6666666666666666,\"#ed7953\"],[0.7777777777777778,\"#fb9f3a\"],[0.8888888888888888,\"#fdca26\"],[1.0,\"#f0f921\"]],\"type\":\"histogram2dcontour\"}],\"mesh3d\":[{\"colorbar\":{\"outlinewidth\":0,\"ticks\":\"\"},\"type\":\"mesh3d\"}],\"parcoords\":[{\"line\":{\"colorbar\":{\"outlinewidth\":0,\"ticks\":\"\"}},\"type\":\"parcoords\"}],\"pie\":[{\"automargin\":true,\"type\":\"pie\"}],\"scatter\":[{\"marker\":{\"colorbar\":{\"outlinewidth\":0,\"ticks\":\"\"}},\"type\":\"scatter\"}],\"scatter3d\":[{\"line\":{\"colorbar\":{\"outlinewidth\":0,\"ticks\":\"\"}},\"marker\":{\"colorbar\":{\"outlinewidth\":0,\"ticks\":\"\"}},\"type\":\"scatter3d\"}],\"scattercarpet\":[{\"marker\":{\"colorbar\":{\"outlinewidth\":0,\"ticks\":\"\"}},\"type\":\"scattercarpet\"}],\"scattergeo\":[{\"marker\":{\"colorbar\":{\"outlinewidth\":0,\"ticks\":\"\"}},\"type\":\"scattergeo\"}],\"scattergl\":[{\"marker\":{\"colorbar\":{\"outlinewidth\":0,\"ticks\":\"\"}},\"type\":\"scattergl\"}],\"scattermapbox\":[{\"marker\":{\"colorbar\":{\"outlinewidth\":0,\"ticks\":\"\"}},\"type\":\"scattermapbox\"}],\"scatterpolar\":[{\"marker\":{\"colorbar\":{\"outlinewidth\":0,\"ticks\":\"\"}},\"type\":\"scatterpolar\"}],\"scatterpolargl\":[{\"marker\":{\"colorbar\":{\"outlinewidth\":0,\"ticks\":\"\"}},\"type\":\"scatterpolargl\"}],\"scatterternary\":[{\"marker\":{\"colorbar\":{\"outlinewidth\":0,\"ticks\":\"\"}},\"type\":\"scatterternary\"}],\"surface\":[{\"colorbar\":{\"outlinewidth\":0,\"ticks\":\"\"},\"colorscale\":[[0.0,\"#0d0887\"],[0.1111111111111111,\"#46039f\"],[0.2222222222222222,\"#7201a8\"],[0.3333333333333333,\"#9c179e\"],[0.4444444444444444,\"#bd3786\"],[0.5555555555555556,\"#d8576b\"],[0.6666666666666666,\"#ed7953\"],[0.7777777777777778,\"#fb9f3a\"],[0.8888888888888888,\"#fdca26\"],[1.0,\"#f0f921\"]],\"type\":\"surface\"}],\"table\":[{\"cells\":{\"fill\":{\"color\":\"#EBF0F8\"},\"line\":{\"color\":\"white\"}},\"header\":{\"fill\":{\"color\":\"#C8D4E3\"},\"line\":{\"color\":\"white\"}},\"type\":\"table\"}]},\"layout\":{\"annotationdefaults\":{\"arrowcolor\":\"#2a3f5f\",\"arrowhead\":0,\"arrowwidth\":1},\"autotypenumbers\":\"strict\",\"coloraxis\":{\"colorbar\":{\"outlinewidth\":0,\"ticks\":\"\"}},\"colorscale\":{\"diverging\":[[0,\"#8e0152\"],[0.1,\"#c51b7d\"],[0.2,\"#de77ae\"],[0.3,\"#f1b6da\"],[0.4,\"#fde0ef\"],[0.5,\"#f7f7f7\"],[0.6,\"#e6f5d0\"],[0.7,\"#b8e186\"],[0.8,\"#7fbc41\"],[0.9,\"#4d9221\"],[1,\"#276419\"]],\"sequential\":[[0.0,\"#0d0887\"],[0.1111111111111111,\"#46039f\"],[0.2222222222222222,\"#7201a8\"],[0.3333333333333333,\"#9c179e\"],[0.4444444444444444,\"#bd3786\"],[0.5555555555555556,\"#d8576b\"],[0.6666666666666666,\"#ed7953\"],[0.7777777777777778,\"#fb9f3a\"],[0.8888888888888888,\"#fdca26\"],[1.0,\"#f0f921\"]],\"sequentialminus\":[[0.0,\"#0d0887\"],[0.1111111111111111,\"#46039f\"],[0.2222222222222222,\"#7201a8\"],[0.3333333333333333,\"#9c179e\"],[0.4444444444444444,\"#bd3786\"],[0.5555555555555556,\"#d8576b\"],[0.6666666666666666,\"#ed7953\"],[0.7777777777777778,\"#fb9f3a\"],[0.8888888888888888,\"#fdca26\"],[1.0,\"#f0f921\"]]},\"colorway\":[\"#636efa\",\"#EF553B\",\"#00cc96\",\"#ab63fa\",\"#FFA15A\",\"#19d3f3\",\"#FF6692\",\"#B6E880\",\"#FF97FF\",\"#FECB52\"],\"font\":{\"color\":\"#2a3f5f\"},\"geo\":{\"bgcolor\":\"white\",\"lakecolor\":\"white\",\"landcolor\":\"#E5ECF6\",\"showlakes\":true,\"showland\":true,\"subunitcolor\":\"white\"},\"hoverlabel\":{\"align\":\"left\"},\"hovermode\":\"closest\",\"mapbox\":{\"style\":\"light\"},\"paper_bgcolor\":\"white\",\"plot_bgcolor\":\"#E5ECF6\",\"polar\":{\"angularaxis\":{\"gridcolor\":\"white\",\"linecolor\":\"white\",\"ticks\":\"\"},\"bgcolor\":\"#E5ECF6\",\"radialaxis\":{\"gridcolor\":\"white\",\"linecolor\":\"white\",\"ticks\":\"\"}},\"scene\":{\"xaxis\":{\"backgroundcolor\":\"#E5ECF6\",\"gridcolor\":\"white\",\"gridwidth\":2,\"linecolor\":\"white\",\"showbackground\":true,\"ticks\":\"\",\"zerolinecolor\":\"white\"},\"yaxis\":{\"backgroundcolor\":\"#E5ECF6\",\"gridcolor\":\"white\",\"gridwidth\":2,\"linecolor\":\"white\",\"showbackground\":true,\"ticks\":\"\",\"zerolinecolor\":\"white\"},\"zaxis\":{\"backgroundcolor\":\"#E5ECF6\",\"gridcolor\":\"white\",\"gridwidth\":2,\"linecolor\":\"white\",\"showbackground\":true,\"ticks\":\"\",\"zerolinecolor\":\"white\"}},\"shapedefaults\":{\"line\":{\"color\":\"#2a3f5f\"}},\"ternary\":{\"aaxis\":{\"gridcolor\":\"white\",\"linecolor\":\"white\",\"ticks\":\"\"},\"baxis\":{\"gridcolor\":\"white\",\"linecolor\":\"white\",\"ticks\":\"\"},\"bgcolor\":\"#E5ECF6\",\"caxis\":{\"gridcolor\":\"white\",\"linecolor\":\"white\",\"ticks\":\"\"}},\"title\":{\"x\":0.05},\"xaxis\":{\"automargin\":true,\"gridcolor\":\"white\",\"linecolor\":\"white\",\"ticks\":\"\",\"title\":{\"standoff\":15},\"zerolinecolor\":\"white\",\"zerolinewidth\":2},\"yaxis\":{\"automargin\":true,\"gridcolor\":\"white\",\"linecolor\":\"white\",\"ticks\":\"\",\"title\":{\"standoff\":15},\"zerolinecolor\":\"white\",\"zerolinewidth\":2}}},\"legend\":{\"tracegroupgap\":0},\"margin\":{\"t\":60},\"piecolorway\":[\"#46205c\",\"#b74068\"],\"title\":{\"text\":\"<b>Proportion of Stroke Samples<b> \"}},                        {\"responsive\": true}                    ).then(function(){\n",
              "                            \n",
              "var gd = document.getElementById('1c24de68-d858-4b55-a458-37bca5f88877');\n",
              "var x = new MutationObserver(function (mutations, observer) {{\n",
              "        var display = window.getComputedStyle(gd).display;\n",
              "        if (!display || display === 'none') {{\n",
              "            console.log([gd, 'removed!']);\n",
              "            Plotly.purge(gd);\n",
              "            observer.disconnect();\n",
              "        }}\n",
              "}});\n",
              "\n",
              "// Listen for the removal of the full notebook cells\n",
              "var notebookContainer = gd.closest('#notebook-container');\n",
              "if (notebookContainer) {{\n",
              "    x.observe(notebookContainer, {childList: true});\n",
              "}}\n",
              "\n",
              "// Listen for the clearing of the current output cell\n",
              "var outputEl = gd.closest('.output');\n",
              "if (outputEl) {{\n",
              "    x.observe(outputEl, {childList: true});\n",
              "}}\n",
              "\n",
              "                        })                };                            </script>        </div>\n",
              "</body>\n",
              "</html>"
            ]
          },
          "metadata": {}
        }
      ],
      "source": [
        "df2=pd.DataFrame(y_train_res,columns=['stroke'])\n",
        "fig=px.pie(df2,names='stroke',color_discrete_sequence=['#46205c', '#b74068']) \n",
        "fig.update_layout(title='<b>Proportion of Stroke Samples<b> ')\n",
        "fig.show(renderer=\"colab\") "
      ]
    },
    {
      "cell_type": "markdown",
      "source": [
        "**BASELINE MODEL**"
      ],
      "metadata": {
        "id": "8jztCDCpkYLK"
      }
    },
    {
      "cell_type": "code",
      "source": [
        "!pip install dabl\n",
        "import dabl\n",
        "from sklearn.model_selection import train_test_split\n",
        "from sklearn.datasets import load_digits\n",
        "accuracies = {}"
      ],
      "metadata": {
        "id": "eWImREJNj_Ia",
        "colab": {
          "base_uri": "https://localhost:8080/"
        },
        "outputId": "9cc3c8c3-b437-4370-a896-33151f8db2bc"
      },
      "execution_count": 35,
      "outputs": [
        {
          "output_type": "stream",
          "name": "stdout",
          "text": [
            "Collecting dabl\n",
            "  Downloading dabl-0.2.2-py3-none-any.whl (558 kB)\n",
            "\u001b[?25l\r\u001b[K     |▋                               | 10 kB 20.6 MB/s eta 0:00:01\r\u001b[K     |█▏                              | 20 kB 14.0 MB/s eta 0:00:01\r\u001b[K     |█▊                              | 30 kB 9.5 MB/s eta 0:00:01\r\u001b[K     |██▍                             | 40 kB 4.8 MB/s eta 0:00:01\r\u001b[K     |███                             | 51 kB 4.5 MB/s eta 0:00:01\r\u001b[K     |███▌                            | 61 kB 5.3 MB/s eta 0:00:01\r\u001b[K     |████                            | 71 kB 5.2 MB/s eta 0:00:01\r\u001b[K     |████▊                           | 81 kB 4.4 MB/s eta 0:00:01\r\u001b[K     |█████▎                          | 92 kB 4.9 MB/s eta 0:00:01\r\u001b[K     |█████▉                          | 102 kB 4.5 MB/s eta 0:00:01\r\u001b[K     |██████▌                         | 112 kB 4.5 MB/s eta 0:00:01\r\u001b[K     |███████                         | 122 kB 4.5 MB/s eta 0:00:01\r\u001b[K     |███████▋                        | 133 kB 4.5 MB/s eta 0:00:01\r\u001b[K     |████████▏                       | 143 kB 4.5 MB/s eta 0:00:01\r\u001b[K     |████████▉                       | 153 kB 4.5 MB/s eta 0:00:01\r\u001b[K     |█████████▍                      | 163 kB 4.5 MB/s eta 0:00:01\r\u001b[K     |██████████                      | 174 kB 4.5 MB/s eta 0:00:01\r\u001b[K     |██████████▌                     | 184 kB 4.5 MB/s eta 0:00:01\r\u001b[K     |███████████▏                    | 194 kB 4.5 MB/s eta 0:00:01\r\u001b[K     |███████████▊                    | 204 kB 4.5 MB/s eta 0:00:01\r\u001b[K     |████████████▎                   | 215 kB 4.5 MB/s eta 0:00:01\r\u001b[K     |█████████████                   | 225 kB 4.5 MB/s eta 0:00:01\r\u001b[K     |█████████████▌                  | 235 kB 4.5 MB/s eta 0:00:01\r\u001b[K     |██████████████                  | 245 kB 4.5 MB/s eta 0:00:01\r\u001b[K     |██████████████▋                 | 256 kB 4.5 MB/s eta 0:00:01\r\u001b[K     |███████████████▎                | 266 kB 4.5 MB/s eta 0:00:01\r\u001b[K     |███████████████▉                | 276 kB 4.5 MB/s eta 0:00:01\r\u001b[K     |████████████████▍               | 286 kB 4.5 MB/s eta 0:00:01\r\u001b[K     |█████████████████               | 296 kB 4.5 MB/s eta 0:00:01\r\u001b[K     |█████████████████▋              | 307 kB 4.5 MB/s eta 0:00:01\r\u001b[K     |██████████████████▏             | 317 kB 4.5 MB/s eta 0:00:01\r\u001b[K     |██████████████████▊             | 327 kB 4.5 MB/s eta 0:00:01\r\u001b[K     |███████████████████▍            | 337 kB 4.5 MB/s eta 0:00:01\r\u001b[K     |████████████████████            | 348 kB 4.5 MB/s eta 0:00:01\r\u001b[K     |████████████████████▌           | 358 kB 4.5 MB/s eta 0:00:01\r\u001b[K     |█████████████████████           | 368 kB 4.5 MB/s eta 0:00:01\r\u001b[K     |█████████████████████▊          | 378 kB 4.5 MB/s eta 0:00:01\r\u001b[K     |██████████████████████▎         | 389 kB 4.5 MB/s eta 0:00:01\r\u001b[K     |██████████████████████▉         | 399 kB 4.5 MB/s eta 0:00:01\r\u001b[K     |███████████████████████▌        | 409 kB 4.5 MB/s eta 0:00:01\r\u001b[K     |████████████████████████        | 419 kB 4.5 MB/s eta 0:00:01\r\u001b[K     |████████████████████████▋       | 430 kB 4.5 MB/s eta 0:00:01\r\u001b[K     |█████████████████████████▏      | 440 kB 4.5 MB/s eta 0:00:01\r\u001b[K     |█████████████████████████▉      | 450 kB 4.5 MB/s eta 0:00:01\r\u001b[K     |██████████████████████████▍     | 460 kB 4.5 MB/s eta 0:00:01\r\u001b[K     |███████████████████████████     | 471 kB 4.5 MB/s eta 0:00:01\r\u001b[K     |███████████████████████████▌    | 481 kB 4.5 MB/s eta 0:00:01\r\u001b[K     |████████████████████████████▏   | 491 kB 4.5 MB/s eta 0:00:01\r\u001b[K     |████████████████████████████▊   | 501 kB 4.5 MB/s eta 0:00:01\r\u001b[K     |█████████████████████████████▎  | 512 kB 4.5 MB/s eta 0:00:01\r\u001b[K     |██████████████████████████████  | 522 kB 4.5 MB/s eta 0:00:01\r\u001b[K     |██████████████████████████████▌ | 532 kB 4.5 MB/s eta 0:00:01\r\u001b[K     |███████████████████████████████ | 542 kB 4.5 MB/s eta 0:00:01\r\u001b[K     |███████████████████████████████▋| 552 kB 4.5 MB/s eta 0:00:01\r\u001b[K     |████████████████████████████████| 558 kB 4.5 MB/s \n",
            "\u001b[?25hRequirement already satisfied: seaborn in /usr/local/lib/python3.7/dist-packages (from dabl) (0.11.2)\n",
            "Requirement already satisfied: matplotlib in /usr/local/lib/python3.7/dist-packages (from dabl) (3.2.2)\n",
            "Requirement already satisfied: scipy in /usr/local/lib/python3.7/dist-packages (from dabl) (1.4.1)\n",
            "Requirement already satisfied: numpy in /usr/local/lib/python3.7/dist-packages (from dabl) (1.21.5)\n",
            "Requirement already satisfied: pandas in /usr/local/lib/python3.7/dist-packages (from dabl) (1.3.5)\n",
            "Requirement already satisfied: scikit-learn>=0.24.0 in /usr/local/lib/python3.7/dist-packages (from dabl) (1.0.2)\n",
            "Requirement already satisfied: threadpoolctl>=2.0.0 in /usr/local/lib/python3.7/dist-packages (from scikit-learn>=0.24.0->dabl) (3.1.0)\n",
            "Requirement already satisfied: joblib>=0.11 in /usr/local/lib/python3.7/dist-packages (from scikit-learn>=0.24.0->dabl) (1.1.0)\n",
            "Requirement already satisfied: kiwisolver>=1.0.1 in /usr/local/lib/python3.7/dist-packages (from matplotlib->dabl) (1.4.0)\n",
            "Requirement already satisfied: cycler>=0.10 in /usr/local/lib/python3.7/dist-packages (from matplotlib->dabl) (0.11.0)\n",
            "Requirement already satisfied: python-dateutil>=2.1 in /usr/local/lib/python3.7/dist-packages (from matplotlib->dabl) (2.8.2)\n",
            "Requirement already satisfied: pyparsing!=2.0.4,!=2.1.2,!=2.1.6,>=2.0.1 in /usr/local/lib/python3.7/dist-packages (from matplotlib->dabl) (3.0.7)\n",
            "Requirement already satisfied: typing-extensions in /usr/local/lib/python3.7/dist-packages (from kiwisolver>=1.0.1->matplotlib->dabl) (3.10.0.2)\n",
            "Requirement already satisfied: six>=1.5 in /usr/local/lib/python3.7/dist-packages (from python-dateutil>=2.1->matplotlib->dabl) (1.15.0)\n",
            "Requirement already satisfied: pytz>=2017.3 in /usr/local/lib/python3.7/dist-packages (from pandas->dabl) (2018.9)\n",
            "Installing collected packages: dabl\n",
            "Successfully installed dabl-0.2.2\n"
          ]
        }
      ]
    },
    {
      "cell_type": "code",
      "source": [
        "\n",
        "sc = dabl.SimpleClassifier().fit(X_train_res, y_train_res)\n",
        "print(\"Accuracy score\", sc.score(X_test, y_test))\n",
        "acc=sc.score(X_test, y_test)*100\n",
        "accuracies['Base Model']=acc\n",
        "print(\"Test Accuracy of Base Model: {:.2f}%\".format(acc))"
      ],
      "metadata": {
        "id": "J4GwB2DNkgsJ",
        "colab": {
          "base_uri": "https://localhost:8080/"
        },
        "outputId": "8a185bc2-5efd-48fb-e9e6-769add0f12df"
      },
      "execution_count": 36,
      "outputs": [
        {
          "output_type": "stream",
          "name": "stdout",
          "text": [
            "Running DummyClassifier()\n",
            "accuracy: 0.500 average_precision: 0.500 roc_auc: 0.500 recall_macro: 0.500 f1_macro: 0.333\n",
            "=== new best DummyClassifier() (using recall_macro):\n",
            "accuracy: 0.500 average_precision: 0.500 roc_auc: 0.500 recall_macro: 0.500 f1_macro: 0.333\n",
            "\n",
            "Running GaussianNB()\n",
            "accuracy: 0.656 average_precision: 0.839 roc_auc: 0.872 recall_macro: 0.656 f1_macro: 0.611\n",
            "=== new best GaussianNB() (using recall_macro):\n",
            "accuracy: 0.656 average_precision: 0.839 roc_auc: 0.872 recall_macro: 0.656 f1_macro: 0.611\n",
            "\n",
            "Running MultinomialNB()\n",
            "accuracy: 0.724 average_precision: 0.810 roc_auc: 0.809 recall_macro: 0.724 f1_macro: 0.723\n",
            "=== new best MultinomialNB() (using recall_macro):\n",
            "accuracy: 0.724 average_precision: 0.810 roc_auc: 0.809 recall_macro: 0.724 f1_macro: 0.723\n",
            "\n",
            "Running DecisionTreeClassifier(class_weight='balanced', max_depth=1)\n",
            "accuracy: 0.784 average_precision: 0.706 roc_auc: 0.784 recall_macro: 0.784 f1_macro: 0.780\n",
            "=== new best DecisionTreeClassifier(class_weight='balanced', max_depth=1) (using recall_macro):\n",
            "accuracy: 0.784 average_precision: 0.706 roc_auc: 0.784 recall_macro: 0.784 f1_macro: 0.780\n",
            "\n",
            "Running DecisionTreeClassifier(class_weight='balanced', max_depth=5)\n",
            "accuracy: 0.831 average_precision: 0.858 roc_auc: 0.901 recall_macro: 0.831 f1_macro: 0.829\n",
            "=== new best DecisionTreeClassifier(class_weight='balanced', max_depth=5) (using recall_macro):\n",
            "accuracy: 0.831 average_precision: 0.858 roc_auc: 0.901 recall_macro: 0.831 f1_macro: 0.829\n",
            "\n",
            "Running DecisionTreeClassifier(class_weight='balanced', min_impurity_decrease=0.01)\n",
            "accuracy: 0.794 average_precision: 0.806 roc_auc: 0.861 recall_macro: 0.794 f1_macro: 0.793\n",
            "Running LogisticRegression(C=0.1, class_weight='balanced', max_iter=1000)\n",
            "accuracy: 0.828 average_precision: 0.909 roc_auc: 0.915 recall_macro: 0.828 f1_macro: 0.828\n",
            "Running LogisticRegression(class_weight='balanced', max_iter=1000)\n",
            "accuracy: 0.830 average_precision: 0.912 roc_auc: 0.917 recall_macro: 0.830 f1_macro: 0.830\n",
            "\n",
            "Best model:\n",
            "DecisionTreeClassifier(class_weight='balanced', max_depth=5)\n",
            "Best Scores:\n",
            "accuracy: 0.831 average_precision: 0.858 roc_auc: 0.901 recall_macro: 0.831 f1_macro: 0.829\n",
            "Accuracy score 0.6973255055446836\n",
            "Test Accuracy of Base Model: 69.73%\n"
          ]
        }
      ]
    },
    {
      "cell_type": "markdown",
      "source": [
        "**Naive Bayes**"
      ],
      "metadata": {
        "id": "4fVXKnzvncNO"
      }
    },
    {
      "cell_type": "code",
      "source": [
        "from sklearn.naive_bayes import GaussianNB\n",
        "nb = GaussianNB()\n",
        "nb.fit(X_train_res, y_train_res)"
      ],
      "metadata": {
        "id": "okf82Fj0m2iQ",
        "colab": {
          "base_uri": "https://localhost:8080/"
        },
        "outputId": "71113fc6-f927-416d-f9b5-5c3aa3070d9f"
      },
      "execution_count": 37,
      "outputs": [
        {
          "output_type": "execute_result",
          "data": {
            "text/plain": [
              "GaussianNB()"
            ]
          },
          "metadata": {},
          "execution_count": 37
        }
      ]
    },
    {
      "cell_type": "code",
      "source": [
        "print(\"Naive Bayes score: \",nb.score(X_test, y_test))\n",
        "acc=nb.score(X_test, y_test)*100;\n",
        "accuracies['Naive Bayes']=acc\n",
        "print(\"Test Accuracy of Naive Bayes Algorithm: {:.2f}%\".format(acc))"
      ],
      "metadata": {
        "id": "F9F8WACcnPPP",
        "colab": {
          "base_uri": "https://localhost:8080/"
        },
        "outputId": "e5e0b33a-7adc-488f-c51d-d13ac5c3a133"
      },
      "execution_count": 38,
      "outputs": [
        {
          "output_type": "stream",
          "name": "stdout",
          "text": [
            "Naive Bayes score:  0.735812133072407\n",
            "Test Accuracy of Naive Bayes Algorithm: 73.58%\n"
          ]
        }
      ]
    },
    {
      "cell_type": "markdown",
      "source": [
        "**Logistic Regression**"
      ],
      "metadata": {
        "id": "gsLb4sdpvAKx"
      }
    },
    {
      "cell_type": "code",
      "source": [
        "from sklearn.linear_model import LogisticRegression\n",
        "from sklearn.metrics import confusion_matrix,accuracy_score\n",
        "logisticRegr = LogisticRegression()\n",
        "logisticRegr.fit(X_train_res, y_train_res)\n",
        "predictions = logisticRegr.predict(X_test)\n",
        "score = logisticRegr.score(X_test, y_test)\n",
        "cm = confusion_matrix(y_test, predictions)\n",
        "print(\"Confusion matrix \")\n",
        "print(cm)\n",
        "acc=score*100\n",
        "accuracies['Logistic Regression']=acc\n",
        "print(\"Test Accuracy of Logistic Regression Algorithm: {:.2f}%\".format(acc))"
      ],
      "metadata": {
        "id": "6D0qgAcInovn",
        "colab": {
          "base_uri": "https://localhost:8080/"
        },
        "outputId": "95b2cf27-7607-4531-c814-1b89b70828ae"
      },
      "execution_count": 39,
      "outputs": [
        {
          "output_type": "stream",
          "name": "stdout",
          "text": [
            "Confusion matrix \n",
            "[[1139  318]\n",
            " [  32   44]]\n",
            "Test Accuracy of Logistic Regression Algorithm: 77.17%\n"
          ]
        }
      ]
    },
    {
      "cell_type": "markdown",
      "source": [
        "**SVM**"
      ],
      "metadata": {
        "id": "JXi-G7LmpyMO"
      }
    },
    {
      "cell_type": "code",
      "source": [
        "from sklearn.svm import SVC\n",
        "\n",
        "svm = SVC(random_state = 1)\n",
        "svm.fit(X_train_res, y_train_res)\n",
        "\n",
        "acc = svm.score(X_test,y_test)*100\n",
        "accuracies['SVM'] = acc\n",
        "print(\"Test Accuracy of SVM Algorithm: {:.2f}%\".format(acc))"
      ],
      "metadata": {
        "id": "9uJILrf4oZr2",
        "colab": {
          "base_uri": "https://localhost:8080/"
        },
        "outputId": "e89731e5-ab86-470d-8816-81c2584ed639"
      },
      "execution_count": 40,
      "outputs": [
        {
          "output_type": "stream",
          "name": "stdout",
          "text": [
            "Test Accuracy of SVM Algorithm: 70.45%\n"
          ]
        }
      ]
    },
    {
      "cell_type": "markdown",
      "source": [
        "**KNN**"
      ],
      "metadata": {
        "id": "aJch3JqMqPVl"
      }
    },
    {
      "cell_type": "code",
      "source": [
        "from sklearn.preprocessing import StandardScaler\n",
        "sc = StandardScaler()\n",
        "X_train_res1 = sc.fit_transform(X_train_res)\n",
        "X_test1 = sc.transform(X_test)\n",
        "from sklearn.neighbors import KNeighborsClassifier\n",
        "classifier = KNeighborsClassifier(n_neighbors = 5, metric = 'minkowski', p = 2)\n",
        "classifier.fit(X_train_res1, y_train_res)\n",
        "\n",
        "y_pred = classifier.predict(X_test1)\n",
        "cm = confusion_matrix(y_test, y_pred)\n",
        "print(\"Confusion matrix\")\n",
        "print(cm)\n",
        "ac = accuracy_score(y_test,y_pred)\n",
        "ac\n",
        "acc=ac*100\n",
        "accuracies['KNN'] = acc\n",
        "print(\"Test Accuracy of KNN Algorithm: {:.2f}%\".format(acc))"
      ],
      "metadata": {
        "id": "44MFZa67qCHe",
        "colab": {
          "base_uri": "https://localhost:8080/"
        },
        "outputId": "014e7f67-e24d-482c-fefb-227f5766a89e"
      },
      "execution_count": 41,
      "outputs": [
        {
          "output_type": "stream",
          "name": "stdout",
          "text": [
            "Confusion matrix\n",
            "[[1211  246]\n",
            " [  47   29]]\n",
            "Test Accuracy of KNN Algorithm: 80.89%\n"
          ]
        }
      ]
    },
    {
      "cell_type": "markdown",
      "source": [
        ""
      ],
      "metadata": {
        "id": "gk7hHP26Y-QH"
      }
    },
    {
      "cell_type": "markdown",
      "source": [
        "**Decision Tree**"
      ],
      "metadata": {
        "id": "LtOVpH9vrFnh"
      }
    },
    {
      "cell_type": "code",
      "source": [
        "from sklearn.tree import DecisionTreeClassifier\n",
        "\n",
        "# Function to perform training with giniIndex.\n",
        "def train_using_gini(X_train, X_test, y_train):\n",
        "  \n",
        "    # Creating the classifier object\n",
        "    clf_gini = DecisionTreeClassifier(criterion = \"gini\",\n",
        "            random_state = 100,max_depth=3, min_samples_leaf=5)\n",
        "  \n",
        "    # Performing training\n",
        "    clf_gini.fit(X_train, y_train)\n",
        "    return clf_gini\n",
        "      \n",
        "# Function to perform training with entropy.\n",
        "def train_using_entropy(X_train, X_test, y_train):\n",
        "  \n",
        "    # Decision tree with entropy\n",
        "    clf_entropy = DecisionTreeClassifier(\n",
        "            criterion = \"entropy\", random_state = 100,\n",
        "            max_depth = 3, min_samples_leaf = 5)\n",
        "  \n",
        "    # Performing training\n",
        "    clf_entropy.fit(X_train, y_train)\n",
        "    return clf_entropy\n",
        "  \n",
        "  \n",
        "# Function to make predictions\n",
        "def prediction(X_test, clf_object):\n",
        "  \n",
        "    # Predicton on test with giniIndex\n",
        "    y_pred = clf_object.predict(X_test)\n",
        "    print(\"Predicted values:\")\n",
        "    print(y_pred)\n",
        "    return y_pred"
      ],
      "metadata": {
        "id": "kcv5yhLPrK6U"
      },
      "execution_count": 43,
      "outputs": []
    },
    {
      "cell_type": "code",
      "source": [
        "from sklearn.metrics import accuracy_score\n",
        "from sklearn.metrics import classification_report\n",
        "\n",
        "# Function to calculate accuracy\n",
        "def cal_accuracy(y_test, y_pred):\n",
        "      \n",
        "    print(\"Confusion Matrix: \\n\",\n",
        "        confusion_matrix(y_test, y_pred))\n",
        "      \n",
        "    print (\"Accuracy : \",\n",
        "    accuracy_score(y_test,y_pred)*100)\n",
        "      \n",
        "    print(\"Report : \",\n",
        "    classification_report(y_test, y_pred))\n",
        "\n",
        "    return accuracy_score(y_test,y_pred)*100"
      ],
      "metadata": {
        "id": "zV2ePdFFrvHL"
      },
      "execution_count": 44,
      "outputs": []
    },
    {
      "cell_type": "code",
      "source": [
        "clf_gini = train_using_gini(X_train_res, X_test, y_train_res)\n",
        "clf_entropy = train_using_entropy(X_train_res, X_test, y_train_res)\n",
        " \n",
        "# Operational Phase\n",
        "print(\"Results Using Gini Index:\")\n",
        "  \n",
        "# Prediction using gini\n",
        "y_pred_gini = prediction(X_test, clf_gini)\n",
        "\n",
        "giniAcc = cal_accuracy(y_test, y_pred_gini)\n",
        "accuracies['DT by gini']=giniAcc\n",
        "print(giniAcc)"
      ],
      "metadata": {
        "id": "BOb3bUkwrQ4A",
        "colab": {
          "base_uri": "https://localhost:8080/"
        },
        "outputId": "3158210a-a9e9-4a0f-9b19-a4008ed63eb2"
      },
      "execution_count": 45,
      "outputs": [
        {
          "output_type": "stream",
          "name": "stdout",
          "text": [
            "Results Using Gini Index:\n",
            "Predicted values:\n",
            "[1 0 1 ... 0 1 0]\n",
            "Confusion Matrix: \n",
            " [[979 478]\n",
            " [ 16  60]]\n",
            "Accuracy :  67.77560339204175\n",
            "Report :                precision    recall  f1-score   support\n",
            "\n",
            "           0       0.98      0.67      0.80      1457\n",
            "           1       0.11      0.79      0.20        76\n",
            "\n",
            "    accuracy                           0.68      1533\n",
            "   macro avg       0.55      0.73      0.50      1533\n",
            "weighted avg       0.94      0.68      0.77      1533\n",
            "\n",
            "67.77560339204175\n"
          ]
        }
      ]
    },
    {
      "cell_type": "code",
      "source": [
        "print(\"Results Using Entropy:\")\n",
        "# Prediction using entropy\n",
        "y_pred_entropy = prediction(X_test, clf_entropy)\n",
        "\n",
        "\n",
        "entAcc = cal_accuracy(y_test, y_pred_entropy)\n",
        "accuracies['DT by entropy']=entAcc\n",
        "print(entAcc)"
      ],
      "metadata": {
        "id": "E4hAKcOGryo-",
        "colab": {
          "base_uri": "https://localhost:8080/"
        },
        "outputId": "41ff668e-61ee-4ca0-9289-996e10e885f6"
      },
      "execution_count": 46,
      "outputs": [
        {
          "output_type": "stream",
          "name": "stdout",
          "text": [
            "Results Using Entropy:\n",
            "Predicted values:\n",
            "[1 0 1 ... 0 1 0]\n",
            "Confusion Matrix: \n",
            " [[983 474]\n",
            " [ 16  60]]\n",
            "Accuracy :  68.0365296803653\n",
            "Report :                precision    recall  f1-score   support\n",
            "\n",
            "           0       0.98      0.67      0.80      1457\n",
            "           1       0.11      0.79      0.20        76\n",
            "\n",
            "    accuracy                           0.68      1533\n",
            "   macro avg       0.55      0.73      0.50      1533\n",
            "weighted avg       0.94      0.68      0.77      1533\n",
            "\n",
            "68.0365296803653\n"
          ]
        }
      ]
    },
    {
      "cell_type": "code",
      "source": [
        "\n",
        "colors = [\"purple\", \"green\", \"orange\", \"magenta\",\"#CFC60E\",'blue','brown']\n",
        "\n",
        "sns.set_style(\"whitegrid\")\n",
        "plt.figure(figsize=(20,5))\n",
        "plt.yticks(np.arange(0,100,10))\n",
        "plt.xticks(fontsize= 16)\n",
        "plt.ylabel(\"Accuracy %\")\n",
        "plt.xlabel(\"Algorithms\")\n",
        "sns.barplot(x=list(accuracies.keys()), y=list(accuracies.values()), palette=colors)\n",
        "plt.show()"
      ],
      "metadata": {
        "colab": {
          "base_uri": "https://localhost:8080/",
          "height": 349
        },
        "id": "X9nCVsyewroA",
        "outputId": "a70dbc3e-e7f8-4e10-ec34-e6162a94a731"
      },
      "execution_count": 47,
      "outputs": [
        {
          "output_type": "display_data",
          "data": {
            "text/plain": [
              "<Figure size 1440x360 with 1 Axes>"
            ],
            "image/png": "[encoded data removed]"
          },
          "metadata": {}
        }
      ]
    }
  ],
  "metadata": {
    "colab": {
      "collapsed_sections": [],
      "name": "Predictive Analytics.ipynb",
      "provenance": [],
      "include_colab_link": true
    },
    "kernelspec": {
      "display_name": "Python 3",
      "name": "python3"
    },
    "language_info": {
      "name": "python"
    }
  },
  "nbformat": 4,
  "nbformat_minor": 0
}